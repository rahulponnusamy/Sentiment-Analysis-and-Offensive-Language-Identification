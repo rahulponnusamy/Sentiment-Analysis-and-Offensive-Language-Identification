{
  "nbformat": 4,
  "nbformat_minor": 0,
  "metadata": {
    "colab": {
      "name": "Base Models of Sentiment analysis-tamilcodemix.ipynb",
      "provenance": [],
      "collapsed_sections": []
    },
    "kernelspec": {
      "display_name": "Python 3",
      "language": "python",
      "name": "python3"
    },
    "language_info": {
      "codemirror_mode": {
        "name": "ipython",
        "version": 3
      },
      "file_extension": ".py",
      "mimetype": "text/x-python",
      "name": "python",
      "nbconvert_exporter": "python",
      "pygments_lexer": "ipython3",
      "version": "3.8.8"
    }
  },
  "cells": [
    {
      "cell_type": "markdown",
      "metadata": {
        "id": "ilWJYw_ypqQ6"
      },
      "source": [
        "## importing packages"
      ]
    },
    {
      "cell_type": "code",
      "metadata": {
        "colab": {
          "base_uri": "https://localhost:8080/"
        },
        "id": "gQ_VyPAfpqRM",
        "outputId": "03a49bf0-36bc-4ece-f356-011e5d51f27a"
      },
      "source": [
        "#importing necessary packages\n",
        "import pandas as pd\n",
        "import numpy as np\n",
        "import matplotlib.pyplot as plt\n",
        "from sklearn.feature_extraction.text import TfidfVectorizer"
      ],
      "execution_count": null,
      "outputs": [
        {
          "output_type": "stream",
          "text": [
            "[nltk_data] Downloading package punkt to /root/nltk_data...\n",
            "[nltk_data]   Package punkt is already up-to-date!\n"
          ],
          "name": "stdout"
        }
      ]
    },
    {
      "cell_type": "code",
      "metadata": {
        "colab": {
          "base_uri": "https://localhost:8080/"
        },
        "id": "H2UQ4xa2eRgt",
        "outputId": "07ff0f86-765d-4de4-cec9-6d385c7d6a0d"
      },
      "source": [
        "from google.colab import drive\n",
        "drive.mount('/content/drive')"
      ],
      "execution_count": null,
      "outputs": [
        {
          "output_type": "stream",
          "text": [
            "Mounted at /content/drive\n"
          ],
          "name": "stdout"
        }
      ]
    },
    {
      "cell_type": "code",
      "metadata": {
        "id": "XkHI6qjzp7gi"
      },
      "source": [
        "#importing datasets\n",
        "train=pd.read_csv('/content/drive/MyDrive/project/main/Trials/Dataset/tamil_sentiment_full_train.tsv',sep='\\t')\n",
        "dev=pd.read_csv('/content/drive/MyDrive/project/main/Trials/Dataset/tamil_sentiment_full_dev.tsv',sep='\\t')\n",
        "test=pd.read_csv('/content/drive/MyDrive/project/main/Trials/Dataset/tamil_sentiment_full_test_withoutlabels.tsv',sep='\\t')"
      ],
      "execution_count": null,
      "outputs": []
    },
    {
      "cell_type": "markdown",
      "metadata": {
        "id": "kRsruUTlMlfG"
      },
      "source": [
        "# Fitting data"
      ]
    },
    {
      "cell_type": "code",
      "metadata": {
        "colab": {
          "base_uri": "https://localhost:8080/",
          "height": 561
        },
        "id": "7ccuZO_GQld3",
        "outputId": "911da2ae-3636-426a-cc6b-4347ccc41aff"
      },
      "source": [
        "#Fitting Labels\n",
        "train['category'] = train['category'].str.strip()\n",
        "\n",
        "#Visualizing datas\n",
        "Labels =  train['category'].unique()\n",
        "count =   train['category'].value_counts()\n",
        "  \n",
        "fig = plt.figure(figsize = (10, 7))\n",
        "\n",
        "# creating the bar plot\n",
        "plt.bar(Labels, count, color ='red',  width = 0.4)\n",
        " \n",
        "plt.xlabel(\"Labels\")\n",
        "plt.ylabel(\"No. of Labels\")\n",
        "plt.title(\"Dataframe statistics\")\n",
        "plt.show()\n",
        "\n",
        "#Label counts\n",
        "train['category'].value_counts()"
      ],
      "execution_count": null,
      "outputs": [
        {
          "output_type": "display_data",
          "data": {
            "image/png": "[encoded data removed]",
            "text/plain": [
              "<Figure size 720x504 with 1 Axes>"
            ]
          },
          "metadata": {
            "tags": []
          }
        },
        {
          "output_type": "execute_result",
          "data": {
            "text/plain": [
              "Positive          20070\n",
              "unknown_state      5628\n",
              "Negative           4271\n",
              "Mixed_feelings     4020\n",
              "not-Tamil          1667\n",
              "Name: category, dtype: int64"
            ]
          },
          "metadata": {
            "tags": []
          },
          "execution_count": 4
        }
      ]
    },
    {
      "cell_type": "code",
      "metadata": {
        "id": "vS_au46ZQy5d"
      },
      "source": [
        "#removing punctuations\n",
        "import string\n",
        "def remove_punctuations(txt):\n",
        "    text_nopunc=\"\".join([c for c in txt if c not in string.punctuation])\n",
        "    return text_nopunc\n",
        "\n",
        "train['text']=train['text'].apply(lambda x: remove_punctuations(x))\n",
        "\n"
      ],
      "execution_count": null,
      "outputs": []
    },
    {
      "cell_type": "markdown",
      "metadata": {
        "id": "XckzBVCdV6fc"
      },
      "source": [
        "# Preprocessing data"
      ]
    },
    {
      "cell_type": "code",
      "metadata": {
        "id": "OwCQifU0P4-N"
      },
      "source": [
        "#Label encoder\n",
        "from sklearn.preprocessing import LabelEncoder\n",
        "Encoder = LabelEncoder()\n",
        "train['category']=Encoder.fit_transform(train['category'])\n",
        "dev['category']= Encoder.fit_transform(dev['category'])"
      ],
      "execution_count": null,
      "outputs": []
    },
    {
      "cell_type": "code",
      "metadata": {
        "colab": {
          "base_uri": "https://localhost:8080/"
        },
        "id": "D0uFnD5rQ6ZX",
        "outputId": "c51a65b4-d2ca-4479-9ecc-47d2a0886476"
      },
      "source": [
        "train['category'].value_counts()"
      ],
      "execution_count": null,
      "outputs": [
        {
          "output_type": "execute_result",
          "data": {
            "text/plain": [
              "2    20070\n",
              "4     5628\n",
              "1     4271\n",
              "0     4020\n",
              "3     1667\n",
              "Name: category, dtype: int64"
            ]
          },
          "metadata": {
            "tags": []
          },
          "execution_count": 9
        }
      ]
    },
    {
      "cell_type": "markdown",
      "metadata": {
        "id": "pllgOoejia69"
      },
      "source": [
        "# Feature extraction  -  **tfidf**"
      ]
    },
    {
      "cell_type": "code",
      "metadata": {
        "id": "CozdmxLjw--_"
      },
      "source": [
        "#TfidfVectorizer\n",
        "\n",
        "tfidf = TfidfVectorizer(max_features=2000)\n",
        "train_tfidf = tfidf.fit_transform(train['text']).toarray()\n",
        "dev_tfidf = tfidf.transform(dev['text']).toarray()\n",
        "test_tfidf = tfidf.transform(test['text']).toarray()"
      ],
      "execution_count": null,
      "outputs": []
    },
    {
      "cell_type": "code",
      "metadata": {
        "id": "fjzQF-A_shPY"
      },
      "source": [
        "#spliting datas for training\n",
        "\n",
        "X_train = train_tfidf\n",
        "y_train = train['category']\n",
        "X_dev = dev_tfidf\n",
        "y_dev = dev['category']\n",
        "X_test = test_tfidf"
      ],
      "execution_count": null,
      "outputs": []
    },
    {
      "cell_type": "markdown",
      "metadata": {
        "id": "XQddmXmjyw-K"
      },
      "source": [
        "# model"
      ]
    },
    {
      "cell_type": "markdown",
      "metadata": {
        "id": "hmqOoRqr9LH6"
      },
      "source": [
        "## SVM"
      ]
    },
    {
      "cell_type": "code",
      "metadata": {
        "colab": {
          "background_save": true
        },
        "id": "hzcsGGLVB8q2"
      },
      "source": [
        "#SVM\n",
        "from sklearn.svm import SVC\n",
        "SVM = SVC(C=1.0, kernel = 'linear', degree = 3, gamma = 'auto')\n",
        "SVM.fit(X_train, y_train)\n",
        "y_pred_svm = SVM.predict(X_dev)"
      ],
      "execution_count": null,
      "outputs": []
    },
    {
      "cell_type": "code",
      "metadata": {
        "id": "D8c7OJyIB8oE"
      },
      "source": [
        "#Evluating SVM Model\n",
        "from sklearn.metrics import classification_report,confusion_matrix\n",
        "print(confusion_matrix(y_dev,y_pred)) #used to see the accuracy of th\n",
        "print(classification_report(y_dev, y_pred_svm))\n"
      ],
      "execution_count": null,
      "outputs": []
    },
    {
      "cell_type": "code",
      "metadata": {
        "id": "xqLw3Pz2SR1W"
      },
      "source": [
        "#predicting test dataset\n",
        "y_pred_test_svm= SVM.predict(X_test)"
      ],
      "execution_count": null,
      "outputs": []
    },
    {
      "cell_type": "markdown",
      "metadata": {
        "id": "4pv-tPUK9OTv"
      },
      "source": [
        "## Naive Bayes"
      ]
    },
    {
      "cell_type": "code",
      "metadata": {
        "id": "94rw5u46B8lK"
      },
      "source": [
        "#Naive Bayes Classifier\n",
        "from sklearn.naive_bayes import MultinomialNB\n",
        "NB_tfidf = MultinomialNB()\n",
        "NB_tfidf.fit(X_train, y_train)\n",
        "NB_pred_tfidf_dev = NB_tfidf.predict(X_dev)"
      ],
      "execution_count": null,
      "outputs": []
    },
    {
      "cell_type": "code",
      "metadata": {
        "colab": {
          "base_uri": "https://localhost:8080/"
        },
        "id": "_s-fUvGxB8il",
        "outputId": "3c8ed187-4f94-4b46-da0e-75f110c16d53"
      },
      "source": [
        "# Evaluating Naive Bayes Classifier\n",
        "from sklearn.metrics import classification_report,confusion_matrix\n",
        "print(confusion_matrix(y_dev, NB_pred_tfidf_dev)) #used to see the accuracy of th\n",
        "print(classification_report(y_dev,NB_pred_tfidf_dev))\n"
      ],
      "execution_count": null,
      "outputs": [
        {
          "output_type": "stream",
          "text": [
            "[[  33   49  324    6   26]\n",
            " [  15  121  315    5   24]\n",
            " [  17   51 2119   11   59]\n",
            " [   0    1   89   78    8]\n",
            " [  22   37  422    7  123]]\n",
            "              precision    recall  f1-score   support\n",
            "\n",
            "           0       0.38      0.08      0.13       438\n",
            "           1       0.47      0.25      0.33       480\n",
            "           2       0.65      0.94      0.77      2257\n",
            "           3       0.73      0.44      0.55       176\n",
            "           4       0.51      0.20      0.29       611\n",
            "\n",
            "    accuracy                           0.62      3962\n",
            "   macro avg       0.55      0.38      0.41      3962\n",
            "weighted avg       0.58      0.62      0.56      3962\n",
            "\n"
          ],
          "name": "stdout"
        }
      ]
    },
    {
      "cell_type": "code",
      "metadata": {
        "id": "dk5Xf0NMfDlW"
      },
      "source": [
        "#predicting test data\n",
        "NB_pred_tfidf_test = NB_tfidf.predict(X_test)"
      ],
      "execution_count": null,
      "outputs": []
    },
    {
      "cell_type": "markdown",
      "metadata": {
        "id": "hSBYbsQ-WyMs"
      },
      "source": [
        "## Random Forest"
      ]
    },
    {
      "cell_type": "code",
      "metadata": {
        "id": "rO1bo9LBXbFu"
      },
      "source": [
        "from sklearn.preprocessing import StandardScaler\n",
        "sc_X = StandardScaler(with_mean=False)\n",
        "X_Train_RF = sc_X.fit_transform(X_train)\n",
        "X_dev_RF = sc_X.transform(X_dev)\n",
        "X_test_RF = sc_X.transform(X_test)\n",
        "\n",
        "#Classifier\n",
        "from sklearn.ensemble import RandomForestClassifier\n",
        "classifier = RandomForestClassifier(n_estimators = 100, criterion = 'entropy', random_state = 0)\n",
        "classifier.fit(X_Train_RF,y_train)\n",
        "\n",
        "# Predicting the dev set \n",
        "Y_Pred = classifier.predict(X_dev_RF)"
      ],
      "execution_count": null,
      "outputs": []
    },
    {
      "cell_type": "code",
      "metadata": {
        "colab": {
          "base_uri": "https://localhost:8080/"
        },
        "id": "5rd7z8hLZMsz",
        "outputId": "4bd30cf8-7b2e-453d-ef88-a11496ab0ce2"
      },
      "source": [
        "# Evaluating Random Forest\n",
        "from sklearn.metrics import classification_report,confusion_matrix\n",
        "print(confusion_matrix(y_dev,Y_Pred)) #used to see the accuracy of th\n",
        "print(classification_report(y_dev,Y_Pred))"
      ],
      "execution_count": null,
      "outputs": [
        {
          "output_type": "stream",
          "text": [
            "[[  24   26  343    7   38]\n",
            " [  16  102  325    8   29]\n",
            " [  30   45 2063   25   94]\n",
            " [   1    4   78   84    9]\n",
            " [  14   33  376   14  174]]\n",
            "              precision    recall  f1-score   support\n",
            "\n",
            "           0       0.28      0.05      0.09       438\n",
            "           1       0.49      0.21      0.30       480\n",
            "           2       0.65      0.91      0.76      2257\n",
            "           3       0.61      0.48      0.54       176\n",
            "           4       0.51      0.28      0.36       611\n",
            "\n",
            "    accuracy                           0.62      3962\n",
            "   macro avg       0.51      0.39      0.41      3962\n",
            "weighted avg       0.56      0.62      0.56      3962\n",
            "\n"
          ],
          "name": "stdout"
        }
      ]
    },
    {
      "cell_type": "code",
      "metadata": {
        "id": "zGGOXlg9cfnP"
      },
      "source": [
        "#predicting test data\n",
        "Y_Pred = classifier.predict(X_test_RF)"
      ],
      "execution_count": null,
      "outputs": []
    }
  ]
}