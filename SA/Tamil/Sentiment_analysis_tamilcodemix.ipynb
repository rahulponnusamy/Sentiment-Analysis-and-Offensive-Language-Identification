{
  "nbformat": 4,
  "nbformat_minor": 0,
  "metadata": {
    "kernelspec": {
      "display_name": "Python 3",
      "language": "python",
      "name": "python3"
    },
    "language_info": {
      "codemirror_mode": {
        "name": "ipython",
        "version": 3
      },
      "file_extension": ".py",
      "mimetype": "text/x-python",
      "name": "python",
      "nbconvert_exporter": "python",
      "pygments_lexer": "ipython3",
      "version": "3.8.8"
    },
    "colab": {
      "name": "Sentiment analysis-tamilcodemix.ipynb",
      "provenance": [],
      "collapsed_sections": []
    },
    "accelerator": "GPU"
  },
  "cells": [
    {
      "cell_type": "markdown",
      "metadata": {
        "id": "ilWJYw_ypqQ6"
      },
      "source": [
        "## importing packages"
      ]
    },
    {
      "cell_type": "code",
      "metadata": {
        "id": "gQ_VyPAfpqRM"
      },
      "source": [
        "#importing necessary packages\n",
        "import pandas as pd\n",
        "import numpy as np\n",
        "import matplotlib.pyplot as plt\n",
        "\n",
        "\n",
        "#keras\n",
        "from keras import *\n",
        "from keras.preprocessing import sequence\n",
        "from keras.models import Sequential\n",
        "from keras.layers import Dense, Embedding, LSTM\n",
        "from keras.optimizers import  Adam\n",
        "from keras import regularizers"
      ],
      "execution_count": 23,
      "outputs": []
    },
    {
      "cell_type": "code",
      "metadata": {
        "colab": {
          "base_uri": "https://localhost:8080/"
        },
        "id": "H2UQ4xa2eRgt",
        "outputId": "d8c396ad-8955-4d3d-d522-8c4be48616da"
      },
      "source": [
        "from google.colab import drive\n",
        "drive.mount('/content/drive')"
      ],
      "execution_count": 24,
      "outputs": [
        {
          "output_type": "stream",
          "text": [
            "Drive already mounted at /content/drive; to attempt to forcibly remount, call drive.mount(\"/content/drive\", force_remount=True).\n"
          ],
          "name": "stdout"
        }
      ]
    },
    {
      "cell_type": "markdown",
      "metadata": {
        "id": "cgQDvezuXJXh"
      },
      "source": [
        "## Precessing with datas"
      ]
    },
    {
      "cell_type": "code",
      "metadata": {
        "id": "XkHI6qjzp7gi"
      },
      "source": [
        "#importing datasets\n",
        "train=pd.read_csv('/content/drive/MyDrive/project/main/Trials/Dataset/tamil_sentiment_full_train.tsv',sep='\\t')\n",
        "dev=pd.read_csv('/content/drive/MyDrive/project/main/Trials/Dataset/tamil_sentiment_full_dev.tsv',sep='\\t')\n",
        "test=pd.read_csv('/content/drive/MyDrive/project/main/Trials/Dataset/tamil_sentiment_full_test_withoutlabels.tsv',sep='\\t')"
      ],
      "execution_count": 25,
      "outputs": []
    },
    {
      "cell_type": "code",
      "metadata": {
        "colab": {
          "base_uri": "https://localhost:8080/",
          "height": 567
        },
        "id": "dmJePYlXKiyi",
        "outputId": "cd4f85f8-2388-4b31-b10e-f07d511a94dc"
      },
      "source": [
        "#Fitting Labels\n",
        "train['category'] = train['category'].str.strip()\n",
        "\n",
        "#Visualizing datas\n",
        "Labels =  train['category'].unique()\n",
        "count =   train['category'].value_counts()\n",
        "  \n",
        "fig = plt.figure(figsize = (10, 7))\n",
        "\n",
        "# creating the bar plot\n",
        "plt.bar(Labels, count, color ='red',  width = 0.4)\n",
        " \n",
        "plt.xlabel(\"Labels\")\n",
        "plt.ylabel(\"No. of Labels\")\n",
        "plt.title(\"Dataframe statistics\")\n",
        "plt.show()\n",
        "\n",
        "#Label counts\n",
        "train['category'].value_counts()"
      ],
      "execution_count": 26,
      "outputs": [
        {
          "output_type": "display_data",
          "data": {
            "image/png": "[encoded data removed]",
            "text/plain": [
              "<Figure size 720x504 with 1 Axes>"
            ]
          },
          "metadata": {
            "tags": [],
            "needs_background": "light"
          }
        },
        {
          "output_type": "execute_result",
          "data": {
            "text/plain": [
              "Positive          20070\n",
              "unknown_state      5628\n",
              "Negative           4271\n",
              "Mixed_feelings     4020\n",
              "not-Tamil          1667\n",
              "Name: category, dtype: int64"
            ]
          },
          "metadata": {
            "tags": []
          },
          "execution_count": 26
        }
      ]
    },
    {
      "cell_type": "code",
      "metadata": {
        "id": "wlsCeNKAKirE"
      },
      "source": [
        ""
      ],
      "execution_count": 26,
      "outputs": []
    },
    {
      "cell_type": "markdown",
      "metadata": {
        "id": "r0_3FcxCpqRk"
      },
      "source": [
        "## Removing punctuations"
      ]
    },
    {
      "cell_type": "code",
      "metadata": {
        "id": "Ivjg-TzApqRk"
      },
      "source": [
        "#removing punctuations\n",
        "import string\n",
        "def remove_punctuations(txt):\n",
        "    text_nopunc=\"\".join([c for c in txt if c not in string.punctuation])\n",
        "    return text_nopunc\n",
        "\n",
        "train['text']=train['text'].apply(lambda x: remove_punctuations(x))\n",
        "\n"
      ],
      "execution_count": 27,
      "outputs": []
    },
    {
      "cell_type": "code",
      "metadata": {
        "id": "xit9OnMZK8m0"
      },
      "source": [
        "#Label encoder\n",
        "from sklearn.preprocessing import LabelEncoder\n",
        "Encoder = LabelEncoder()\n",
        "train['category']=Encoder.fit_transform(train['category'])\n",
        "dev['category']= Encoder.fit_transform(dev['category'])"
      ],
      "execution_count": 28,
      "outputs": []
    },
    {
      "cell_type": "code",
      "metadata": {
        "colab": {
          "base_uri": "https://localhost:8080/"
        },
        "id": "d-0iJqOmK_SN",
        "outputId": "63d7f246-c0c9-49a0-c605-1af64b74532d"
      },
      "source": [
        "train['category'].value_counts()"
      ],
      "execution_count": 29,
      "outputs": [
        {
          "output_type": "execute_result",
          "data": {
            "text/plain": [
              "2    20070\n",
              "4     5628\n",
              "1     4271\n",
              "0     4020\n",
              "3     1667\n",
              "Name: category, dtype: int64"
            ]
          },
          "metadata": {
            "tags": []
          },
          "execution_count": 29
        }
      ]
    },
    {
      "cell_type": "markdown",
      "metadata": {
        "id": "SlWopm5orPGV"
      },
      "source": [
        "# **Models**"
      ]
    },
    {
      "cell_type": "markdown",
      "metadata": {
        "id": "x_ftxgFNLg9S"
      },
      "source": [
        "# Multilayer Perceptron"
      ]
    },
    {
      "cell_type": "code",
      "metadata": {
        "id": "OJ0L21-xOYib"
      },
      "source": [
        "from keras.preprocessing.text import one_hot\n",
        "\n",
        "#use onehot in train\n",
        "voc_size = 1000\n",
        "\n",
        "train_onehot = [one_hot(words, voc_size)for words in train['text']]\n",
        "dev_onehot = [one_hot(words, voc_size)for words in dev['text']]\n",
        "test_onehot = [one_hot(words, voc_size)for words in test['text']]"
      ],
      "execution_count": 30,
      "outputs": []
    },
    {
      "cell_type": "code",
      "metadata": {
        "id": "mbZt1c2HOYfV"
      },
      "source": [
        "#from keras.layers import Embedding\n",
        "#from keras.models import Sequential\n",
        "from keras.preprocessing.sequence import pad_sequences\n",
        "\n",
        "sent_length=20\n",
        "embedded_train = pad_sequences(train_onehot,padding='pre',maxlen=sent_length)\n",
        "embedded_dev = pad_sequences(dev_onehot,padding='pre',maxlen=sent_length)\n",
        "embedded_test = pad_sequences(test_onehot,padding='pre',maxlen=sent_length)\n"
      ],
      "execution_count": 31,
      "outputs": []
    },
    {
      "cell_type": "code",
      "metadata": {
        "id": "Knb3Gq_EOYcc"
      },
      "source": [
        ""
      ],
      "execution_count": 31,
      "outputs": []
    },
    {
      "cell_type": "code",
      "metadata": {
        "id": "HeT2hX_wOXDw"
      },
      "source": [
        "\n",
        "X_train = np.array(embedded_train)\n",
        "y_train = np.array(train['category'])\n",
        "\n",
        "X_dev =  np.array(embedded_dev)\n",
        "y_dev = np.array(dev['category'])\n",
        "\n",
        "X_test =  np.array(embedded_test)\n"
      ],
      "execution_count": 35,
      "outputs": []
    },
    {
      "cell_type": "code",
      "metadata": {
        "id": "s0JxZbSZg3fQ",
        "colab": {
          "base_uri": "https://localhost:8080/"
        },
        "outputId": "01468907-c6b3-436e-ed9a-7d0edfeb8994"
      },
      "source": [
        "#Building Neural network\n",
        "\n",
        "dim = 40\n",
        "classifier = Sequential()\n",
        "\n",
        "model.add(Embedding(voc_size,dim,input_length=sent_length, trainable=True))\n",
        "# Adding the input layer and the first hidden layer\n",
        "classifier.add(Dense(units = len(train.category.value_counts()), kernel_initializer = 'uniform', activation = 'relu', input_dim = 20))\n",
        "\n",
        "# Adding the second hidden layer\n",
        "classifier.add(Dense(units = len(train.category.value_counts()), kernel_initializer = 'uniform', activation = 'relu'))\n",
        "\n",
        "# Adding the output layer\n",
        "classifier.add(Dense(units = 5, kernel_initializer = 'uniform', activation = 'softmax'))\n",
        "\n",
        "# Compiling the ANN\n",
        "#classifier.compile(optimizer = 'adam', loss = 'sparse_categorical_crossentropy', metrics = ['accuracy'])\n",
        "classifier.compile(loss='sparse_categorical_crossentropy',\n",
        "              optimizer=Adam(lr=0.001, beta_1=0.9, beta_2=0.999, epsilon=None, decay=0.0, amsgrad=False),\n",
        "              metrics=['accuracy'])\n",
        "\n",
        "# Fitting the ANN to the Training set\n",
        "history = classifier.fit(X_train, y_train, batch_size =100 , epochs = 150,validation_data=(X_dev, y_dev))\n"
      ],
      "execution_count": 36,
      "outputs": [
        {
          "output_type": "stream",
          "text": [
            "/usr/local/lib/python3.7/dist-packages/tensorflow/python/keras/optimizer_v2/optimizer_v2.py:375: UserWarning: The `lr` argument is deprecated, use `learning_rate` instead.\n",
            "  \"The `lr` argument is deprecated, use `learning_rate` instead.\")\n"
          ],
          "name": "stderr"
        },
        {
          "output_type": "stream",
          "text": [
            "Epoch 1/150\n",
            "357/357 [==============================] - 2s 4ms/step - loss: 1.4153 - accuracy: 0.5306 - val_loss: 1.2719 - val_accuracy: 0.5697\n",
            "Epoch 2/150\n",
            "357/357 [==============================] - 1s 3ms/step - loss: 1.2782 - accuracy: 0.5627 - val_loss: 1.2659 - val_accuracy: 0.5697\n",
            "Epoch 3/150\n",
            "357/357 [==============================] - 1s 3ms/step - loss: 1.2678 - accuracy: 0.5656 - val_loss: 1.2621 - val_accuracy: 0.5697\n",
            "Epoch 4/150\n",
            "357/357 [==============================] - 1s 3ms/step - loss: 1.2640 - accuracy: 0.5644 - val_loss: 1.2551 - val_accuracy: 0.5697\n",
            "Epoch 5/150\n",
            "357/357 [==============================] - 1s 3ms/step - loss: 1.2591 - accuracy: 0.5639 - val_loss: 1.2499 - val_accuracy: 0.5697\n",
            "Epoch 6/150\n",
            "357/357 [==============================] - 1s 3ms/step - loss: 1.2650 - accuracy: 0.5569 - val_loss: 1.2479 - val_accuracy: 0.5697\n",
            "Epoch 7/150\n",
            "357/357 [==============================] - 1s 3ms/step - loss: 1.2487 - accuracy: 0.5633 - val_loss: 1.2454 - val_accuracy: 0.5697\n",
            "Epoch 8/150\n",
            "357/357 [==============================] - 1s 3ms/step - loss: 1.2474 - accuracy: 0.5649 - val_loss: 1.2434 - val_accuracy: 0.5697\n",
            "Epoch 9/150\n",
            "357/357 [==============================] - 1s 3ms/step - loss: 1.2459 - accuracy: 0.5647 - val_loss: 1.2411 - val_accuracy: 0.5697\n",
            "Epoch 10/150\n",
            "357/357 [==============================] - 1s 3ms/step - loss: 1.2456 - accuracy: 0.5645 - val_loss: 1.2423 - val_accuracy: 0.5697\n",
            "Epoch 11/150\n",
            "357/357 [==============================] - 1s 3ms/step - loss: 1.2493 - accuracy: 0.5637 - val_loss: 1.2409 - val_accuracy: 0.5697\n",
            "Epoch 12/150\n",
            "357/357 [==============================] - 1s 3ms/step - loss: 1.2472 - accuracy: 0.5622 - val_loss: 1.2408 - val_accuracy: 0.5697\n",
            "Epoch 13/150\n",
            "357/357 [==============================] - 1s 3ms/step - loss: 1.2525 - accuracy: 0.5617 - val_loss: 1.2402 - val_accuracy: 0.5697\n",
            "Epoch 14/150\n",
            "357/357 [==============================] - 1s 3ms/step - loss: 1.2475 - accuracy: 0.5632 - val_loss: 1.2396 - val_accuracy: 0.5697\n",
            "Epoch 15/150\n",
            "357/357 [==============================] - 1s 3ms/step - loss: 1.2503 - accuracy: 0.5622 - val_loss: 1.2401 - val_accuracy: 0.5697\n",
            "Epoch 16/150\n",
            "357/357 [==============================] - 1s 3ms/step - loss: 1.2445 - accuracy: 0.5642 - val_loss: 1.2399 - val_accuracy: 0.5697\n",
            "Epoch 17/150\n",
            "357/357 [==============================] - 1s 3ms/step - loss: 1.2485 - accuracy: 0.5615 - val_loss: 1.2401 - val_accuracy: 0.5697\n",
            "Epoch 18/150\n",
            "357/357 [==============================] - 1s 3ms/step - loss: 1.2503 - accuracy: 0.5612 - val_loss: 1.2393 - val_accuracy: 0.5697\n",
            "Epoch 19/150\n",
            "357/357 [==============================] - 1s 3ms/step - loss: 1.2409 - accuracy: 0.5668 - val_loss: 1.2398 - val_accuracy: 0.5697\n",
            "Epoch 20/150\n",
            "357/357 [==============================] - 1s 3ms/step - loss: 1.2390 - accuracy: 0.5684 - val_loss: 1.2406 - val_accuracy: 0.5697\n",
            "Epoch 21/150\n",
            "357/357 [==============================] - 1s 3ms/step - loss: 1.2476 - accuracy: 0.5612 - val_loss: 1.2403 - val_accuracy: 0.5697\n",
            "Epoch 22/150\n",
            "357/357 [==============================] - 1s 3ms/step - loss: 1.2458 - accuracy: 0.5635 - val_loss: 1.2393 - val_accuracy: 0.5697\n",
            "Epoch 23/150\n",
            "357/357 [==============================] - 1s 3ms/step - loss: 1.2498 - accuracy: 0.5613 - val_loss: 1.2413 - val_accuracy: 0.5697\n",
            "Epoch 24/150\n",
            "357/357 [==============================] - 1s 3ms/step - loss: 1.2396 - accuracy: 0.5672 - val_loss: 1.2406 - val_accuracy: 0.5697\n",
            "Epoch 25/150\n",
            "357/357 [==============================] - 1s 3ms/step - loss: 1.2421 - accuracy: 0.5658 - val_loss: 1.2410 - val_accuracy: 0.5697\n",
            "Epoch 26/150\n",
            "357/357 [==============================] - 1s 3ms/step - loss: 1.2501 - accuracy: 0.5585 - val_loss: 1.2424 - val_accuracy: 0.5697\n",
            "Epoch 27/150\n",
            "357/357 [==============================] - 1s 3ms/step - loss: 1.2439 - accuracy: 0.5647 - val_loss: 1.2400 - val_accuracy: 0.5697\n",
            "Epoch 28/150\n",
            "357/357 [==============================] - 1s 3ms/step - loss: 1.2579 - accuracy: 0.5552 - val_loss: 1.2411 - val_accuracy: 0.5697\n",
            "Epoch 29/150\n",
            "357/357 [==============================] - 1s 3ms/step - loss: 1.2480 - accuracy: 0.5631 - val_loss: 1.2410 - val_accuracy: 0.5697\n",
            "Epoch 30/150\n",
            "357/357 [==============================] - 1s 3ms/step - loss: 1.2394 - accuracy: 0.5678 - val_loss: 1.2391 - val_accuracy: 0.5697\n",
            "Epoch 31/150\n",
            "357/357 [==============================] - 1s 3ms/step - loss: 1.2437 - accuracy: 0.5635 - val_loss: 1.2401 - val_accuracy: 0.5697\n",
            "Epoch 32/150\n",
            "357/357 [==============================] - 1s 3ms/step - loss: 1.2429 - accuracy: 0.5643 - val_loss: 1.2401 - val_accuracy: 0.5697\n",
            "Epoch 33/150\n",
            "357/357 [==============================] - 1s 3ms/step - loss: 1.2457 - accuracy: 0.5627 - val_loss: 1.2419 - val_accuracy: 0.5697\n",
            "Epoch 34/150\n",
            "357/357 [==============================] - 1s 3ms/step - loss: 1.2405 - accuracy: 0.5660 - val_loss: 1.2417 - val_accuracy: 0.5697\n",
            "Epoch 35/150\n",
            "357/357 [==============================] - 1s 3ms/step - loss: 1.2461 - accuracy: 0.5621 - val_loss: 1.2406 - val_accuracy: 0.5697\n",
            "Epoch 36/150\n",
            "357/357 [==============================] - 1s 3ms/step - loss: 1.2460 - accuracy: 0.5623 - val_loss: 1.2410 - val_accuracy: 0.5697\n",
            "Epoch 37/150\n",
            "357/357 [==============================] - 1s 3ms/step - loss: 1.2498 - accuracy: 0.5607 - val_loss: 1.2405 - val_accuracy: 0.5697\n",
            "Epoch 38/150\n",
            "357/357 [==============================] - 1s 3ms/step - loss: 1.2435 - accuracy: 0.5649 - val_loss: 1.2400 - val_accuracy: 0.5697\n",
            "Epoch 39/150\n",
            "357/357 [==============================] - 1s 3ms/step - loss: 1.2472 - accuracy: 0.5633 - val_loss: 1.2408 - val_accuracy: 0.5697\n",
            "Epoch 40/150\n",
            "357/357 [==============================] - 1s 3ms/step - loss: 1.2414 - accuracy: 0.5654 - val_loss: 1.2398 - val_accuracy: 0.5697\n",
            "Epoch 41/150\n",
            "357/357 [==============================] - 1s 3ms/step - loss: 1.2446 - accuracy: 0.5635 - val_loss: 1.2394 - val_accuracy: 0.5697\n",
            "Epoch 42/150\n",
            "357/357 [==============================] - 1s 3ms/step - loss: 1.2507 - accuracy: 0.5594 - val_loss: 1.2391 - val_accuracy: 0.5697\n",
            "Epoch 43/150\n",
            "357/357 [==============================] - 1s 3ms/step - loss: 1.2466 - accuracy: 0.5632 - val_loss: 1.2402 - val_accuracy: 0.5697\n",
            "Epoch 44/150\n",
            "357/357 [==============================] - 1s 3ms/step - loss: 1.2418 - accuracy: 0.5668 - val_loss: 1.2399 - val_accuracy: 0.5697\n",
            "Epoch 45/150\n",
            "357/357 [==============================] - 1s 3ms/step - loss: 1.2500 - accuracy: 0.5612 - val_loss: 1.2399 - val_accuracy: 0.5697\n",
            "Epoch 46/150\n",
            "357/357 [==============================] - 1s 3ms/step - loss: 1.2531 - accuracy: 0.5593 - val_loss: 1.2396 - val_accuracy: 0.5697\n",
            "Epoch 47/150\n",
            "357/357 [==============================] - 1s 3ms/step - loss: 1.2540 - accuracy: 0.5584 - val_loss: 1.2408 - val_accuracy: 0.5697\n",
            "Epoch 48/150\n",
            "357/357 [==============================] - 1s 3ms/step - loss: 1.2541 - accuracy: 0.5579 - val_loss: 1.2401 - val_accuracy: 0.5697\n",
            "Epoch 49/150\n",
            "357/357 [==============================] - 1s 3ms/step - loss: 1.2476 - accuracy: 0.5625 - val_loss: 1.2422 - val_accuracy: 0.5697\n",
            "Epoch 50/150\n",
            "357/357 [==============================] - 1s 3ms/step - loss: 1.2470 - accuracy: 0.5624 - val_loss: 1.2397 - val_accuracy: 0.5697\n",
            "Epoch 51/150\n",
            "357/357 [==============================] - 1s 3ms/step - loss: 1.2490 - accuracy: 0.5628 - val_loss: 1.2412 - val_accuracy: 0.5697\n",
            "Epoch 52/150\n",
            "357/357 [==============================] - 1s 3ms/step - loss: 1.2493 - accuracy: 0.5615 - val_loss: 1.2402 - val_accuracy: 0.5697\n",
            "Epoch 53/150\n",
            "357/357 [==============================] - 1s 3ms/step - loss: 1.2425 - accuracy: 0.5662 - val_loss: 1.2411 - val_accuracy: 0.5697\n",
            "Epoch 54/150\n",
            "357/357 [==============================] - 1s 3ms/step - loss: 1.2475 - accuracy: 0.5616 - val_loss: 1.2403 - val_accuracy: 0.5697\n",
            "Epoch 55/150\n",
            "357/357 [==============================] - 1s 3ms/step - loss: 1.2459 - accuracy: 0.5629 - val_loss: 1.2392 - val_accuracy: 0.5697\n",
            "Epoch 56/150\n",
            "357/357 [==============================] - 1s 3ms/step - loss: 1.2446 - accuracy: 0.5637 - val_loss: 1.2401 - val_accuracy: 0.5697\n",
            "Epoch 57/150\n",
            "357/357 [==============================] - 1s 3ms/step - loss: 1.2469 - accuracy: 0.5623 - val_loss: 1.2399 - val_accuracy: 0.5697\n",
            "Epoch 58/150\n",
            "357/357 [==============================] - 1s 3ms/step - loss: 1.2479 - accuracy: 0.5615 - val_loss: 1.2400 - val_accuracy: 0.5697\n",
            "Epoch 59/150\n",
            "357/357 [==============================] - 1s 3ms/step - loss: 1.2523 - accuracy: 0.5594 - val_loss: 1.2394 - val_accuracy: 0.5697\n",
            "Epoch 60/150\n",
            "357/357 [==============================] - 1s 3ms/step - loss: 1.2440 - accuracy: 0.5628 - val_loss: 1.2393 - val_accuracy: 0.5697\n",
            "Epoch 61/150\n",
            "357/357 [==============================] - 1s 3ms/step - loss: 1.2509 - accuracy: 0.5583 - val_loss: 1.2399 - val_accuracy: 0.5697\n",
            "Epoch 62/150\n",
            "357/357 [==============================] - 1s 3ms/step - loss: 1.2456 - accuracy: 0.5623 - val_loss: 1.2405 - val_accuracy: 0.5697\n",
            "Epoch 63/150\n",
            "357/357 [==============================] - 1s 3ms/step - loss: 1.2407 - accuracy: 0.5661 - val_loss: 1.2398 - val_accuracy: 0.5697\n",
            "Epoch 64/150\n",
            "357/357 [==============================] - 1s 3ms/step - loss: 1.2454 - accuracy: 0.5610 - val_loss: 1.2398 - val_accuracy: 0.5697\n",
            "Epoch 65/150\n",
            "357/357 [==============================] - 1s 3ms/step - loss: 1.2505 - accuracy: 0.5609 - val_loss: 1.2396 - val_accuracy: 0.5697\n",
            "Epoch 66/150\n",
            "357/357 [==============================] - 1s 3ms/step - loss: 1.2435 - accuracy: 0.5638 - val_loss: 1.2399 - val_accuracy: 0.5697\n",
            "Epoch 67/150\n",
            "357/357 [==============================] - 1s 3ms/step - loss: 1.2459 - accuracy: 0.5613 - val_loss: 1.2390 - val_accuracy: 0.5697\n",
            "Epoch 68/150\n",
            "357/357 [==============================] - 1s 3ms/step - loss: 1.2502 - accuracy: 0.5616 - val_loss: 1.2390 - val_accuracy: 0.5697\n",
            "Epoch 69/150\n",
            "357/357 [==============================] - 1s 3ms/step - loss: 1.2464 - accuracy: 0.5628 - val_loss: 1.2404 - val_accuracy: 0.5697\n",
            "Epoch 70/150\n",
            "357/357 [==============================] - 1s 3ms/step - loss: 1.2398 - accuracy: 0.5667 - val_loss: 1.2392 - val_accuracy: 0.5697\n",
            "Epoch 71/150\n",
            "357/357 [==============================] - 1s 3ms/step - loss: 1.2431 - accuracy: 0.5643 - val_loss: 1.2389 - val_accuracy: 0.5697\n",
            "Epoch 72/150\n",
            "357/357 [==============================] - 1s 3ms/step - loss: 1.2440 - accuracy: 0.5647 - val_loss: 1.2389 - val_accuracy: 0.5697\n",
            "Epoch 73/150\n",
            "357/357 [==============================] - 1s 3ms/step - loss: 1.2440 - accuracy: 0.5635 - val_loss: 1.2390 - val_accuracy: 0.5697\n",
            "Epoch 74/150\n",
            "357/357 [==============================] - 1s 3ms/step - loss: 1.2411 - accuracy: 0.5650 - val_loss: 1.2391 - val_accuracy: 0.5697\n",
            "Epoch 75/150\n",
            "357/357 [==============================] - 1s 3ms/step - loss: 1.2437 - accuracy: 0.5639 - val_loss: 1.2389 - val_accuracy: 0.5697\n",
            "Epoch 76/150\n",
            "357/357 [==============================] - 1s 3ms/step - loss: 1.2404 - accuracy: 0.5666 - val_loss: 1.2399 - val_accuracy: 0.5697\n",
            "Epoch 77/150\n",
            "357/357 [==============================] - 1s 3ms/step - loss: 1.2462 - accuracy: 0.5616 - val_loss: 1.2386 - val_accuracy: 0.5697\n",
            "Epoch 78/150\n",
            "357/357 [==============================] - 1s 3ms/step - loss: 1.2500 - accuracy: 0.5610 - val_loss: 1.2388 - val_accuracy: 0.5697\n",
            "Epoch 79/150\n",
            "357/357 [==============================] - 1s 3ms/step - loss: 1.2552 - accuracy: 0.5582 - val_loss: 1.2394 - val_accuracy: 0.5697\n",
            "Epoch 80/150\n",
            "357/357 [==============================] - 1s 3ms/step - loss: 1.2444 - accuracy: 0.5654 - val_loss: 1.2397 - val_accuracy: 0.5697\n",
            "Epoch 81/150\n",
            "357/357 [==============================] - 1s 3ms/step - loss: 1.2479 - accuracy: 0.5614 - val_loss: 1.2385 - val_accuracy: 0.5697\n",
            "Epoch 82/150\n",
            "357/357 [==============================] - 1s 3ms/step - loss: 1.2347 - accuracy: 0.5693 - val_loss: 1.2396 - val_accuracy: 0.5697\n",
            "Epoch 83/150\n",
            "357/357 [==============================] - 1s 3ms/step - loss: 1.2438 - accuracy: 0.5626 - val_loss: 1.2389 - val_accuracy: 0.5697\n",
            "Epoch 84/150\n",
            "357/357 [==============================] - 1s 3ms/step - loss: 1.2440 - accuracy: 0.5630 - val_loss: 1.2394 - val_accuracy: 0.5697\n",
            "Epoch 85/150\n",
            "357/357 [==============================] - 1s 3ms/step - loss: 1.2488 - accuracy: 0.5610 - val_loss: 1.2389 - val_accuracy: 0.5697\n",
            "Epoch 86/150\n",
            "357/357 [==============================] - 1s 3ms/step - loss: 1.2359 - accuracy: 0.5673 - val_loss: 1.2401 - val_accuracy: 0.5697\n",
            "Epoch 87/150\n",
            "357/357 [==============================] - 1s 3ms/step - loss: 1.2468 - accuracy: 0.5627 - val_loss: 1.2391 - val_accuracy: 0.5697\n",
            "Epoch 88/150\n",
            "357/357 [==============================] - 1s 3ms/step - loss: 1.2435 - accuracy: 0.5636 - val_loss: 1.2400 - val_accuracy: 0.5697\n",
            "Epoch 89/150\n",
            "357/357 [==============================] - 1s 3ms/step - loss: 1.2517 - accuracy: 0.5575 - val_loss: 1.2397 - val_accuracy: 0.5697\n",
            "Epoch 90/150\n",
            "357/357 [==============================] - 1s 3ms/step - loss: 1.2441 - accuracy: 0.5632 - val_loss: 1.2390 - val_accuracy: 0.5697\n",
            "Epoch 91/150\n",
            "357/357 [==============================] - 1s 4ms/step - loss: 1.2529 - accuracy: 0.5569 - val_loss: 1.2386 - val_accuracy: 0.5697\n",
            "Epoch 92/150\n",
            "357/357 [==============================] - 1s 3ms/step - loss: 1.2435 - accuracy: 0.5632 - val_loss: 1.2386 - val_accuracy: 0.5697\n",
            "Epoch 93/150\n",
            "357/357 [==============================] - 1s 3ms/step - loss: 1.2390 - accuracy: 0.5654 - val_loss: 1.2398 - val_accuracy: 0.5697\n",
            "Epoch 94/150\n",
            "357/357 [==============================] - 1s 3ms/step - loss: 1.2491 - accuracy: 0.5616 - val_loss: 1.2386 - val_accuracy: 0.5697\n",
            "Epoch 95/150\n",
            "357/357 [==============================] - 1s 3ms/step - loss: 1.2391 - accuracy: 0.5662 - val_loss: 1.2389 - val_accuracy: 0.5697\n",
            "Epoch 96/150\n",
            "357/357 [==============================] - 1s 3ms/step - loss: 1.2399 - accuracy: 0.5668 - val_loss: 1.2392 - val_accuracy: 0.5697\n",
            "Epoch 97/150\n",
            "357/357 [==============================] - 1s 3ms/step - loss: 1.2499 - accuracy: 0.5606 - val_loss: 1.2382 - val_accuracy: 0.5697\n",
            "Epoch 98/150\n",
            "357/357 [==============================] - 1s 3ms/step - loss: 1.2395 - accuracy: 0.5654 - val_loss: 1.2382 - val_accuracy: 0.5697\n",
            "Epoch 99/150\n",
            "357/357 [==============================] - 1s 3ms/step - loss: 1.2421 - accuracy: 0.5663 - val_loss: 1.2380 - val_accuracy: 0.5697\n",
            "Epoch 100/150\n",
            "357/357 [==============================] - 1s 4ms/step - loss: 1.2388 - accuracy: 0.5677 - val_loss: 1.2389 - val_accuracy: 0.5697\n",
            "Epoch 101/150\n",
            "357/357 [==============================] - 1s 3ms/step - loss: 1.2473 - accuracy: 0.5625 - val_loss: 1.2394 - val_accuracy: 0.5697\n",
            "Epoch 102/150\n",
            "357/357 [==============================] - 1s 3ms/step - loss: 1.2436 - accuracy: 0.5638 - val_loss: 1.2387 - val_accuracy: 0.5697\n",
            "Epoch 103/150\n",
            "357/357 [==============================] - 1s 3ms/step - loss: 1.2451 - accuracy: 0.5640 - val_loss: 1.2393 - val_accuracy: 0.5697\n",
            "Epoch 104/150\n",
            "357/357 [==============================] - 1s 3ms/step - loss: 1.2481 - accuracy: 0.5611 - val_loss: 1.2405 - val_accuracy: 0.5697\n",
            "Epoch 105/150\n",
            "357/357 [==============================] - 1s 3ms/step - loss: 1.2475 - accuracy: 0.5606 - val_loss: 1.2385 - val_accuracy: 0.5697\n",
            "Epoch 106/150\n",
            "357/357 [==============================] - 1s 3ms/step - loss: 1.2373 - accuracy: 0.5682 - val_loss: 1.2391 - val_accuracy: 0.5697\n",
            "Epoch 107/150\n",
            "357/357 [==============================] - 1s 3ms/step - loss: 1.2449 - accuracy: 0.5635 - val_loss: 1.2396 - val_accuracy: 0.5697\n",
            "Epoch 108/150\n",
            "357/357 [==============================] - 1s 3ms/step - loss: 1.2458 - accuracy: 0.5628 - val_loss: 1.2385 - val_accuracy: 0.5697\n",
            "Epoch 109/150\n",
            "357/357 [==============================] - 1s 3ms/step - loss: 1.2398 - accuracy: 0.5661 - val_loss: 1.2392 - val_accuracy: 0.5697\n",
            "Epoch 110/150\n",
            "357/357 [==============================] - 1s 3ms/step - loss: 1.2434 - accuracy: 0.5634 - val_loss: 1.2386 - val_accuracy: 0.5697\n",
            "Epoch 111/150\n",
            "357/357 [==============================] - 1s 3ms/step - loss: 1.2496 - accuracy: 0.5604 - val_loss: 1.2381 - val_accuracy: 0.5697\n",
            "Epoch 112/150\n",
            "357/357 [==============================] - 1s 3ms/step - loss: 1.2340 - accuracy: 0.5683 - val_loss: 1.2381 - val_accuracy: 0.5697\n",
            "Epoch 113/150\n",
            "357/357 [==============================] - 1s 3ms/step - loss: 1.2477 - accuracy: 0.5616 - val_loss: 1.2386 - val_accuracy: 0.5697\n",
            "Epoch 114/150\n",
            "357/357 [==============================] - 1s 3ms/step - loss: 1.2391 - accuracy: 0.5663 - val_loss: 1.2391 - val_accuracy: 0.5697\n",
            "Epoch 115/150\n",
            "357/357 [==============================] - 1s 3ms/step - loss: 1.2473 - accuracy: 0.5620 - val_loss: 1.2384 - val_accuracy: 0.5697\n",
            "Epoch 116/150\n",
            "357/357 [==============================] - 1s 3ms/step - loss: 1.2411 - accuracy: 0.5635 - val_loss: 1.2386 - val_accuracy: 0.5697\n",
            "Epoch 117/150\n",
            "357/357 [==============================] - 1s 3ms/step - loss: 1.2475 - accuracy: 0.5612 - val_loss: 1.2392 - val_accuracy: 0.5697\n",
            "Epoch 118/150\n",
            "357/357 [==============================] - 1s 3ms/step - loss: 1.2499 - accuracy: 0.5595 - val_loss: 1.2381 - val_accuracy: 0.5697\n",
            "Epoch 119/150\n",
            "357/357 [==============================] - 1s 3ms/step - loss: 1.2424 - accuracy: 0.5659 - val_loss: 1.2388 - val_accuracy: 0.5697\n",
            "Epoch 120/150\n",
            "357/357 [==============================] - 1s 3ms/step - loss: 1.2424 - accuracy: 0.5644 - val_loss: 1.2392 - val_accuracy: 0.5697\n",
            "Epoch 121/150\n",
            "357/357 [==============================] - 1s 3ms/step - loss: 1.2419 - accuracy: 0.5647 - val_loss: 1.2385 - val_accuracy: 0.5697\n",
            "Epoch 122/150\n",
            "357/357 [==============================] - 1s 3ms/step - loss: 1.2404 - accuracy: 0.5658 - val_loss: 1.2378 - val_accuracy: 0.5697\n",
            "Epoch 123/150\n",
            "357/357 [==============================] - 1s 3ms/step - loss: 1.2455 - accuracy: 0.5640 - val_loss: 1.2394 - val_accuracy: 0.5697\n",
            "Epoch 124/150\n",
            "357/357 [==============================] - 1s 3ms/step - loss: 1.2448 - accuracy: 0.5652 - val_loss: 1.2394 - val_accuracy: 0.5697\n",
            "Epoch 125/150\n",
            "357/357 [==============================] - 1s 3ms/step - loss: 1.2481 - accuracy: 0.5606 - val_loss: 1.2391 - val_accuracy: 0.5697\n",
            "Epoch 126/150\n",
            "357/357 [==============================] - 1s 3ms/step - loss: 1.2543 - accuracy: 0.5575 - val_loss: 1.2381 - val_accuracy: 0.5697\n",
            "Epoch 127/150\n",
            "357/357 [==============================] - 1s 3ms/step - loss: 1.2408 - accuracy: 0.5645 - val_loss: 1.2392 - val_accuracy: 0.5697\n",
            "Epoch 128/150\n",
            "357/357 [==============================] - 1s 3ms/step - loss: 1.2444 - accuracy: 0.5633 - val_loss: 1.2394 - val_accuracy: 0.5697\n",
            "Epoch 129/150\n",
            "357/357 [==============================] - 1s 3ms/step - loss: 1.2415 - accuracy: 0.5644 - val_loss: 1.2386 - val_accuracy: 0.5697\n",
            "Epoch 130/150\n",
            "357/357 [==============================] - 1s 3ms/step - loss: 1.2451 - accuracy: 0.5613 - val_loss: 1.2391 - val_accuracy: 0.5697\n",
            "Epoch 131/150\n",
            "357/357 [==============================] - 1s 3ms/step - loss: 1.2453 - accuracy: 0.5625 - val_loss: 1.2388 - val_accuracy: 0.5697\n",
            "Epoch 132/150\n",
            "357/357 [==============================] - 1s 3ms/step - loss: 1.2464 - accuracy: 0.5631 - val_loss: 1.2381 - val_accuracy: 0.5697\n",
            "Epoch 133/150\n",
            "357/357 [==============================] - 1s 3ms/step - loss: 1.2458 - accuracy: 0.5605 - val_loss: 1.2382 - val_accuracy: 0.5697\n",
            "Epoch 134/150\n",
            "357/357 [==============================] - 1s 3ms/step - loss: 1.2467 - accuracy: 0.5627 - val_loss: 1.2384 - val_accuracy: 0.5697\n",
            "Epoch 135/150\n",
            "357/357 [==============================] - 1s 3ms/step - loss: 1.2438 - accuracy: 0.5621 - val_loss: 1.2389 - val_accuracy: 0.5697\n",
            "Epoch 136/150\n",
            "357/357 [==============================] - 1s 3ms/step - loss: 1.2480 - accuracy: 0.5617 - val_loss: 1.2406 - val_accuracy: 0.5697\n",
            "Epoch 137/150\n",
            "357/357 [==============================] - 1s 3ms/step - loss: 1.2451 - accuracy: 0.5617 - val_loss: 1.2384 - val_accuracy: 0.5697\n",
            "Epoch 138/150\n",
            "357/357 [==============================] - 1s 3ms/step - loss: 1.2449 - accuracy: 0.5643 - val_loss: 1.2382 - val_accuracy: 0.5697\n",
            "Epoch 139/150\n",
            "357/357 [==============================] - 1s 3ms/step - loss: 1.2435 - accuracy: 0.5633 - val_loss: 1.2392 - val_accuracy: 0.5697\n",
            "Epoch 140/150\n",
            "357/357 [==============================] - 1s 3ms/step - loss: 1.2445 - accuracy: 0.5642 - val_loss: 1.2396 - val_accuracy: 0.5697\n",
            "Epoch 141/150\n",
            "357/357 [==============================] - 1s 3ms/step - loss: 1.2467 - accuracy: 0.5598 - val_loss: 1.2388 - val_accuracy: 0.5697\n",
            "Epoch 142/150\n",
            "357/357 [==============================] - 1s 3ms/step - loss: 1.2428 - accuracy: 0.5635 - val_loss: 1.2392 - val_accuracy: 0.5697\n",
            "Epoch 143/150\n",
            "357/357 [==============================] - 1s 4ms/step - loss: 1.2417 - accuracy: 0.5645 - val_loss: 1.2382 - val_accuracy: 0.5697\n",
            "Epoch 144/150\n",
            "357/357 [==============================] - 1s 3ms/step - loss: 1.2467 - accuracy: 0.5630 - val_loss: 1.2379 - val_accuracy: 0.5697\n",
            "Epoch 145/150\n",
            "357/357 [==============================] - 1s 3ms/step - loss: 1.2468 - accuracy: 0.5602 - val_loss: 1.2390 - val_accuracy: 0.5697\n",
            "Epoch 146/150\n",
            "357/357 [==============================] - 1s 3ms/step - loss: 1.2505 - accuracy: 0.5604 - val_loss: 1.2389 - val_accuracy: 0.5697\n",
            "Epoch 147/150\n",
            "357/357 [==============================] - 1s 3ms/step - loss: 1.2461 - accuracy: 0.5621 - val_loss: 1.2384 - val_accuracy: 0.5697\n",
            "Epoch 148/150\n",
            "357/357 [==============================] - 1s 3ms/step - loss: 1.2423 - accuracy: 0.5645 - val_loss: 1.2385 - val_accuracy: 0.5697\n",
            "Epoch 149/150\n",
            "357/357 [==============================] - 1s 3ms/step - loss: 1.2415 - accuracy: 0.5638 - val_loss: 1.2386 - val_accuracy: 0.5697\n",
            "Epoch 150/150\n",
            "357/357 [==============================] - 1s 3ms/step - loss: 1.2455 - accuracy: 0.5624 - val_loss: 1.2387 - val_accuracy: 0.5697\n"
          ],
          "name": "stdout"
        }
      ]
    },
    {
      "cell_type": "code",
      "metadata": {
        "id": "6DSbYY5VZode"
      },
      "source": [
        "#classified with test set\n",
        "y_pred_test_NN = classifier.predict(X_test)"
      ],
      "execution_count": 37,
      "outputs": []
    },
    {
      "cell_type": "markdown",
      "metadata": {
        "id": "Hij1bcrUusaC"
      },
      "source": [
        "# LSTM"
      ]
    },
    {
      "cell_type": "code",
      "metadata": {
        "id": "3qZitZoJvPEz"
      },
      "source": [
        ""
      ],
      "execution_count": 37,
      "outputs": []
    },
    {
      "cell_type": "markdown",
      "metadata": {
        "id": "mwpJsLYpuyYH"
      },
      "source": [
        "Word2vec One_hot"
      ]
    },
    {
      "cell_type": "code",
      "metadata": {
        "id": "KxlIGFRiuvS7"
      },
      "source": [
        "from keras.preprocessing.text import one_hot\n",
        "\n",
        "#use onehot in train\n",
        "voc_size = 1000\n",
        "\n",
        "train_onehot = [one_hot(words, voc_size)for words in train['text']]\n",
        "dev_onehot = [one_hot(words, voc_size)for words in dev['text']]\n",
        "test_onehot = [one_hot(words, voc_size)for words in test['text']]"
      ],
      "execution_count": 38,
      "outputs": []
    },
    {
      "cell_type": "code",
      "metadata": {
        "id": "M6knphhAu4aR"
      },
      "source": [
        "#performing pad_sequences\n",
        "from keras.preprocessing.sequence import pad_sequences\n",
        "\n",
        "sent_length=20\n",
        "embedded_train=pad_sequences(train_onehot,padding='pre',maxlen=sent_length)\n",
        "embedded_dev=pad_sequences(dev_onehot,padding='pre',maxlen=sent_length)\n",
        "embedded_test = pad_sequences(test_onehot,padding='pre',maxlen=sent_length)"
      ],
      "execution_count": 39,
      "outputs": []
    },
    {
      "cell_type": "code",
      "metadata": {
        "id": "j-isMsvRJkn-"
      },
      "source": [
        "#spliting datas for training\n",
        "train['category_category'] = pd.Categorical(train['category'])\n",
        "\n",
        "X_train = np.array(embedded_train)\n",
        "y_train = np.array(train['category'])\n",
        "\n",
        "X_dev =  np.array(embedded_dev)\n",
        "y_dev = np.array(dev['category'])\n",
        "\n",
        "X_test =  np.array(embedded_test)"
      ],
      "execution_count": 40,
      "outputs": []
    },
    {
      "cell_type": "code",
      "metadata": {
        "colab": {
          "base_uri": "https://localhost:8080/"
        },
        "id": "3uHTb5XQu4Uw",
        "outputId": "2aeda6e2-650e-4dc6-a27e-8ba4d702a4e9"
      },
      "source": [
        "dim=40\n",
        "model=Sequential()\n",
        "\n",
        "#embedding layer\n",
        "model.add(Embedding(voc_size,dim,input_length=sent_length))\n",
        "#input layer\n",
        "#model.add(LSTM(100)\n",
        "model.add(LSTM(1000, input_shape=(1000,1), return_sequences=False))\n",
        "#hidded layer\n",
        "model.add(Dense(500, activation='relu', kernel_regularizer=regularizers.l2(0.01), ))\n",
        "#output layer\n",
        "model.add(Dense(5, activation='softmax'))\n",
        "model.compile(loss='sparse_categorical_crossentropy',\n",
        "              optimizer=Adam(lr=0.001, beta_1=0.9, beta_2=0.999, epsilon=None, decay=0.0, amsgrad=False),\n",
        "              metrics=['accuracy'])\n",
        "\n",
        "#model.compile('adam','mse')"
      ],
      "execution_count": 42,
      "outputs": [
        {
          "output_type": "stream",
          "text": [
            "/usr/local/lib/python3.7/dist-packages/tensorflow/python/keras/optimizer_v2/optimizer_v2.py:375: UserWarning: The `lr` argument is deprecated, use `learning_rate` instead.\n",
            "  \"The `lr` argument is deprecated, use `learning_rate` instead.\")\n"
          ],
          "name": "stderr"
        }
      ]
    },
    {
      "cell_type": "code",
      "metadata": {
        "colab": {
          "base_uri": "https://localhost:8080/"
        },
        "id": "WBZ37Z-DvChh",
        "outputId": "62be3a53-9186-4142-b94a-a6de00e202d3"
      },
      "source": [
        "#summary of LSTM model\n",
        "model.summary()"
      ],
      "execution_count": 43,
      "outputs": [
        {
          "output_type": "stream",
          "text": [
            "Model: \"sequential_4\"\n",
            "_________________________________________________________________\n",
            "Layer (type)                 Output Shape              Param #   \n",
            "=================================================================\n",
            "embedding_3 (Embedding)      (None, 20, 40)            40000     \n",
            "_________________________________________________________________\n",
            "lstm_1 (LSTM)                (None, 1000)              4164000   \n",
            "_________________________________________________________________\n",
            "dense_8 (Dense)              (None, 500)               500500    \n",
            "_________________________________________________________________\n",
            "dense_9 (Dense)              (None, 5)                 2505      \n",
            "=================================================================\n",
            "Total params: 4,707,005\n",
            "Trainable params: 4,707,005\n",
            "Non-trainable params: 0\n",
            "_________________________________________________________________\n"
          ],
          "name": "stdout"
        }
      ]
    },
    {
      "cell_type": "code",
      "metadata": {
        "colab": {
          "base_uri": "https://localhost:8080/"
        },
        "id": "UyyW9BEYvISE",
        "outputId": "81aa867c-20e9-49b1-f851-06fe7bd3e301"
      },
      "source": [
        "history = model.fit(X_train, y_train, \n",
        "                    batch_size=64,\n",
        "                    epochs=50, validation_data=(X_dev, y_dev)                 \n",
        "                    )"
      ],
      "execution_count": 44,
      "outputs": [
        {
          "output_type": "stream",
          "text": [
            "Epoch 1/50\n",
            "558/558 [==============================] - 24s 39ms/step - loss: 2.1520 - accuracy: 0.5552 - val_loss: 1.1581 - val_accuracy: 0.5727\n",
            "Epoch 2/50\n",
            "558/558 [==============================] - 21s 38ms/step - loss: 1.1162 - accuracy: 0.5766 - val_loss: 1.1205 - val_accuracy: 0.5835\n",
            "Epoch 3/50\n",
            "558/558 [==============================] - 21s 38ms/step - loss: 1.0788 - accuracy: 0.5894 - val_loss: 1.0923 - val_accuracy: 0.5868\n",
            "Epoch 4/50\n",
            "558/558 [==============================] - 21s 38ms/step - loss: 1.0452 - accuracy: 0.5980 - val_loss: 1.0831 - val_accuracy: 0.5891\n",
            "Epoch 5/50\n",
            "558/558 [==============================] - 21s 38ms/step - loss: 1.0318 - accuracy: 0.6012 - val_loss: 1.0870 - val_accuracy: 0.5810\n",
            "Epoch 6/50\n",
            "558/558 [==============================] - 21s 38ms/step - loss: 1.0103 - accuracy: 0.6123 - val_loss: 1.0922 - val_accuracy: 0.5760\n",
            "Epoch 7/50\n",
            "558/558 [==============================] - 21s 38ms/step - loss: 1.0083 - accuracy: 0.6146 - val_loss: 1.0773 - val_accuracy: 0.5891\n",
            "Epoch 8/50\n",
            "558/558 [==============================] - 21s 38ms/step - loss: 0.9850 - accuracy: 0.6251 - val_loss: 1.0767 - val_accuracy: 0.5893\n",
            "Epoch 9/50\n",
            "558/558 [==============================] - 21s 38ms/step - loss: 0.9692 - accuracy: 0.6337 - val_loss: 1.0987 - val_accuracy: 0.5810\n",
            "Epoch 10/50\n",
            "558/558 [==============================] - 21s 38ms/step - loss: 0.9535 - accuracy: 0.6354 - val_loss: 1.1177 - val_accuracy: 0.5772\n",
            "Epoch 11/50\n",
            "558/558 [==============================] - 21s 38ms/step - loss: 0.9371 - accuracy: 0.6473 - val_loss: 1.1168 - val_accuracy: 0.5830\n",
            "Epoch 12/50\n",
            "558/558 [==============================] - 21s 38ms/step - loss: 0.9174 - accuracy: 0.6585 - val_loss: 1.1357 - val_accuracy: 0.5828\n",
            "Epoch 13/50\n",
            "558/558 [==============================] - 21s 38ms/step - loss: 0.8899 - accuracy: 0.6679 - val_loss: 1.1578 - val_accuracy: 0.5689\n",
            "Epoch 14/50\n",
            "558/558 [==============================] - 21s 38ms/step - loss: 0.8533 - accuracy: 0.6903 - val_loss: 1.1953 - val_accuracy: 0.5482\n",
            "Epoch 15/50\n",
            "558/558 [==============================] - 21s 38ms/step - loss: 0.8092 - accuracy: 0.7067 - val_loss: 1.2636 - val_accuracy: 0.5560\n",
            "Epoch 16/50\n",
            "558/558 [==============================] - 21s 38ms/step - loss: 0.7661 - accuracy: 0.7288 - val_loss: 1.3012 - val_accuracy: 0.5475\n",
            "Epoch 17/50\n",
            "558/558 [==============================] - 22s 39ms/step - loss: 0.7062 - accuracy: 0.7562 - val_loss: 1.4344 - val_accuracy: 0.5295\n",
            "Epoch 18/50\n",
            "558/558 [==============================] - 21s 38ms/step - loss: 0.6234 - accuracy: 0.7904 - val_loss: 1.5816 - val_accuracy: 0.5522\n",
            "Epoch 19/50\n",
            "558/558 [==============================] - 21s 38ms/step - loss: 0.5419 - accuracy: 0.8251 - val_loss: 1.6673 - val_accuracy: 0.5255\n",
            "Epoch 20/50\n",
            "558/558 [==============================] - 21s 38ms/step - loss: 0.4495 - accuracy: 0.8632 - val_loss: 1.8772 - val_accuracy: 0.5020\n",
            "Epoch 21/50\n",
            "558/558 [==============================] - 21s 38ms/step - loss: 0.3774 - accuracy: 0.8917 - val_loss: 2.0752 - val_accuracy: 0.5209\n",
            "Epoch 22/50\n",
            "558/558 [==============================] - 21s 38ms/step - loss: 0.2941 - accuracy: 0.9225 - val_loss: 2.2715 - val_accuracy: 0.5028\n",
            "Epoch 23/50\n",
            "558/558 [==============================] - 21s 38ms/step - loss: 0.2621 - accuracy: 0.9338 - val_loss: 2.4890 - val_accuracy: 0.5106\n",
            "Epoch 24/50\n",
            "558/558 [==============================] - 21s 38ms/step - loss: 0.2015 - accuracy: 0.9562 - val_loss: 2.5821 - val_accuracy: 0.5169\n",
            "Epoch 25/50\n",
            "558/558 [==============================] - 21s 38ms/step - loss: 0.1822 - accuracy: 0.9617 - val_loss: 2.7510 - val_accuracy: 0.5035\n",
            "Epoch 26/50\n",
            "558/558 [==============================] - 21s 38ms/step - loss: 0.1550 - accuracy: 0.9727 - val_loss: 2.7832 - val_accuracy: 0.5073\n",
            "Epoch 27/50\n",
            "558/558 [==============================] - 22s 39ms/step - loss: 0.1484 - accuracy: 0.9731 - val_loss: 3.0058 - val_accuracy: 0.4932\n",
            "Epoch 28/50\n",
            "558/558 [==============================] - 21s 38ms/step - loss: 0.1223 - accuracy: 0.9799 - val_loss: 3.0426 - val_accuracy: 0.4909\n",
            "Epoch 29/50\n",
            "558/558 [==============================] - 21s 38ms/step - loss: 0.1200 - accuracy: 0.9795 - val_loss: 3.1181 - val_accuracy: 0.5131\n",
            "Epoch 30/50\n",
            "558/558 [==============================] - 21s 38ms/step - loss: 0.1112 - accuracy: 0.9820 - val_loss: 3.2795 - val_accuracy: 0.5010\n",
            "Epoch 31/50\n",
            "558/558 [==============================] - 21s 38ms/step - loss: 0.1110 - accuracy: 0.9823 - val_loss: 3.1852 - val_accuracy: 0.5111\n",
            "Epoch 32/50\n",
            "558/558 [==============================] - 21s 38ms/step - loss: 0.1099 - accuracy: 0.9823 - val_loss: 3.1250 - val_accuracy: 0.5045\n",
            "Epoch 33/50\n",
            "558/558 [==============================] - 21s 38ms/step - loss: 0.0863 - accuracy: 0.9883 - val_loss: 3.3062 - val_accuracy: 0.5048\n",
            "Epoch 34/50\n",
            "558/558 [==============================] - 21s 38ms/step - loss: 0.1115 - accuracy: 0.9817 - val_loss: 3.2360 - val_accuracy: 0.5030\n",
            "Epoch 35/50\n",
            "558/558 [==============================] - 21s 38ms/step - loss: 0.0837 - accuracy: 0.9882 - val_loss: 3.4350 - val_accuracy: 0.5174\n",
            "Epoch 36/50\n",
            "558/558 [==============================] - 21s 38ms/step - loss: 0.0714 - accuracy: 0.9912 - val_loss: 3.5666 - val_accuracy: 0.5141\n",
            "Epoch 37/50\n",
            "558/558 [==============================] - 21s 38ms/step - loss: 0.0648 - accuracy: 0.9922 - val_loss: 3.7308 - val_accuracy: 0.5109\n",
            "Epoch 38/50\n",
            "558/558 [==============================] - 21s 38ms/step - loss: 0.1528 - accuracy: 0.9734 - val_loss: 3.1989 - val_accuracy: 0.5204\n",
            "Epoch 39/50\n",
            "558/558 [==============================] - 21s 38ms/step - loss: 0.0864 - accuracy: 0.9865 - val_loss: 3.6191 - val_accuracy: 0.5144\n",
            "Epoch 40/50\n",
            "558/558 [==============================] - 21s 38ms/step - loss: 0.0694 - accuracy: 0.9909 - val_loss: 3.4281 - val_accuracy: 0.5139\n",
            "Epoch 41/50\n",
            "558/558 [==============================] - 21s 38ms/step - loss: 0.0726 - accuracy: 0.9905 - val_loss: 3.4023 - val_accuracy: 0.5154\n",
            "Epoch 42/50\n",
            "558/558 [==============================] - 21s 38ms/step - loss: 0.0897 - accuracy: 0.9856 - val_loss: 3.5613 - val_accuracy: 0.5121\n",
            "Epoch 43/50\n",
            "558/558 [==============================] - 21s 38ms/step - loss: 0.0847 - accuracy: 0.9875 - val_loss: 3.4825 - val_accuracy: 0.5220\n",
            "Epoch 44/50\n",
            "558/558 [==============================] - 21s 38ms/step - loss: 0.0643 - accuracy: 0.9912 - val_loss: 3.6169 - val_accuracy: 0.5081\n",
            "Epoch 45/50\n",
            "558/558 [==============================] - 21s 38ms/step - loss: 0.0557 - accuracy: 0.9931 - val_loss: 3.5343 - val_accuracy: 0.5305\n",
            "Epoch 46/50\n",
            "558/558 [==============================] - 21s 38ms/step - loss: 0.0763 - accuracy: 0.9886 - val_loss: 3.5875 - val_accuracy: 0.5220\n",
            "Epoch 47/50\n",
            "558/558 [==============================] - 21s 38ms/step - loss: 0.1330 - accuracy: 0.9757 - val_loss: 3.2065 - val_accuracy: 0.5083\n",
            "Epoch 48/50\n",
            "558/558 [==============================] - 21s 38ms/step - loss: 0.0651 - accuracy: 0.9902 - val_loss: 3.2996 - val_accuracy: 0.5083\n",
            "Epoch 49/50\n",
            "558/558 [==============================] - 21s 38ms/step - loss: 0.0432 - accuracy: 0.9955 - val_loss: 3.1848 - val_accuracy: 0.5005\n",
            "Epoch 50/50\n",
            "558/558 [==============================] - 21s 38ms/step - loss: 0.0405 - accuracy: 0.9956 - val_loss: 3.2410 - val_accuracy: 0.5308\n"
          ],
          "name": "stdout"
        }
      ]
    },
    {
      "cell_type": "code",
      "metadata": {
        "id": "IbCrdLjbeBbF"
      },
      "source": [
        "#classified with test set\n",
        "y_pred_test_LSTM = model.predict(X_test)"
      ],
      "execution_count": null,
      "outputs": []
    }
  ]
}