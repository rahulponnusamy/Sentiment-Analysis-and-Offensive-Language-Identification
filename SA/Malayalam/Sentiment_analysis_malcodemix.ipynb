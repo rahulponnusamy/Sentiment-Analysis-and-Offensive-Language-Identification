{
  "nbformat": 4,
  "nbformat_minor": 0,
  "metadata": {
    "kernelspec": {
      "display_name": "Python 3",
      "language": "python",
      "name": "python3"
    },
    "language_info": {
      "codemirror_mode": {
        "name": "ipython",
        "version": 3
      },
      "file_extension": ".py",
      "mimetype": "text/x-python",
      "name": "python",
      "nbconvert_exporter": "python",
      "pygments_lexer": "ipython3",
      "version": "3.8.8"
    },
    "colab": {
      "name": "Sentiment analysis-tamilcodemix.ipynb",
      "provenance": [],
      "collapsed_sections": []
    }
  },
  "cells": [
    {
      "cell_type": "markdown",
      "metadata": {
        "id": "ilWJYw_ypqQ6"
      },
      "source": [
        "## importing packages"
      ]
    },
    {
      "cell_type": "code",
      "metadata": {
        "id": "gQ_VyPAfpqRM"
      },
      "source": [
        "#importing necessary packages\n",
        "import pandas as pd\n",
        "import numpy as np\n",
        "import matplotlib.pyplot as plt\n",
        "\n",
        "\n",
        "#keras\n",
        "from keras import *\n",
        "from keras.preprocessing import sequence\n",
        "from keras.models import Sequential\n",
        "from keras.layers import Dense, Embedding, LSTM, Flatten\n",
        "from keras.optimizers import  Adam\n",
        "from keras import regularizers"
      ],
      "execution_count": 1,
      "outputs": []
    },
    {
      "cell_type": "code",
      "metadata": {
        "colab": {
          "base_uri": "https://localhost:8080/"
        },
        "id": "H2UQ4xa2eRgt",
        "outputId": "6ee3dfa8-f333-4053-e0cb-79459a379c2f"
      },
      "source": [
        "from google.colab import drive\n",
        "drive.mount('/content/drive')"
      ],
      "execution_count": 2,
      "outputs": [
        {
          "output_type": "stream",
          "text": [
            "Mounted at /content/drive\n"
          ],
          "name": "stdout"
        }
      ]
    },
    {
      "cell_type": "markdown",
      "metadata": {
        "id": "cgQDvezuXJXh"
      },
      "source": [
        "## Precessing with datas"
      ]
    },
    {
      "cell_type": "code",
      "metadata": {
        "id": "eK-uQA5QodWD"
      },
      "source": [
        "#importing Malayalam datasets\n",
        "train=pd.read_csv('/content/drive/MyDrive/project/main/Trials/Dataset/Mal_sentiment_full_train.tsv',sep='\\t')\n",
        "dev=pd.read_csv('/content/drive/MyDrive/project/main/Trials/Dataset/Mal_sentiment_full_dev.tsv',sep='\\t')\n",
        "test=pd.read_csv('/content/drive/MyDrive/project/main/Trials/Dataset/Mal_sentiment_full_test_withoutlabels.tsv',sep='\\t')"
      ],
      "execution_count": 4,
      "outputs": []
    },
    {
      "cell_type": "code",
      "metadata": {
        "colab": {
          "base_uri": "https://localhost:8080/",
          "height": 561
        },
        "id": "dmJePYlXKiyi",
        "outputId": "41a82772-c7b5-4725-9f40-914164d72302"
      },
      "source": [
        "#Fitting Labels\n",
        "train['category'] = train['category'].str.strip()\n",
        "\n",
        "#Visualizing datas\n",
        "Labels =  train['category'].unique()\n",
        "count =   train['category'].value_counts()\n",
        "  \n",
        "fig = plt.figure(figsize = (10, 7))\n",
        "\n",
        "# creating the bar plot\n",
        "plt.bar(Labels, count, color ='red',  width = 0.4)\n",
        " \n",
        "plt.xlabel(\"Labels\")\n",
        "plt.ylabel(\"No. of Labels\")\n",
        "plt.title(\"Dataframe statistics\")\n",
        "plt.show()\n",
        "\n",
        "#Label counts\n",
        "train['category'].value_counts()"
      ],
      "execution_count": 5,
      "outputs": [
        {
          "output_type": "display_data",
          "data": {
            "image/png": "[encoded data removed]",
            "text/plain": [
              "<Figure size 720x504 with 1 Axes>"
            ]
          },
          "metadata": {
            "tags": [],
            "needs_background": "light"
          }
        },
        {
          "output_type": "execute_result",
          "data": {
            "text/plain": [
              "Positive          6421\n",
              "unknown_state     5279\n",
              "Negative          2105\n",
              "not-malayalam     1157\n",
              "Mixed_feelings     926\n",
              "Name: category, dtype: int64"
            ]
          },
          "metadata": {
            "tags": []
          },
          "execution_count": 5
        }
      ]
    },
    {
      "cell_type": "code",
      "metadata": {
        "id": "wlsCeNKAKirE"
      },
      "source": [
        ""
      ],
      "execution_count": 5,
      "outputs": []
    },
    {
      "cell_type": "markdown",
      "metadata": {
        "id": "r0_3FcxCpqRk"
      },
      "source": [
        "## Removing punctuations"
      ]
    },
    {
      "cell_type": "code",
      "metadata": {
        "id": "Ivjg-TzApqRk"
      },
      "source": [
        "#removing punctuations\n",
        "import string\n",
        "def remove_punctuations(txt):\n",
        "    text_nopunc=\"\".join([c for c in txt if c not in string.punctuation])\n",
        "    return text_nopunc\n",
        "\n",
        "train['text']=train['text'].apply(lambda x: remove_punctuations(x))\n",
        "\n"
      ],
      "execution_count": 6,
      "outputs": []
    },
    {
      "cell_type": "code",
      "metadata": {
        "id": "xit9OnMZK8m0"
      },
      "source": [
        "#Label encoder\n",
        "from sklearn.preprocessing import LabelEncoder\n",
        "Encoder = LabelEncoder()\n",
        "train['category']=Encoder.fit_transform(train['category'])\n",
        "dev['category']= Encoder.fit_transform(dev['category'])"
      ],
      "execution_count": 7,
      "outputs": []
    },
    {
      "cell_type": "code",
      "metadata": {
        "colab": {
          "base_uri": "https://localhost:8080/"
        },
        "id": "d-0iJqOmK_SN",
        "outputId": "18170cfe-bb6e-4555-a36b-71f95c460f3c"
      },
      "source": [
        "train['category'].value_counts()"
      ],
      "execution_count": 8,
      "outputs": [
        {
          "output_type": "execute_result",
          "data": {
            "text/plain": [
              "2    6421\n",
              "4    5279\n",
              "1    2105\n",
              "3    1157\n",
              "0     926\n",
              "Name: category, dtype: int64"
            ]
          },
          "metadata": {
            "tags": []
          },
          "execution_count": 8
        }
      ]
    },
    {
      "cell_type": "markdown",
      "metadata": {
        "id": "SlWopm5orPGV"
      },
      "source": [
        "# **Models**"
      ]
    },
    {
      "cell_type": "markdown",
      "metadata": {
        "id": "x_ftxgFNLg9S"
      },
      "source": [
        "# Multilayer Perceptron"
      ]
    },
    {
      "cell_type": "code",
      "metadata": {
        "id": "OJ0L21-xOYib"
      },
      "source": [
        "from keras.preprocessing.text import one_hot\n",
        "\n",
        "#use onehot in train\n",
        "voc_size = 1000\n",
        "\n",
        "train_onehot = [one_hot(words, voc_size)for words in train['text']]\n",
        "dev_onehot = [one_hot(words, voc_size)for words in dev['text']]\n",
        "test_onehot = [one_hot(words, voc_size)for words in test['text']]"
      ],
      "execution_count": 9,
      "outputs": []
    },
    {
      "cell_type": "code",
      "metadata": {
        "id": "mbZt1c2HOYfV"
      },
      "source": [
        "#from keras.layers import Embedding\n",
        "#from keras.models import Sequential\n",
        "from keras.preprocessing.sequence import pad_sequences\n",
        "\n",
        "sent_length = 30\n",
        "embedded_train = pad_sequences(train_onehot,padding='pre',maxlen=sent_length)\n",
        "embedded_dev = pad_sequences(dev_onehot,padding='pre',maxlen=sent_length)\n",
        "embedded_test = pad_sequences(test_onehot,padding='pre',maxlen=sent_length)\n"
      ],
      "execution_count": 10,
      "outputs": []
    },
    {
      "cell_type": "code",
      "metadata": {
        "id": "Knb3Gq_EOYcc"
      },
      "source": [
        ""
      ],
      "execution_count": 10,
      "outputs": []
    },
    {
      "cell_type": "code",
      "metadata": {
        "id": "HeT2hX_wOXDw"
      },
      "source": [
        "\n",
        "X_train = np.array(embedded_train)\n",
        "y_train = np.array(train['category'])\n",
        "\n",
        "X_dev =  np.array(embedded_dev)\n",
        "y_dev = np.array(dev['category'])\n",
        "\n",
        "X_test =  np.array(embedded_test)\n"
      ],
      "execution_count": 11,
      "outputs": []
    },
    {
      "cell_type": "code",
      "metadata": {
        "id": "qz0cpU2IoCUa"
      },
      "source": [
        ""
      ],
      "execution_count": 11,
      "outputs": []
    },
    {
      "cell_type": "code",
      "metadata": {
        "id": "s0JxZbSZg3fQ",
        "colab": {
          "base_uri": "https://localhost:8080/"
        },
        "outputId": "ae2407b6-09ef-4ee6-e2a8-e03f0b0a65d4"
      },
      "source": [
        "#Building Neural network\n",
        "\n",
        "dim = 50\n",
        "classifier = Sequential()\n",
        "\n",
        "classifier.add(Embedding(voc_size,dim,input_length=sent_length, trainable=True))\n",
        "classifier.add(Flatten())\n",
        "\n",
        "# Adding the input layer and the first hidden layer\n",
        "classifier.add(Dense(units = len(train.category.value_counts()), kernel_initializer = 'uniform', activation = 'relu', input_dim = 30))\n",
        "\n",
        "\n",
        "# Adding the second hidden layer\n",
        "classifier.add(Dense(units = len(train.category.value_counts()), kernel_initializer = 'uniform', activation = 'relu'))\n",
        "#classifier.add(Dense(units = len(train.category.value_counts()), kernel_initializer = 'uniform', activation = 'relu'))\n",
        "\n",
        "# Adding the output layer\n",
        "classifier.add(Dense(units = 5, kernel_initializer = 'uniform', activation = 'softmax'))\n",
        "\n",
        "\n",
        "# Compiling the ANN\n",
        "#classifier.compile(optimizer = 'adam', loss = 'sparse_categorical_crossentropy', metrics = ['accuracy'])\n",
        "classifier.compile(loss='sparse_categorical_crossentropy', optimizer=Adam(lr=0.001, beta_1=0.9, beta_2=0.999, epsilon=None, decay=0.0, amsgrad=False), metrics=['accuracy'])\n",
        "\n",
        "# Fitting the ANN to the Training set\n",
        "history = classifier.fit(X_train, y_train, batch_size = 64 , epochs = 100,validation_data=(X_dev, y_dev))\n"
      ],
      "execution_count": 12,
      "outputs": [
        {
          "output_type": "stream",
          "text": [
            "/usr/local/lib/python3.7/dist-packages/tensorflow/python/keras/optimizer_v2/optimizer_v2.py:375: UserWarning: The `lr` argument is deprecated, use `learning_rate` instead.\n",
            "  \"The `lr` argument is deprecated, use `learning_rate` instead.\")\n"
          ],
          "name": "stderr"
        },
        {
          "output_type": "stream",
          "text": [
            "Epoch 1/100\n",
            "249/249 [==============================] - 15s 5ms/step - loss: 1.4868 - accuracy: 0.3572 - val_loss: 1.3549 - val_accuracy: 0.3998\n",
            "Epoch 2/100\n",
            "249/249 [==============================] - 1s 2ms/step - loss: 1.3141 - accuracy: 0.4076 - val_loss: 1.2975 - val_accuracy: 0.3998\n",
            "Epoch 3/100\n",
            "249/249 [==============================] - 1s 2ms/step - loss: 1.2575 - accuracy: 0.4038 - val_loss: 1.2965 - val_accuracy: 0.3998\n",
            "Epoch 4/100\n",
            "249/249 [==============================] - 1s 3ms/step - loss: 1.2291 - accuracy: 0.4121 - val_loss: 1.2905 - val_accuracy: 0.4185\n",
            "Epoch 5/100\n",
            "249/249 [==============================] - 1s 3ms/step - loss: 1.1868 - accuracy: 0.4425 - val_loss: 1.2860 - val_accuracy: 0.4479\n",
            "Epoch 6/100\n",
            "249/249 [==============================] - 1s 3ms/step - loss: 1.1395 - accuracy: 0.4846 - val_loss: 1.2799 - val_accuracy: 0.4734\n",
            "Epoch 7/100\n",
            "249/249 [==============================] - 1s 2ms/step - loss: 1.0642 - accuracy: 0.5370 - val_loss: 1.2756 - val_accuracy: 0.4955\n",
            "Epoch 8/100\n",
            "249/249 [==============================] - 1s 2ms/step - loss: 0.9790 - accuracy: 0.5947 - val_loss: 1.2932 - val_accuracy: 0.5113\n",
            "Epoch 9/100\n",
            "249/249 [==============================] - 1s 3ms/step - loss: 0.8983 - accuracy: 0.6411 - val_loss: 1.3400 - val_accuracy: 0.5153\n",
            "Epoch 10/100\n",
            "249/249 [==============================] - 1s 3ms/step - loss: 0.8480 - accuracy: 0.6668 - val_loss: 1.4156 - val_accuracy: 0.4989\n",
            "Epoch 11/100\n",
            "249/249 [==============================] - 1s 2ms/step - loss: 0.7869 - accuracy: 0.6983 - val_loss: 1.5302 - val_accuracy: 0.5159\n",
            "Epoch 12/100\n",
            "249/249 [==============================] - 1s 3ms/step - loss: 0.7317 - accuracy: 0.7193 - val_loss: 1.5956 - val_accuracy: 0.4994\n",
            "Epoch 13/100\n",
            "249/249 [==============================] - 1s 3ms/step - loss: 0.6839 - accuracy: 0.7468 - val_loss: 1.7457 - val_accuracy: 0.5057\n",
            "Epoch 14/100\n",
            "249/249 [==============================] - 1s 3ms/step - loss: 0.6504 - accuracy: 0.7630 - val_loss: 1.8977 - val_accuracy: 0.5051\n",
            "Epoch 15/100\n",
            "249/249 [==============================] - 1s 3ms/step - loss: 0.6051 - accuracy: 0.7752 - val_loss: 2.0469 - val_accuracy: 0.4966\n",
            "Epoch 16/100\n",
            "249/249 [==============================] - 1s 3ms/step - loss: 0.5664 - accuracy: 0.7978 - val_loss: 2.2060 - val_accuracy: 0.4915\n",
            "Epoch 17/100\n",
            "249/249 [==============================] - 1s 2ms/step - loss: 0.5269 - accuracy: 0.8145 - val_loss: 2.3982 - val_accuracy: 0.4989\n",
            "Epoch 18/100\n",
            "249/249 [==============================] - 1s 3ms/step - loss: 0.4992 - accuracy: 0.8252 - val_loss: 2.5667 - val_accuracy: 0.4847\n",
            "Epoch 19/100\n",
            "249/249 [==============================] - 1s 2ms/step - loss: 0.4635 - accuracy: 0.8440 - val_loss: 2.7380 - val_accuracy: 0.4841\n",
            "Epoch 20/100\n",
            "249/249 [==============================] - 1s 3ms/step - loss: 0.4282 - accuracy: 0.8517 - val_loss: 2.9791 - val_accuracy: 0.4853\n",
            "Epoch 21/100\n",
            "249/249 [==============================] - 1s 2ms/step - loss: 0.4169 - accuracy: 0.8592 - val_loss: 3.1716 - val_accuracy: 0.4773\n",
            "Epoch 22/100\n",
            "249/249 [==============================] - 1s 3ms/step - loss: 0.3891 - accuracy: 0.8674 - val_loss: 3.3599 - val_accuracy: 0.4790\n",
            "Epoch 23/100\n",
            "249/249 [==============================] - 1s 3ms/step - loss: 0.3674 - accuracy: 0.8736 - val_loss: 3.6086 - val_accuracy: 0.4728\n",
            "Epoch 24/100\n",
            "249/249 [==============================] - 1s 2ms/step - loss: 0.3496 - accuracy: 0.8813 - val_loss: 3.8560 - val_accuracy: 0.4734\n",
            "Epoch 25/100\n",
            "249/249 [==============================] - 1s 2ms/step - loss: 0.3371 - accuracy: 0.8832 - val_loss: 4.1610 - val_accuracy: 0.4734\n",
            "Epoch 26/100\n",
            "249/249 [==============================] - 1s 3ms/step - loss: 0.3191 - accuracy: 0.8887 - val_loss: 4.3760 - val_accuracy: 0.4694\n",
            "Epoch 27/100\n",
            "249/249 [==============================] - 1s 2ms/step - loss: 0.3154 - accuracy: 0.8911 - val_loss: 4.5845 - val_accuracy: 0.4660\n",
            "Epoch 28/100\n",
            "249/249 [==============================] - 1s 2ms/step - loss: 0.3080 - accuracy: 0.8867 - val_loss: 4.8674 - val_accuracy: 0.4649\n",
            "Epoch 29/100\n",
            "249/249 [==============================] - 1s 3ms/step - loss: 0.2888 - accuracy: 0.8973 - val_loss: 5.0737 - val_accuracy: 0.4666\n",
            "Epoch 30/100\n",
            "249/249 [==============================] - 1s 2ms/step - loss: 0.2841 - accuracy: 0.8939 - val_loss: 5.3811 - val_accuracy: 0.4683\n",
            "Epoch 31/100\n",
            "249/249 [==============================] - 1s 3ms/step - loss: 0.2792 - accuracy: 0.8952 - val_loss: 5.6124 - val_accuracy: 0.4581\n",
            "Epoch 32/100\n",
            "249/249 [==============================] - 1s 3ms/step - loss: 0.2704 - accuracy: 0.9025 - val_loss: 5.8514 - val_accuracy: 0.4621\n",
            "Epoch 33/100\n",
            "249/249 [==============================] - 1s 2ms/step - loss: 0.2595 - accuracy: 0.9052 - val_loss: 5.9483 - val_accuracy: 0.4558\n",
            "Epoch 34/100\n",
            "249/249 [==============================] - 1s 2ms/step - loss: 0.2616 - accuracy: 0.9076 - val_loss: 6.3659 - val_accuracy: 0.4587\n",
            "Epoch 35/100\n",
            "249/249 [==============================] - 1s 2ms/step - loss: 0.2522 - accuracy: 0.9133 - val_loss: 6.5832 - val_accuracy: 0.4587\n",
            "Epoch 36/100\n",
            "249/249 [==============================] - 1s 3ms/step - loss: 0.2505 - accuracy: 0.9161 - val_loss: 6.7739 - val_accuracy: 0.4530\n",
            "Epoch 37/100\n",
            "249/249 [==============================] - 1s 2ms/step - loss: 0.2365 - accuracy: 0.9250 - val_loss: 6.8740 - val_accuracy: 0.4490\n",
            "Epoch 38/100\n",
            "249/249 [==============================] - 1s 3ms/step - loss: 0.2275 - accuracy: 0.9292 - val_loss: 7.1337 - val_accuracy: 0.4524\n",
            "Epoch 39/100\n",
            "249/249 [==============================] - 1s 2ms/step - loss: 0.2230 - accuracy: 0.9289 - val_loss: 7.3239 - val_accuracy: 0.4530\n",
            "Epoch 40/100\n",
            "249/249 [==============================] - 1s 3ms/step - loss: 0.2190 - accuracy: 0.9337 - val_loss: 7.5621 - val_accuracy: 0.4490\n",
            "Epoch 41/100\n",
            "249/249 [==============================] - 1s 3ms/step - loss: 0.2229 - accuracy: 0.9305 - val_loss: 7.8362 - val_accuracy: 0.4524\n",
            "Epoch 42/100\n",
            "249/249 [==============================] - 1s 3ms/step - loss: 0.2159 - accuracy: 0.9349 - val_loss: 8.0039 - val_accuracy: 0.4564\n",
            "Epoch 43/100\n",
            "249/249 [==============================] - 1s 3ms/step - loss: 0.2252 - accuracy: 0.9318 - val_loss: 8.3103 - val_accuracy: 0.4456\n",
            "Epoch 44/100\n",
            "249/249 [==============================] - 1s 3ms/step - loss: 0.2167 - accuracy: 0.9326 - val_loss: 8.3162 - val_accuracy: 0.4428\n",
            "Epoch 45/100\n",
            "249/249 [==============================] - 1s 3ms/step - loss: 0.2090 - accuracy: 0.9403 - val_loss: 8.4363 - val_accuracy: 0.4541\n",
            "Epoch 46/100\n",
            "249/249 [==============================] - 1s 2ms/step - loss: 0.1953 - accuracy: 0.9442 - val_loss: 8.7156 - val_accuracy: 0.4456\n",
            "Epoch 47/100\n",
            "249/249 [==============================] - 1s 2ms/step - loss: 0.1985 - accuracy: 0.9424 - val_loss: 9.0563 - val_accuracy: 0.4456\n",
            "Epoch 48/100\n",
            "249/249 [==============================] - 1s 3ms/step - loss: 0.1844 - accuracy: 0.9478 - val_loss: 9.0900 - val_accuracy: 0.4507\n",
            "Epoch 49/100\n",
            "249/249 [==============================] - 1s 3ms/step - loss: 0.1932 - accuracy: 0.9443 - val_loss: 9.4129 - val_accuracy: 0.4439\n",
            "Epoch 50/100\n",
            "249/249 [==============================] - 1s 2ms/step - loss: 0.1761 - accuracy: 0.9495 - val_loss: 9.3949 - val_accuracy: 0.4462\n",
            "Epoch 51/100\n",
            "249/249 [==============================] - 1s 3ms/step - loss: 0.1860 - accuracy: 0.9490 - val_loss: 9.4964 - val_accuracy: 0.4445\n",
            "Epoch 52/100\n",
            "249/249 [==============================] - 1s 3ms/step - loss: 0.1929 - accuracy: 0.9456 - val_loss: 9.9612 - val_accuracy: 0.4456\n",
            "Epoch 53/100\n",
            "249/249 [==============================] - 1s 2ms/step - loss: 0.1857 - accuracy: 0.9444 - val_loss: 9.7716 - val_accuracy: 0.4451\n",
            "Epoch 54/100\n",
            "249/249 [==============================] - 1s 2ms/step - loss: 0.1815 - accuracy: 0.9470 - val_loss: 10.1023 - val_accuracy: 0.4473\n",
            "Epoch 55/100\n",
            "249/249 [==============================] - 1s 3ms/step - loss: 0.1799 - accuracy: 0.9506 - val_loss: 10.1098 - val_accuracy: 0.4462\n",
            "Epoch 56/100\n",
            "249/249 [==============================] - 1s 3ms/step - loss: 0.1809 - accuracy: 0.9491 - val_loss: 10.3509 - val_accuracy: 0.4456\n",
            "Epoch 57/100\n",
            "249/249 [==============================] - 1s 3ms/step - loss: 0.1762 - accuracy: 0.9498 - val_loss: 10.3546 - val_accuracy: 0.4485\n",
            "Epoch 58/100\n",
            "249/249 [==============================] - 1s 3ms/step - loss: 0.1743 - accuracy: 0.9509 - val_loss: 10.6884 - val_accuracy: 0.4496\n",
            "Epoch 59/100\n",
            "249/249 [==============================] - 1s 3ms/step - loss: 0.1696 - accuracy: 0.9496 - val_loss: 10.5564 - val_accuracy: 0.4445\n",
            "Epoch 60/100\n",
            "249/249 [==============================] - 1s 2ms/step - loss: 0.1717 - accuracy: 0.9519 - val_loss: 10.6853 - val_accuracy: 0.4479\n",
            "Epoch 61/100\n",
            "249/249 [==============================] - 1s 3ms/step - loss: 0.1656 - accuracy: 0.9534 - val_loss: 11.0637 - val_accuracy: 0.4462\n",
            "Epoch 62/100\n",
            "249/249 [==============================] - 1s 3ms/step - loss: 0.1623 - accuracy: 0.9531 - val_loss: 10.8567 - val_accuracy: 0.4479\n",
            "Epoch 63/100\n",
            "249/249 [==============================] - 1s 3ms/step - loss: 0.1687 - accuracy: 0.9515 - val_loss: 11.0496 - val_accuracy: 0.4411\n",
            "Epoch 64/100\n",
            "249/249 [==============================] - 1s 3ms/step - loss: 0.1727 - accuracy: 0.9503 - val_loss: 11.2948 - val_accuracy: 0.4417\n",
            "Epoch 65/100\n",
            "249/249 [==============================] - 1s 3ms/step - loss: 0.1816 - accuracy: 0.9481 - val_loss: 11.0265 - val_accuracy: 0.4349\n",
            "Epoch 66/100\n",
            "249/249 [==============================] - 1s 3ms/step - loss: 0.1707 - accuracy: 0.9514 - val_loss: 11.2733 - val_accuracy: 0.4479\n",
            "Epoch 67/100\n",
            "249/249 [==============================] - 1s 3ms/step - loss: 0.1808 - accuracy: 0.9490 - val_loss: 11.4672 - val_accuracy: 0.4468\n",
            "Epoch 68/100\n",
            "249/249 [==============================] - 1s 3ms/step - loss: 0.1634 - accuracy: 0.9529 - val_loss: 11.5019 - val_accuracy: 0.4388\n",
            "Epoch 69/100\n",
            "249/249 [==============================] - 1s 2ms/step - loss: 0.1581 - accuracy: 0.9540 - val_loss: 11.7947 - val_accuracy: 0.4428\n",
            "Epoch 70/100\n",
            "249/249 [==============================] - 1s 3ms/step - loss: 0.1592 - accuracy: 0.9540 - val_loss: 11.7804 - val_accuracy: 0.4468\n",
            "Epoch 71/100\n",
            "249/249 [==============================] - 1s 3ms/step - loss: 0.1564 - accuracy: 0.9551 - val_loss: 11.8979 - val_accuracy: 0.4383\n",
            "Epoch 72/100\n",
            "249/249 [==============================] - 1s 3ms/step - loss: 0.1510 - accuracy: 0.9568 - val_loss: 11.8229 - val_accuracy: 0.4456\n",
            "Epoch 73/100\n",
            "249/249 [==============================] - 1s 2ms/step - loss: 0.1575 - accuracy: 0.9561 - val_loss: 12.1289 - val_accuracy: 0.4456\n",
            "Epoch 74/100\n",
            "249/249 [==============================] - 1s 3ms/step - loss: 0.1544 - accuracy: 0.9547 - val_loss: 11.7853 - val_accuracy: 0.4439\n",
            "Epoch 75/100\n",
            "249/249 [==============================] - 1s 3ms/step - loss: 0.1551 - accuracy: 0.9555 - val_loss: 12.2357 - val_accuracy: 0.4507\n",
            "Epoch 76/100\n",
            "249/249 [==============================] - 1s 2ms/step - loss: 0.1530 - accuracy: 0.9546 - val_loss: 12.1216 - val_accuracy: 0.4445\n",
            "Epoch 77/100\n",
            "249/249 [==============================] - 1s 3ms/step - loss: 0.1841 - accuracy: 0.9504 - val_loss: 12.3598 - val_accuracy: 0.4439\n",
            "Epoch 78/100\n",
            "249/249 [==============================] - 1s 2ms/step - loss: 0.1835 - accuracy: 0.9469 - val_loss: 12.2564 - val_accuracy: 0.4451\n",
            "Epoch 79/100\n",
            "249/249 [==============================] - 1s 3ms/step - loss: 0.1830 - accuracy: 0.9482 - val_loss: 12.6043 - val_accuracy: 0.4422\n",
            "Epoch 80/100\n",
            "249/249 [==============================] - 1s 2ms/step - loss: 0.1748 - accuracy: 0.9506 - val_loss: 12.4293 - val_accuracy: 0.4428\n",
            "Epoch 81/100\n",
            "249/249 [==============================] - 1s 3ms/step - loss: 0.1553 - accuracy: 0.9521 - val_loss: 12.7519 - val_accuracy: 0.4451\n",
            "Epoch 82/100\n",
            "249/249 [==============================] - 1s 3ms/step - loss: 0.1594 - accuracy: 0.9514 - val_loss: 12.5043 - val_accuracy: 0.4439\n",
            "Epoch 83/100\n",
            "249/249 [==============================] - 1s 3ms/step - loss: 0.1589 - accuracy: 0.9521 - val_loss: 12.8249 - val_accuracy: 0.4417\n",
            "Epoch 84/100\n",
            "249/249 [==============================] - 1s 3ms/step - loss: 0.1588 - accuracy: 0.9548 - val_loss: 12.7838 - val_accuracy: 0.4417\n",
            "Epoch 85/100\n",
            "249/249 [==============================] - 1s 3ms/step - loss: 0.1494 - accuracy: 0.9551 - val_loss: 12.8246 - val_accuracy: 0.4434\n",
            "Epoch 86/100\n",
            "249/249 [==============================] - 1s 2ms/step - loss: 0.1478 - accuracy: 0.9552 - val_loss: 12.9101 - val_accuracy: 0.4439\n",
            "Epoch 87/100\n",
            "249/249 [==============================] - 1s 3ms/step - loss: 0.1601 - accuracy: 0.9530 - val_loss: 12.9350 - val_accuracy: 0.4434\n",
            "Epoch 88/100\n",
            "249/249 [==============================] - 1s 3ms/step - loss: 0.1493 - accuracy: 0.9538 - val_loss: 13.1140 - val_accuracy: 0.4434\n",
            "Epoch 89/100\n",
            "249/249 [==============================] - 1s 2ms/step - loss: 0.1491 - accuracy: 0.9539 - val_loss: 13.2774 - val_accuracy: 0.4451\n",
            "Epoch 90/100\n",
            "249/249 [==============================] - 1s 3ms/step - loss: 0.1542 - accuracy: 0.9559 - val_loss: 13.2602 - val_accuracy: 0.4417\n",
            "Epoch 91/100\n",
            "249/249 [==============================] - 1s 3ms/step - loss: 0.1475 - accuracy: 0.9546 - val_loss: 13.2741 - val_accuracy: 0.4428\n",
            "Epoch 92/100\n",
            "249/249 [==============================] - 1s 2ms/step - loss: 0.1520 - accuracy: 0.9556 - val_loss: 13.5556 - val_accuracy: 0.4405\n",
            "Epoch 93/100\n",
            "249/249 [==============================] - 1s 3ms/step - loss: 0.1587 - accuracy: 0.9521 - val_loss: 13.4325 - val_accuracy: 0.4536\n",
            "Epoch 94/100\n",
            "249/249 [==============================] - 1s 3ms/step - loss: 0.1540 - accuracy: 0.9553 - val_loss: 13.6333 - val_accuracy: 0.4451\n",
            "Epoch 95/100\n",
            "249/249 [==============================] - 1s 3ms/step - loss: 0.1617 - accuracy: 0.9507 - val_loss: 13.8533 - val_accuracy: 0.4462\n",
            "Epoch 96/100\n",
            "249/249 [==============================] - 1s 3ms/step - loss: 0.1537 - accuracy: 0.9542 - val_loss: 13.9938 - val_accuracy: 0.4434\n",
            "Epoch 97/100\n",
            "249/249 [==============================] - 1s 2ms/step - loss: 0.1463 - accuracy: 0.9542 - val_loss: 13.7657 - val_accuracy: 0.4422\n",
            "Epoch 98/100\n",
            "249/249 [==============================] - 1s 3ms/step - loss: 0.1482 - accuracy: 0.9553 - val_loss: 13.9880 - val_accuracy: 0.4428\n",
            "Epoch 99/100\n",
            "249/249 [==============================] - 1s 3ms/step - loss: 0.1464 - accuracy: 0.9541 - val_loss: 13.9172 - val_accuracy: 0.4507\n",
            "Epoch 100/100\n",
            "249/249 [==============================] - 1s 3ms/step - loss: 0.1467 - accuracy: 0.9543 - val_loss: 13.9704 - val_accuracy: 0.4462\n"
          ],
          "name": "stdout"
        }
      ]
    },
    {
      "cell_type": "code",
      "metadata": {
        "id": "6DSbYY5VZode"
      },
      "source": [
        "#classified with test set\n",
        "y_pred_test_NN = classifier.predict(X_dev)"
      ],
      "execution_count": 13,
      "outputs": []
    },
    {
      "cell_type": "code",
      "metadata": {
        "colab": {
          "base_uri": "https://localhost:8080/"
        },
        "id": "qisn_mogB5JT",
        "outputId": "318c4e46-e1a5-4472-8f6d-7c12ee9fed6a"
      },
      "source": [
        "y_pred_test_NN"
      ],
      "execution_count": 14,
      "outputs": [
        {
          "output_type": "execute_result",
          "data": {
            "text/plain": [
              "array([[2.8040408e-33, 5.9016395e-23, 1.0000000e+00, 0.0000000e+00,\n",
              "        8.4442306e-12],\n",
              "       [8.1931472e-02, 1.8130160e-03, 4.1893002e-02, 7.3106515e-01,\n",
              "        1.4329728e-01],\n",
              "       [0.0000000e+00, 1.9248133e-38, 9.4006038e-01, 0.0000000e+00,\n",
              "        5.9939675e-02],\n",
              "       ...,\n",
              "       [4.2314467e-28, 1.0792607e-27, 1.1221151e-07, 2.8208542e-09,\n",
              "        9.9999988e-01],\n",
              "       [1.2714414e-06, 9.9944800e-01, 5.5071356e-04, 0.0000000e+00,\n",
              "        2.0687172e-17],\n",
              "       [8.0770135e-02, 9.1562974e-01, 3.6001666e-03, 2.5187287e-31,\n",
              "        1.0651554e-08]], dtype=float32)"
            ]
          },
          "metadata": {
            "tags": []
          },
          "execution_count": 14
        }
      ]
    },
    {
      "cell_type": "markdown",
      "metadata": {
        "id": "Hij1bcrUusaC"
      },
      "source": [
        "# LSTM"
      ]
    },
    {
      "cell_type": "code",
      "metadata": {
        "id": "3qZitZoJvPEz"
      },
      "source": [
        ""
      ],
      "execution_count": 14,
      "outputs": []
    },
    {
      "cell_type": "markdown",
      "metadata": {
        "id": "mwpJsLYpuyYH"
      },
      "source": [
        "Word2vec One_hot"
      ]
    },
    {
      "cell_type": "code",
      "metadata": {
        "id": "KxlIGFRiuvS7"
      },
      "source": [
        "from keras.preprocessing.text import one_hot\n",
        "\n",
        "#use onehot in train\n",
        "voc_size = 1000\n",
        "\n",
        "train_onehot = [one_hot(words, voc_size)for words in train['text']]\n",
        "dev_onehot = [one_hot(words, voc_size)for words in dev['text']]\n",
        "test_onehot = [one_hot(words, voc_size)for words in test['text']]"
      ],
      "execution_count": 15,
      "outputs": []
    },
    {
      "cell_type": "code",
      "metadata": {
        "id": "M6knphhAu4aR"
      },
      "source": [
        "#performing pad_sequences\n",
        "from keras.preprocessing.sequence import pad_sequences\n",
        "\n",
        "sent_length=20\n",
        "embedded_train=pad_sequences(train_onehot,padding='pre',maxlen=sent_length)\n",
        "embedded_dev=pad_sequences(dev_onehot,padding='pre',maxlen=sent_length)\n",
        "embedded_test = pad_sequences(test_onehot,padding='pre',maxlen=sent_length)"
      ],
      "execution_count": 16,
      "outputs": []
    },
    {
      "cell_type": "code",
      "metadata": {
        "id": "j-isMsvRJkn-"
      },
      "source": [
        "#spliting datas for training\n",
        "train['category_category'] = pd.Categorical(train['category'])\n",
        "\n",
        "X_train = np.array(embedded_train)\n",
        "y_train = np.array(train['category'])\n",
        "\n",
        "X_dev =  np.array(embedded_dev)\n",
        "y_dev = np.array(dev['category'])\n",
        "\n",
        "X_test =  np.array(embedded_test)"
      ],
      "execution_count": 17,
      "outputs": []
    },
    {
      "cell_type": "code",
      "metadata": {
        "colab": {
          "base_uri": "https://localhost:8080/"
        },
        "id": "3uHTb5XQu4Uw",
        "outputId": "8f23ea84-c3bf-4424-befb-1d0bf4665803"
      },
      "source": [
        "dim=500\n",
        "model=Sequential()\n",
        "\n",
        "#embedding layer\n",
        "model.add(Embedding(voc_size,dim,input_length=sent_length))\n",
        "#input layer\n",
        "#model.add(LSTM(100)\n",
        "model.add(LSTM(500, input_shape=(500,1), return_sequences=False))\n",
        "#hidded layer\n",
        "model.add(Dense(250, activation='relu', kernel_regularizer=regularizers.l2(0.01) ))\n",
        "#output layer\n",
        "model.add(Dense(5, activation='softmax'))\n",
        "model.compile(loss='sparse_categorical_crossentropy',\n",
        "              optimizer=Adam(lr=0.001, beta_1=0.9, beta_2=0.999, epsilon=None, decay=0.0, amsgrad=False),\n",
        "              metrics=['accuracy'])\n",
        "\n",
        "#model.compile('adam','mse')"
      ],
      "execution_count": 24,
      "outputs": [
        {
          "output_type": "stream",
          "text": [
            "/usr/local/lib/python3.7/dist-packages/tensorflow/python/keras/optimizer_v2/optimizer_v2.py:375: UserWarning: The `lr` argument is deprecated, use `learning_rate` instead.\n",
            "  \"The `lr` argument is deprecated, use `learning_rate` instead.\")\n"
          ],
          "name": "stderr"
        }
      ]
    },
    {
      "cell_type": "code",
      "metadata": {
        "colab": {
          "base_uri": "https://localhost:8080/"
        },
        "id": "WBZ37Z-DvChh",
        "outputId": "f45a2733-4bb6-418d-a66f-cadff9ad485c"
      },
      "source": [
        "#summary of LSTM model\n",
        "model.summary()"
      ],
      "execution_count": 25,
      "outputs": [
        {
          "output_type": "stream",
          "text": [
            "Model: \"sequential_3\"\n",
            "_________________________________________________________________\n",
            "Layer (type)                 Output Shape              Param #   \n",
            "=================================================================\n",
            "embedding_3 (Embedding)      (None, 20, 500)           500000    \n",
            "_________________________________________________________________\n",
            "lstm_2 (LSTM)                (None, 500)               2002000   \n",
            "_________________________________________________________________\n",
            "dense_7 (Dense)              (None, 250)               125250    \n",
            "_________________________________________________________________\n",
            "dense_8 (Dense)              (None, 5)                 1255      \n",
            "=================================================================\n",
            "Total params: 2,628,505\n",
            "Trainable params: 2,628,505\n",
            "Non-trainable params: 0\n",
            "_________________________________________________________________\n"
          ],
          "name": "stdout"
        }
      ]
    },
    {
      "cell_type": "code",
      "metadata": {
        "colab": {
          "base_uri": "https://localhost:8080/"
        },
        "id": "UyyW9BEYvISE",
        "outputId": "723ebde0-97ba-48aa-8c77-d826ca40c618"
      },
      "source": [
        "history = model.fit(X_train, y_train, \n",
        "                    batch_size=100,\n",
        "                    epochs=50, validation_data=(X_dev, y_dev)                 \n",
        "                    )"
      ],
      "execution_count": 26,
      "outputs": [
        {
          "output_type": "stream",
          "text": [
            "Epoch 1/50\n",
            "159/159 [==============================] - 102s 625ms/step - loss: 2.8173 - accuracy: 0.4295 - val_loss: 1.1265 - val_accuracy: 0.5866\n",
            "Epoch 2/50\n",
            "159/159 [==============================] - 101s 633ms/step - loss: 1.0480 - accuracy: 0.5987 - val_loss: 1.0761 - val_accuracy: 0.5866\n",
            "Epoch 3/50\n",
            "159/159 [==============================] - 98s 618ms/step - loss: 0.9829 - accuracy: 0.6178 - val_loss: 1.0761 - val_accuracy: 0.5974\n",
            "Epoch 4/50\n",
            "159/159 [==============================] - 98s 619ms/step - loss: 0.9375 - accuracy: 0.6391 - val_loss: 1.1190 - val_accuracy: 0.5821\n",
            "Epoch 5/50\n",
            "159/159 [==============================] - 99s 626ms/step - loss: 0.8848 - accuracy: 0.6660 - val_loss: 1.0897 - val_accuracy: 0.5883\n",
            "Epoch 6/50\n",
            "159/159 [==============================] - 99s 625ms/step - loss: 0.8352 - accuracy: 0.6855 - val_loss: 1.1080 - val_accuracy: 0.5866\n",
            "Epoch 7/50\n",
            "159/159 [==============================] - 100s 626ms/step - loss: 0.7694 - accuracy: 0.7168 - val_loss: 1.1267 - val_accuracy: 0.5968\n",
            "Epoch 8/50\n",
            "159/159 [==============================] - 102s 641ms/step - loss: 0.7148 - accuracy: 0.7432 - val_loss: 1.1940 - val_accuracy: 0.5719\n",
            "Epoch 9/50\n",
            "159/159 [==============================] - 99s 625ms/step - loss: 0.6651 - accuracy: 0.7627 - val_loss: 1.2206 - val_accuracy: 0.5787\n",
            "Epoch 10/50\n",
            "159/159 [==============================] - 98s 618ms/step - loss: 0.5986 - accuracy: 0.7962 - val_loss: 1.3047 - val_accuracy: 0.5685\n",
            "Epoch 11/50\n",
            "159/159 [==============================] - 99s 621ms/step - loss: 0.5163 - accuracy: 0.8313 - val_loss: 1.4693 - val_accuracy: 0.5612\n",
            "Epoch 12/50\n",
            "159/159 [==============================] - 98s 616ms/step - loss: 0.4391 - accuracy: 0.8580 - val_loss: 1.5974 - val_accuracy: 0.5725\n",
            "Epoch 13/50\n",
            "159/159 [==============================] - 98s 615ms/step - loss: 0.3606 - accuracy: 0.8892 - val_loss: 1.7494 - val_accuracy: 0.5555\n",
            "Epoch 14/50\n",
            "159/159 [==============================] - 98s 618ms/step - loss: 0.2940 - accuracy: 0.9227 - val_loss: 1.9680 - val_accuracy: 0.5425\n",
            "Epoch 15/50\n",
            "159/159 [==============================] - 99s 620ms/step - loss: 0.2347 - accuracy: 0.9435 - val_loss: 2.1725 - val_accuracy: 0.5476\n",
            "Epoch 16/50\n",
            "159/159 [==============================] - 99s 620ms/step - loss: 0.1907 - accuracy: 0.9565 - val_loss: 2.2752 - val_accuracy: 0.5334\n",
            "Epoch 17/50\n",
            "159/159 [==============================] - 98s 617ms/step - loss: 0.1487 - accuracy: 0.9703 - val_loss: 2.3821 - val_accuracy: 0.5453\n",
            "Epoch 18/50\n",
            "159/159 [==============================] - 98s 617ms/step - loss: 0.1081 - accuracy: 0.9822 - val_loss: 2.5191 - val_accuracy: 0.5544\n",
            "Epoch 19/50\n",
            "159/159 [==============================] - 98s 619ms/step - loss: 0.0994 - accuracy: 0.9844 - val_loss: 2.6208 - val_accuracy: 0.5357\n",
            "Epoch 20/50\n",
            "159/159 [==============================] - 99s 625ms/step - loss: 0.1107 - accuracy: 0.9789 - val_loss: 2.5900 - val_accuracy: 0.5476\n",
            "Epoch 21/50\n",
            "159/159 [==============================] - 98s 619ms/step - loss: 0.1170 - accuracy: 0.9763 - val_loss: 2.6849 - val_accuracy: 0.5583\n",
            "Epoch 22/50\n",
            "159/159 [==============================] - 99s 620ms/step - loss: 0.0891 - accuracy: 0.9847 - val_loss: 2.4950 - val_accuracy: 0.5549\n",
            "Epoch 23/50\n",
            "159/159 [==============================] - 98s 618ms/step - loss: 0.0884 - accuracy: 0.9839 - val_loss: 2.7168 - val_accuracy: 0.5629\n",
            "Epoch 24/50\n",
            "159/159 [==============================] - 99s 620ms/step - loss: 0.0849 - accuracy: 0.9848 - val_loss: 2.6813 - val_accuracy: 0.5498\n",
            "Epoch 25/50\n",
            "159/159 [==============================] - 98s 618ms/step - loss: 0.0886 - accuracy: 0.9832 - val_loss: 2.7562 - val_accuracy: 0.5555\n",
            "Epoch 26/50\n",
            "159/159 [==============================] - 99s 623ms/step - loss: 0.0799 - accuracy: 0.9847 - val_loss: 2.6947 - val_accuracy: 0.5668\n",
            "Epoch 27/50\n",
            "159/159 [==============================] - 100s 629ms/step - loss: 0.0712 - accuracy: 0.9873 - val_loss: 2.7162 - val_accuracy: 0.5685\n",
            "Epoch 28/50\n",
            "159/159 [==============================] - 99s 622ms/step - loss: 0.0633 - accuracy: 0.9879 - val_loss: 2.8007 - val_accuracy: 0.5447\n",
            "Epoch 29/50\n",
            "159/159 [==============================] - 98s 618ms/step - loss: 0.0653 - accuracy: 0.9864 - val_loss: 2.7655 - val_accuracy: 0.5595\n",
            "Epoch 30/50\n",
            "159/159 [==============================] - 99s 621ms/step - loss: 0.0678 - accuracy: 0.9852 - val_loss: 2.8605 - val_accuracy: 0.5770\n",
            "Epoch 31/50\n",
            "159/159 [==============================] - 98s 616ms/step - loss: 0.0666 - accuracy: 0.9875 - val_loss: 2.9300 - val_accuracy: 0.5493\n",
            "Epoch 32/50\n",
            "159/159 [==============================] - 98s 619ms/step - loss: 0.0769 - accuracy: 0.9829 - val_loss: 2.7366 - val_accuracy: 0.5674\n",
            "Epoch 33/50\n",
            "159/159 [==============================] - 99s 620ms/step - loss: 0.0744 - accuracy: 0.9852 - val_loss: 3.0871 - val_accuracy: 0.5561\n",
            "Epoch 34/50\n",
            "159/159 [==============================] - 98s 619ms/step - loss: 0.0840 - accuracy: 0.9825 - val_loss: 3.1209 - val_accuracy: 0.5640\n",
            "Epoch 35/50\n",
            "159/159 [==============================] - 99s 620ms/step - loss: 0.1122 - accuracy: 0.9755 - val_loss: 3.0248 - val_accuracy: 0.5515\n",
            "Epoch 36/50\n",
            "159/159 [==============================] - 99s 621ms/step - loss: 0.0855 - accuracy: 0.9816 - val_loss: 2.8843 - val_accuracy: 0.5527\n",
            "Epoch 37/50\n",
            "159/159 [==============================] - 98s 619ms/step - loss: 0.0643 - accuracy: 0.9859 - val_loss: 2.7808 - val_accuracy: 0.5561\n",
            "Epoch 38/50\n",
            "159/159 [==============================] - 99s 621ms/step - loss: 0.0542 - accuracy: 0.9888 - val_loss: 2.7654 - val_accuracy: 0.5583\n",
            "Epoch 39/50\n",
            "159/159 [==============================] - 99s 623ms/step - loss: 0.0484 - accuracy: 0.9884 - val_loss: 2.6643 - val_accuracy: 0.5532\n",
            "Epoch 40/50\n",
            "159/159 [==============================] - 99s 622ms/step - loss: 0.0433 - accuracy: 0.9898 - val_loss: 2.7633 - val_accuracy: 0.5538\n",
            "Epoch 41/50\n",
            "159/159 [==============================] - 99s 621ms/step - loss: 0.0392 - accuracy: 0.9904 - val_loss: 2.6781 - val_accuracy: 0.5561\n",
            "Epoch 42/50\n",
            "159/159 [==============================] - 99s 625ms/step - loss: 0.0468 - accuracy: 0.9881 - val_loss: 2.7729 - val_accuracy: 0.5572\n",
            "Epoch 43/50\n",
            "159/159 [==============================] - 99s 626ms/step - loss: 0.0373 - accuracy: 0.9914 - val_loss: 2.8808 - val_accuracy: 0.5555\n",
            "Epoch 44/50\n",
            "159/159 [==============================] - 99s 622ms/step - loss: 0.0422 - accuracy: 0.9901 - val_loss: 2.7703 - val_accuracy: 0.5623\n",
            "Epoch 45/50\n",
            "159/159 [==============================] - 99s 621ms/step - loss: 0.0378 - accuracy: 0.9908 - val_loss: 2.7095 - val_accuracy: 0.5657\n",
            "Epoch 46/50\n",
            "159/159 [==============================] - 98s 619ms/step - loss: 0.0387 - accuracy: 0.9899 - val_loss: 2.7581 - val_accuracy: 0.5578\n",
            "Epoch 47/50\n",
            "159/159 [==============================] - 99s 622ms/step - loss: 0.0336 - accuracy: 0.9914 - val_loss: 2.8477 - val_accuracy: 0.5555\n",
            "Epoch 48/50\n",
            "159/159 [==============================] - 98s 619ms/step - loss: 0.0370 - accuracy: 0.9891 - val_loss: 2.8031 - val_accuracy: 0.5527\n",
            "Epoch 49/50\n",
            "159/159 [==============================] - 98s 617ms/step - loss: 0.0455 - accuracy: 0.9885 - val_loss: 3.0414 - val_accuracy: 0.5549\n",
            "Epoch 50/50\n",
            "159/159 [==============================] - 98s 614ms/step - loss: 0.2488 - accuracy: 0.9378 - val_loss: 2.7866 - val_accuracy: 0.5413\n"
          ],
          "name": "stdout"
        }
      ]
    },
    {
      "cell_type": "code",
      "metadata": {
        "id": "IbCrdLjbeBbF"
      },
      "source": [
        "#classified with test set\n",
        "y_pred_test_LSTM = model.predict(X_test)"
      ],
      "execution_count": 27,
      "outputs": []
    }
  ]
}