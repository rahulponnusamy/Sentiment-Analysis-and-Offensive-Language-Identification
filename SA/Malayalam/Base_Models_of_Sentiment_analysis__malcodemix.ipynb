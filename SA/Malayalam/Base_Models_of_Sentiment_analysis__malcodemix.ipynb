{
  "nbformat": 4,
  "nbformat_minor": 0,
  "metadata": {
    "colab": {
      "name": "Base Models of Sentiment analysis-tamilcodemix.ipynb",
      "provenance": [],
      "collapsed_sections": []
    },
    "kernelspec": {
      "display_name": "Python 3",
      "language": "python",
      "name": "python3"
    },
    "language_info": {
      "codemirror_mode": {
        "name": "ipython",
        "version": 3
      },
      "file_extension": ".py",
      "mimetype": "text/x-python",
      "name": "python",
      "nbconvert_exporter": "python",
      "pygments_lexer": "ipython3",
      "version": "3.8.8"
    },
    "accelerator": "GPU"
  },
  "cells": [
    {
      "cell_type": "markdown",
      "metadata": {
        "id": "ilWJYw_ypqQ6"
      },
      "source": [
        "## importing packages"
      ]
    },
    {
      "cell_type": "code",
      "metadata": {
        "id": "gQ_VyPAfpqRM"
      },
      "source": [
        "#importing necessary packages\n",
        "import pandas as pd\n",
        "import numpy as np\n",
        "import matplotlib.pyplot as plt\n",
        "from sklearn.feature_extraction.text import TfidfVectorizer"
      ],
      "execution_count": 1,
      "outputs": []
    },
    {
      "cell_type": "code",
      "metadata": {
        "colab": {
          "base_uri": "https://localhost:8080/"
        },
        "id": "H2UQ4xa2eRgt",
        "outputId": "7d26deb8-053b-43c2-880e-5021ec16742f"
      },
      "source": [
        "from google.colab import drive\n",
        "drive.mount('/content/drive')"
      ],
      "execution_count": 2,
      "outputs": [
        {
          "output_type": "stream",
          "text": [
            "Mounted at /content/drive\n"
          ],
          "name": "stdout"
        }
      ]
    },
    {
      "cell_type": "code",
      "metadata": {
        "id": "8JvD_I9AzwW4"
      },
      "source": [
        "#importing Malayalam datasets\n",
        "train=pd.read_csv('/content/drive/MyDrive/project/main/Trials/Dataset/Mal_sentiment_full_train.tsv',sep='\\t')\n",
        "dev=pd.read_csv('/content/drive/MyDrive/project/main/Trials/Dataset/Mal_sentiment_full_dev.tsv',sep='\\t')\n",
        "test=pd.read_csv('/content/drive/MyDrive/project/main/Trials/Dataset/Mal_sentiment_full_test_withoutlabels.tsv',sep='\\t')"
      ],
      "execution_count": 4,
      "outputs": []
    },
    {
      "cell_type": "code",
      "metadata": {
        "colab": {
          "base_uri": "https://localhost:8080/"
        },
        "id": "pJvWVQX__zGv",
        "outputId": "4229b5aa-76ca-42ec-b688-86c042214925"
      },
      "source": [
        "test.shape"
      ],
      "execution_count": 5,
      "outputs": [
        {
          "output_type": "execute_result",
          "data": {
            "text/plain": [
              "(1962, 2)"
            ]
          },
          "metadata": {
            "tags": []
          },
          "execution_count": 5
        }
      ]
    },
    {
      "cell_type": "markdown",
      "metadata": {
        "id": "kRsruUTlMlfG"
      },
      "source": [
        "# Fitting data"
      ]
    },
    {
      "cell_type": "code",
      "metadata": {
        "colab": {
          "base_uri": "https://localhost:8080/",
          "height": 561
        },
        "id": "7ccuZO_GQld3",
        "outputId": "7a3c28a0-3304-44c1-ee0e-53e2598a57e2"
      },
      "source": [
        "#Fitting Labels\n",
        "train['category'] = train['category'].str.strip()\n",
        "\n",
        "#Visualizing datas\n",
        "Labels =  train['category'].unique()\n",
        "count =   train['category'].value_counts()\n",
        "  \n",
        "fig = plt.figure(figsize = (10, 7))\n",
        "\n",
        "# creating the bar plot\n",
        "plt.bar(Labels, count, color ='red',  width = 0.4)\n",
        " \n",
        "plt.xlabel(\"Labels\")\n",
        "plt.ylabel(\"No. of Labels\")\n",
        "plt.title(\"Dataframe statistics\")\n",
        "plt.show()\n",
        "\n",
        "#Label counts\n",
        "train['category'].value_counts()"
      ],
      "execution_count": 6,
      "outputs": [
        {
          "output_type": "display_data",
          "data": {
            "image/png": "[encoded data removed]",
            "text/plain": [
              "<Figure size 720x504 with 1 Axes>"
            ]
          },
          "metadata": {
            "tags": [],
            "needs_background": "light"
          }
        },
        {
          "output_type": "execute_result",
          "data": {
            "text/plain": [
              "Positive          6421\n",
              "unknown_state     5279\n",
              "Negative          2105\n",
              "not-malayalam     1157\n",
              "Mixed_feelings     926\n",
              "Name: category, dtype: int64"
            ]
          },
          "metadata": {
            "tags": []
          },
          "execution_count": 6
        }
      ]
    },
    {
      "cell_type": "code",
      "metadata": {
        "id": "vS_au46ZQy5d"
      },
      "source": [
        "#removing punctuations\n",
        "import string\n",
        "def remove_punctuations(txt):\n",
        "    text_nopunc=\"\".join([c for c in txt if c not in string.punctuation])\n",
        "    return text_nopunc\n",
        "\n",
        "train['text']=train['text'].apply(lambda x: remove_punctuations(x))\n",
        "\n"
      ],
      "execution_count": 7,
      "outputs": []
    },
    {
      "cell_type": "markdown",
      "metadata": {
        "id": "XckzBVCdV6fc"
      },
      "source": [
        "# Preprocessing data"
      ]
    },
    {
      "cell_type": "code",
      "metadata": {
        "id": "OwCQifU0P4-N"
      },
      "source": [
        "#Label encoder\n",
        "from sklearn.preprocessing import LabelEncoder\n",
        "Encoder = LabelEncoder()\n",
        "train['category']=Encoder.fit_transform(train['category'])\n",
        "dev['category']= Encoder.fit_transform(dev['category'])"
      ],
      "execution_count": 8,
      "outputs": []
    },
    {
      "cell_type": "code",
      "metadata": {
        "colab": {
          "base_uri": "https://localhost:8080/"
        },
        "id": "D0uFnD5rQ6ZX",
        "outputId": "4a07e686-e8d9-48af-9eff-a6841a7429f1"
      },
      "source": [
        "train['category'].value_counts()"
      ],
      "execution_count": 9,
      "outputs": [
        {
          "output_type": "execute_result",
          "data": {
            "text/plain": [
              "2    6421\n",
              "4    5279\n",
              "1    2105\n",
              "3    1157\n",
              "0     926\n",
              "Name: category, dtype: int64"
            ]
          },
          "metadata": {
            "tags": []
          },
          "execution_count": 9
        }
      ]
    },
    {
      "cell_type": "markdown",
      "metadata": {
        "id": "pllgOoejia69"
      },
      "source": [
        "# Feature extraction  -  **tfidf**"
      ]
    },
    {
      "cell_type": "code",
      "metadata": {
        "id": "CozdmxLjw--_"
      },
      "source": [
        "#TfidfVectorizer\n",
        "\n",
        "tfidf = TfidfVectorizer(max_features=2000)\n",
        "train_tfidf = tfidf.fit_transform(train['text']).toarray()\n",
        "dev_tfidf = tfidf.transform(dev['text']).toarray()\n",
        "test_tfidf = tfidf.transform(test['text']).toarray()"
      ],
      "execution_count": 10,
      "outputs": []
    },
    {
      "cell_type": "code",
      "metadata": {
        "id": "fjzQF-A_shPY"
      },
      "source": [
        "#spliting datas for training\n",
        "\n",
        "X_train = train_tfidf\n",
        "y_train = train['category']\n",
        "X_dev = dev_tfidf\n",
        "y_dev = dev['category']\n",
        "X_test = test_tfidf"
      ],
      "execution_count": 11,
      "outputs": []
    },
    {
      "cell_type": "markdown",
      "metadata": {
        "id": "XQddmXmjyw-K"
      },
      "source": [
        "# model"
      ]
    },
    {
      "cell_type": "markdown",
      "metadata": {
        "id": "hmqOoRqr9LH6"
      },
      "source": [
        "## SVM"
      ]
    },
    {
      "cell_type": "code",
      "metadata": {
        "id": "mLFcoRE4jlyj"
      },
      "source": [
        "#SVM\n",
        "from sklearn.svm import SVC\n",
        "SVM = SVC(C=1.0, kernel = 'linear', degree = 3, class_weight='balanced'   , gamma = 'auto')\n",
        "SVM.fit(X_train, y_train)\n",
        "y_pred_svm = SVM.predict(X_dev)"
      ],
      "execution_count": null,
      "outputs": []
    },
    {
      "cell_type": "code",
      "metadata": {
        "id": "D8c7OJyIB8oE"
      },
      "source": [
        "#Evluating SVM Model\n",
        "from sklearn.metrics import classification_report,confusion_matrix\n",
        "print(confusion_matrix(y_dev,y_pred_svm)) #used to see the accuracy of th\n",
        "print(classification_report(y_dev, y_pred_svm))\n"
      ],
      "execution_count": null,
      "outputs": []
    },
    {
      "cell_type": "code",
      "metadata": {
        "id": "xqLw3Pz2SR1W"
      },
      "source": [
        "#predicting test dataset\n",
        "y_pred_test_svm= SVM.predict(X_test)"
      ],
      "execution_count": null,
      "outputs": []
    },
    {
      "cell_type": "markdown",
      "metadata": {
        "id": "4pv-tPUK9OTv"
      },
      "source": [
        "## Naive Bayes"
      ]
    },
    {
      "cell_type": "code",
      "metadata": {
        "id": "94rw5u46B8lK"
      },
      "source": [
        "#Naive Bayes Classifier\n",
        "from sklearn.naive_bayes import MultinomialNB\n",
        "NB_tfidf = MultinomialNB()\n",
        "NB_tfidf.fit(X_train, y_train)\n",
        "NB_pred_tfidf_dev = NB_tfidf.predict(X_dev)"
      ],
      "execution_count": 12,
      "outputs": []
    },
    {
      "cell_type": "code",
      "metadata": {
        "colab": {
          "base_uri": "https://localhost:8080/"
        },
        "id": "_s-fUvGxB8il",
        "outputId": "d8d4119e-71a4-4320-e19f-d1f0286cc985"
      },
      "source": [
        "# Evaluating Naive Bayes Classifier\n",
        "from sklearn.metrics import classification_report,confusion_matrix\n",
        "print(confusion_matrix(y_dev, NB_pred_tfidf_dev)) #used to see the accuracy of th\n",
        "print(classification_report(y_dev,NB_pred_tfidf_dev))\n"
      ],
      "execution_count": 13,
      "outputs": [
        {
          "output_type": "stream",
          "text": [
            "[[ 14   5  57   0  26]\n",
            " [  3  76  89   1  68]\n",
            " [  1   8 589  12  96]\n",
            " [  0   0  39  84  18]\n",
            " [  4  12 174  12 378]]\n",
            "              precision    recall  f1-score   support\n",
            "\n",
            "           0       0.64      0.14      0.23       102\n",
            "           1       0.75      0.32      0.45       237\n",
            "           2       0.62      0.83      0.71       706\n",
            "           3       0.77      0.60      0.67       141\n",
            "           4       0.65      0.65      0.65       580\n",
            "\n",
            "    accuracy                           0.65      1766\n",
            "   macro avg       0.69      0.51      0.54      1766\n",
            "weighted avg       0.66      0.65      0.62      1766\n",
            "\n"
          ],
          "name": "stdout"
        }
      ]
    },
    {
      "cell_type": "code",
      "metadata": {
        "id": "dk5Xf0NMfDlW"
      },
      "source": [
        "#predicting test data\n",
        "NB_pred_tfidf_test = NB_tfidf.predict(X_test)"
      ],
      "execution_count": 14,
      "outputs": []
    },
    {
      "cell_type": "markdown",
      "metadata": {
        "id": "hSBYbsQ-WyMs"
      },
      "source": [
        "## Random Forest"
      ]
    },
    {
      "cell_type": "code",
      "metadata": {
        "id": "rO1bo9LBXbFu"
      },
      "source": [
        "from sklearn.preprocessing import StandardScaler\n",
        "sc_X = StandardScaler(with_mean=False)\n",
        "X_Train_RF = sc_X.fit_transform(X_train)\n",
        "X_dev_RF = sc_X.transform(X_dev)\n",
        "X_test_RF = sc_X.transform(X_test)\n",
        "\n",
        "#Classifier\n",
        "from sklearn.ensemble import RandomForestClassifier\n",
        "classifier = RandomForestClassifier(n_estimators = 100, criterion = 'entropy', random_state = 0)\n",
        "classifier.fit(X_Train_RF,y_train)\n",
        "\n",
        "# Predicting the dev set \n",
        "Y_Pred = classifier.predict(X_dev_RF)"
      ],
      "execution_count": 15,
      "outputs": []
    },
    {
      "cell_type": "code",
      "metadata": {
        "colab": {
          "base_uri": "https://localhost:8080/"
        },
        "id": "5rd7z8hLZMsz",
        "outputId": "4623cca9-6898-4fd6-c09f-7b4df4e89821"
      },
      "source": [
        "# Evaluating Random Forest\n",
        "from sklearn.metrics import classification_report,confusion_matrix\n",
        "print(confusion_matrix(y_dev,Y_Pred)) #used to see the accuracy of th\n",
        "print(classification_report(y_dev,Y_Pred))"
      ],
      "execution_count": 16,
      "outputs": [
        {
          "output_type": "stream",
          "text": [
            "[[ 19   4  52   1  26]\n",
            " [  3  66  90   3  75]\n",
            " [  6  10 547  17 126]\n",
            " [  2   1  32  87  19]\n",
            " [  2  19 161  13 385]]\n",
            "              precision    recall  f1-score   support\n",
            "\n",
            "           0       0.59      0.19      0.28       102\n",
            "           1       0.66      0.28      0.39       237\n",
            "           2       0.62      0.77      0.69       706\n",
            "           3       0.72      0.62      0.66       141\n",
            "           4       0.61      0.66      0.64       580\n",
            "\n",
            "    accuracy                           0.63      1766\n",
            "   macro avg       0.64      0.50      0.53      1766\n",
            "weighted avg       0.63      0.63      0.61      1766\n",
            "\n"
          ],
          "name": "stdout"
        }
      ]
    },
    {
      "cell_type": "code",
      "metadata": {
        "id": "zGGOXlg9cfnP"
      },
      "source": [
        "#predicting test data\n",
        "Y_Pred = classifier.predict(X_test_RF)"
      ],
      "execution_count": 17,
      "outputs": []
    }
  ]
}