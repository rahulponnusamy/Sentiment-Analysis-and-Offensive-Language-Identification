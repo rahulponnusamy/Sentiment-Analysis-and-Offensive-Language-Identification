{
  "nbformat": 4,
  "nbformat_minor": 0,
  "metadata": {
    "colab": {
      "name": "Base Models.ipynb",
      "provenance": [],
      "collapsed_sections": []
    },
    "kernelspec": {
      "name": "python3",
      "display_name": "Python 3"
    },
    "language_info": {
      "name": "python"
    }
  },
  "cells": [
    {
      "cell_type": "markdown",
      "metadata": {
        "id": "8MJ_BC-WEWJ0"
      },
      "source": [
        "**Importing Packages**"
      ]
    },
    {
      "cell_type": "code",
      "metadata": {
        "colab": {
          "base_uri": "https://localhost:8080/"
        },
        "id": "kuLD0Cn5nT_J",
        "outputId": "56cdc254-5a61-43b0-f9d9-c2faee29e643"
      },
      "source": [
        "#importing required libaries\n",
        "\n",
        "import pandas as pd\n",
        "import numpy as np\n",
        "import matplotlib.pyplot as plt\n",
        "import re \n",
        "import string\n",
        "import nltk\n",
        "nltk.download('punkt')\n",
        "\n",
        "import os\n",
        "from nltk.tokenize import word_tokenize\n",
        "from sklearn.preprocessing import LabelEncoder\n",
        "from sklearn.model_selection import train_test_split\n",
        "from sklearn.feature_extraction.text import TfidfVectorizer\n",
        "from sklearn import model_selection, naive_bayes, svm\n",
        "from sklearn.linear_model import LogisticRegression \n",
        "from sklearn.preprocessing import StandardScaler\n",
        "from sklearn.ensemble import RandomForestClassifier\n",
        "from sklearn.metrics import accuracy_score,classification_report,confusion_matrix"
      ],
      "execution_count": 1,
      "outputs": [
        {
          "output_type": "stream",
          "text": [
            "[nltk_data] Downloading package punkt to /root/nltk_data...\n",
            "[nltk_data]   Unzipping tokenizers/punkt.zip.\n"
          ],
          "name": "stdout"
        }
      ]
    },
    {
      "cell_type": "markdown",
      "metadata": {
        "id": "eZHWLeb9EPu1"
      },
      "source": [
        "**Malayalam Dataset**"
      ]
    },
    {
      "cell_type": "code",
      "metadata": {
        "id": "WN6w_DHh8Nru"
      },
      "source": [
        "#reading the Malayalam dataset\n",
        "train=pd.read_csv('/content/drive/MyDrive/offensive language/Malayalam dataset/Mal_Training_data.tsv',sep='\\t', index_col=[0])\n",
        "test=pd.read_csv('/content/drive/MyDrive/offensive language/Malayalam dataset/mal_test_data_with_labels.tsv',sep='\\t', index_col=[0])"
      ],
      "execution_count": 2,
      "outputs": []
    },
    {
      "cell_type": "code",
      "metadata": {
        "colab": {
          "base_uri": "https://localhost:8080/"
        },
        "id": "dLpf9ZqWSmeB",
        "outputId": "43e5161e-9d56-4545-9283-1f150df68849"
      },
      "source": [
        "from google.colab import drive\n",
        "drive.mount('/content/drive')"
      ],
      "execution_count": 3,
      "outputs": [
        {
          "output_type": "stream",
          "text": [
            "Drive already mounted at /content/drive; to attempt to forcibly remount, call drive.mount(\"/content/drive\", force_remount=True).\n"
          ],
          "name": "stdout"
        }
      ]
    },
    {
      "cell_type": "code",
      "metadata": {
        "colab": {
          "base_uri": "https://localhost:8080/",
          "height": 330
        },
        "id": "gFTV0quStg4W",
        "outputId": "094f1315-9c48-4623-df51-3f8f2351794e"
      },
      "source": [
        "# bar chart\n",
        "value=[2020,1980]\n",
        "category=['NOT','OFF']\n",
        "plt.bar(category,value,color=[\"cyan\",\"black\"],edgecolor='black')\n",
        "plt.xlabel('Number of category')\n",
        "plt.ylabel('Values of category')\n",
        "plt.show()\n",
        "\n",
        "#Label counts\n",
        "train['Category'].value_counts()"
      ],
      "execution_count": 4,
      "outputs": [
        {
          "output_type": "display_data",
          "data": {
            "image/png": "[encoded data removed]",
            "text/plain": [
              "<Figure size 432x288 with 1 Axes>"
            ]
          },
          "metadata": {
            "tags": [],
            "needs_background": "light"
          }
        },
        {
          "output_type": "execute_result",
          "data": {
            "text/plain": [
              "NOT    2047\n",
              "OFF    1953\n",
              "Name: Category, dtype: int64"
            ]
          },
          "metadata": {
            "tags": []
          },
          "execution_count": 4
        }
      ]
    },
    {
      "cell_type": "markdown",
      "metadata": {
        "id": "L_nNvPyyEwiV"
      },
      "source": [
        "# **Removing punctuation**"
      ]
    },
    {
      "cell_type": "code",
      "metadata": {
        "colab": {
          "base_uri": "https://localhost:8080/",
          "height": 0
        },
        "id": "yMNa9JWCn-Xa",
        "outputId": "c7808f88-a0a7-43a9-d75d-596416398882"
      },
      "source": [
        "#remove punctuation\n",
        "import string\n",
        "def remove_punctuations(txt):\n",
        "    text_nopunc=\"\".join([c for c in txt if c not in string.punctuation])\n",
        "    return text_nopunc\n",
        "\n",
        "train['Text']=train['Text'].apply(lambda x: remove_punctuations(x))\n",
        "train"
      ],
      "execution_count": 5,
      "outputs": [
        {
          "output_type": "execute_result",
          "data": {
            "text/html": [
              "<div>\n",
              "<style scoped>\n",
              "    .dataframe tbody tr th:only-of-type {\n",
              "        vertical-align: middle;\n",
              "    }\n",
              "\n",
              "    .dataframe tbody tr th {\n",
              "        vertical-align: top;\n",
              "    }\n",
              "\n",
              "    .dataframe thead th {\n",
              "        text-align: right;\n",
              "    }\n",
              "</style>\n",
              "<table border=\"1\" class=\"dataframe\">\n",
              "  <thead>\n",
              "    <tr style=\"text-align: right;\">\n",
              "      <th></th>\n",
              "      <th>Text</th>\n",
              "      <th>Category</th>\n",
              "    </tr>\n",
              "  </thead>\n",
              "  <tbody>\n",
              "    <tr>\n",
              "      <th>MA_YT001</th>\n",
              "      <td>Thaankal enthaan cheyyarullath😛</td>\n",
              "      <td>NOT</td>\n",
              "    </tr>\n",
              "    <tr>\n",
              "      <th>MA_YT002</th>\n",
              "      <td>Ee theetam WCC feminichigalude news aarkk vena...</td>\n",
              "      <td>OFF</td>\n",
              "    </tr>\n",
              "    <tr>\n",
              "      <th>MA_YT003</th>\n",
              "      <td>fukru nem tiktok oolakale vilich charcha nadat...</td>\n",
              "      <td>OFF</td>\n",
              "    </tr>\n",
              "    <tr>\n",
              "      <th>MA_YT004</th>\n",
              "      <td>Aashiq abu produce cheytharunnel ee problems u...</td>\n",
              "      <td>NOT</td>\n",
              "    </tr>\n",
              "    <tr>\n",
              "      <th>MA_YT005</th>\n",
              "      <td>Pennungal oru team aayal ath moonjum ennu epoo...</td>\n",
              "      <td>OFF</td>\n",
              "    </tr>\n",
              "    <tr>\n",
              "      <th>...</th>\n",
              "      <td>...</td>\n",
              "      <td>...</td>\n",
              "    </tr>\n",
              "    <tr>\n",
              "      <th>MA_YT3996</th>\n",
              "      <td>Eee parasayam thanne thettanu Ella achanmaraya...</td>\n",
              "      <td>NOT</td>\n",
              "    </tr>\n",
              "    <tr>\n",
              "      <th>MA_YT3997</th>\n",
              "      <td>Ente bagathum thetundh ee vazhikke veraan paad...</td>\n",
              "      <td>NOT</td>\n",
              "    </tr>\n",
              "    <tr>\n",
              "      <th>MA_YT3998</th>\n",
              "      <td>Kuttiye njan kettikolaam swarnam onnum venda e...</td>\n",
              "      <td>NOT</td>\n",
              "    </tr>\n",
              "    <tr>\n",
              "      <th>MA_YT3999</th>\n",
              "      <td>Chumma veettil irunna chakkiye trollanmaarkku ...</td>\n",
              "      <td>NOT</td>\n",
              "    </tr>\n",
              "    <tr>\n",
              "      <th>MA_YT4000</th>\n",
              "      <td>Kalidasan nalla look aayallo kanan ðŸ˜¬</td>\n",
              "      <td>NOT</td>\n",
              "    </tr>\n",
              "  </tbody>\n",
              "</table>\n",
              "<p>4000 rows × 2 columns</p>\n",
              "</div>"
            ],
            "text/plain": [
              "                                                        Text Category\n",
              "MA_YT001                     Thaankal enthaan cheyyarullath😛      NOT\n",
              "MA_YT002   Ee theetam WCC feminichigalude news aarkk vena...      OFF\n",
              "MA_YT003   fukru nem tiktok oolakale vilich charcha nadat...      OFF\n",
              "MA_YT004   Aashiq abu produce cheytharunnel ee problems u...      NOT\n",
              "MA_YT005   Pennungal oru team aayal ath moonjum ennu epoo...      OFF\n",
              "...                                                      ...      ...\n",
              "MA_YT3996  Eee parasayam thanne thettanu Ella achanmaraya...      NOT\n",
              "MA_YT3997  Ente bagathum thetundh ee vazhikke veraan paad...      NOT\n",
              "MA_YT3998  Kuttiye njan kettikolaam swarnam onnum venda e...      NOT\n",
              "MA_YT3999  Chumma veettil irunna chakkiye trollanmaarkku ...      NOT\n",
              "MA_YT4000            Kalidasan nalla look aayallo kanan ðŸ˜¬      NOT\n",
              "\n",
              "[4000 rows x 2 columns]"
            ]
          },
          "metadata": {
            "tags": []
          },
          "execution_count": 5
        }
      ]
    },
    {
      "cell_type": "markdown",
      "metadata": {
        "id": "R40sUBIPE5db"
      },
      "source": [
        "# **Spliting to Dev Dataset**"
      ]
    },
    {
      "cell_type": "code",
      "metadata": {
        "id": "m_H7mcr2n-Uu"
      },
      "source": [
        "#splitting dataset\n",
        "X_train, X_dev, y_train, y_dev = train_test_split(train['Text'], train['Category'], test_size=0.30, random_state=42)\n",
        "\n",
        "X_test= test['Text']\n",
        "y_test= test['Category']"
      ],
      "execution_count": 6,
      "outputs": []
    },
    {
      "cell_type": "markdown",
      "metadata": {
        "id": "X1EB4aZcFAzZ"
      },
      "source": [
        "# **Encoding**"
      ]
    },
    {
      "cell_type": "code",
      "metadata": {
        "id": "DTc6c4zbn-SI"
      },
      "source": [
        "#Encoding Labels\n",
        "\n",
        "Encoder = LabelEncoder()\n",
        "y_train = Encoder.fit_transform(y_train)\n",
        "y_test = Encoder.transform(y_test)\n",
        "y_dev = Encoder.transform(y_dev)"
      ],
      "execution_count": 7,
      "outputs": []
    },
    {
      "cell_type": "code",
      "metadata": {
        "id": "Pu-h8E67n-PR"
      },
      "source": [
        "#tfidf\n",
        "Tfidf_vect = TfidfVectorizer(max_features=2000)\n",
        "X_train = Tfidf_vect.fit_transform(X_train).toarray()\n",
        "X_dev = Tfidf_vect.transform(X_dev).toarray()\n",
        "X_test = Tfidf_vect.transform(X_test).toarray()"
      ],
      "execution_count": 8,
      "outputs": []
    },
    {
      "cell_type": "code",
      "metadata": {
        "colab": {
          "base_uri": "https://localhost:8080/"
        },
        "id": "M3_gQhTmri_Y",
        "outputId": "860b7234-134b-4997-84d4-bc2832d147f6"
      },
      "source": [
        "print(Tfidf_vect.vocabulary_)"
      ],
      "execution_count": 9,
      "outputs": [
        {
          "output_type": "stream",
          "text": [
            "{'kodathy': 891, 'avane': 179, 'oru': 1315, 'pullum': 1556, 'cheyyan': 303, 'onnu': 1276, 'poda': 1463, 'valiya': 1871, 'parayunnathu': 1399, 'swantham': 1706, 'sthreekale': 1685, 'peedipurl': 1430, 'patte': 1409, 'ayi': 206, 'poyi': 1523, 'kundi': 964, 'painting': 1348, 'alla': 85, 'rehana': 1592, 'kure': 980, 'ayittu': 210, 'jesla': 754, 'avalde': 170, 'theetam': 1787, 'cheythath': 291, 'thett': 1793, 'thettu': 1795, 'thalayanu': 1727, 'ðÿ': 1994, 'comment': 355, 'polum': 1487, 'illa': 632, 'support': 1703, 'cheyth': 287, 'appo': 129, 'ellam': 443, 'alle': 91, 'enthanennu': 485, 'nammal': 1160, 'innathe': 662, 'enu': 494, 'parayathe': 1387, 'nirthi': 1216, 'podi': 1467, 'ipo': 669, 'kanicha': 828, 'aa': 4, 'mon': 1099, 'kurach': 974, 'koodi': 930, 'sex': 1639, 'video': 1935, 'ini': 658, 'idum': 620, 'user': 1859, 'raktha': 1578, 'pakshe': 1352, 'njan': 1218, 'body': 232, 'minimum': 1087, 'vivaram': 1961, 'poolum': 1495, 'illatha': 638, 'joy': 767, 'ningade': 1198, 'pani': 1361, 'nokki': 1232, 'nanam': 1163, 'thanne': 1755, 'koottikko': 934, 'interview': 666, 'cheyan': 283, 'helen': 588, 'of': 1251, 'babu': 214, 'moori': 1103, 'thayoli': 1777, 'purath': 1560, 'thalli': 1736, 'kollam': 908, 'kanikkam': 832, 'vargeeya': 1891, 'vesham': 1931, 'poya': 1518, 'pore': 1507, 'theetta': 1788, 'teacher': 1714, 'ingane': 655, 'parayan': 1381, 'padilla': 1344, 'valya': 1876, 'onnum': 1277, 'kond': 916, 'url': 1857, 'side': 1658, 'raja': 1572, 'enthina': 488, 'pullide': 1554, 'thankal': 1751, 'arkkum': 144, 'kandal': 812, 'kurai': 976, 'karyamilla': 846, 'thilakan': 1796, 'sheri': 1648, 'mudi': 1114, 'is': 678, 'love': 1015, 'ivde': 728, 'aah': 11, 'per': 1446, 'paranju': 1378, 'cheythu': 294, 'preshnam': 1535, 'ithoke': 694, 'athum': 167, 'vannu': 1885, 'manushyan': 1053, 'ival': 711, 'avide': 197, 'aarum': 39, 'ille': 641, 'penmakkal': 1437, 'ettavum': 513, 'strong': 1691, 'modi': 1090, 'ninte': 1213, 'poku': 1475, 'samayam': 1612, 'anne': 118, 'panna': 1363, 'mohanlal': 1093, 'nte': 1237, 'ind': 645, 'paranjath': 1373, 'katta': 853, 'neeraj': 1176, 'marupadi': 1058, 'ithanu': 686, 'nanni': 1165, 'undu': 1849, 'padam': 1340, 'ente': 480, 'ninde': 1196, 'thallede': 1735, 'number': 1247, 'ookan': 1284, 'thanna': 1753, 'ninak': 1190, 'njn': 1224, 'metty': 1083, 'ubaid': 1821, 'vere': 1924, 'illathe': 639, 'kore': 943, 'engane': 453, 'irikkum': 674, 'tamil': 1711, 'filmil': 541, 'kiss': 878, 'kovid': 949, 'nammude': 1161, 'chinnu': 318, 'mole': 1096, 'pole': 1480, 'machan': 1020, 'ivar': 725, 'ninnu': 1210, 'vendi': 1921, 'pooru': 1505, 'mula': 1119, 'anna': 117, 'ulla': 1825, 'mikkavarum': 1085, 'avan': 176, 'enthoru': 492, 'ninta': 1212, 'jagathi': 734, 'chettan': 277, 'ippo': 670, 'pothu': 1510, 'okke': 1259, 'range': 1583, 'aanu': 32, 'nee': 1174, 'aara': 33, 'problem': 1538, 'chodikkan': 327, 'ulli': 1829, 'go': 565, 'patti': 1410, 'ariyum': 142, 'joseph': 766, 'athra': 163, 'anu': 125, 'keralathil': 863, 'mathram': 1067, 'kanunna': 842, 'etc': 501, 'otta': 1327, 'chodyam': 328, 'thooki': 1805, 'atho': 161, 'pushpam': 1565, 'irangi': 673, 'thala': 1723, 'adutha': 73, 'election': 440, 'ithra': 696, 'ningalk': 1203, 'case': 243, 'lu': 1016, 'illalo': 637, 'eni': 456, 'avar': 183, 'orupaadu': 1318, 'vishamangal': 1950, 'eppol': 498, 'nadakkunnu': 1147, 'very': 1930, 'ithrem': 699, 'english': 455, 'thonnunnu': 1804, 'chintha': 319, 'thannee': 1756, 'oruthan': 1321, 'karanam': 843, 'ippol': 671, 'tv': 1820, 'muslim': 1129, 'enikku': 460, 'penurl': 1445, 'makkale': 1034, 'orthu': 1314, 'avarude': 190, 'avastha': 194, 'malayalikalude': 1040, 'mathavum': 1065, 'avarde': 184, 'kaanan': 771, 'ivante': 724, 'entha': 482, 'thavala': 1776, 'pettu': 1454, 'paadan': 1334, 'ariyathe': 139, 'varum': 1897, 'super': 1702, 'cinemayil': 339, 'nalla': 1154, 'dhairyam': 407, 'venam': 1918, 'paint': 1347, 'aarelum': 34, 'kodukku': 899, 'inn': 661, 'nale': 1153, 'ummaram': 1834, 'vedi': 1908, 'vechu': 1907, 'eda': 424, 'enth': 481, 'parayunne': 1400, 'ningalde': 1200, 'charithram': 256, 'motham': 1107, 'enn': 465, 'keralathile': 864, 'tg': 1718, 'kettiyal': 870, 'viswasam': 1956, 'ethu': 510, 'aayathu': 49, 'evide': 524, 'politics': 1485, 'parayaan': 1379, 'ariyilla': 140, 'rand': 1579, 'ada': 63, 'paranari': 1368, 'chodichote': 326, 'ni': 1185, 'mikka': 1084, 'ee': 434, 'und': 1835, 'purake': 1559, 'undallo': 1841, 'ninne': 1209, 'pooril': 1504, 'ithe': 687, 'keralam': 862, 'angane': 113, 'parayam': 1380, 'all': 84, 'its': 708, 'just': 768, 'art': 146, 'she': 1647, 'wrong': 1980, 'even': 523, 'for': 545, 'that': 1775, 'he': 587, 'cheyyaan': 302, 'kuree': 981, 'pennugal': 1442, 'athu': 166, 'kanumbol': 841, 'enthu': 493, 'durantham': 422, 'ithu': 700, 'nthina': 1240, 'veruthe': 1927, 'kand': 809, 'time': 1813, 'odikko': 1249, 'vedikale': 1909, 'ohh': 1254, 'um': 1832, 'indian': 647, 'ude': 1822, 'thammil': 1741, 'athalle': 155, 'muhammad': 1116, 'nabi': 1143, 'islam': 681, 'aakum': 16, 'ithil': 689, 'true': 1819, 'aayirikkum': 51, 'swargathil': 1708, 'avante': 180, 'kodukanam': 895, 'family': 532, 'short': 1656, 'film': 540, 'kurachu': 975, 'ennu': 477, 'athile': 158, 'content': 367, 'message': 1082, 'ayirunnu': 208, 'cheap': 262, 'ithilum': 690, 'pattu': 1416, 'cinema': 337, 'view': 1937, 'kittan': 879, 'vndi': 1964, 'may': 1079, 'be': 220, 'but': 240, 'youtube': 1988, 'videos': 1936, 'dislike': 413, 'nn': 1226, 'enna': 466, 'ella': 441, 'thettanu': 1794, 'kodukan': 894, 'pattilla': 1413, 'sandeep': 1616, 'nannayi': 1164, 'ond': 1268, 'ath': 153, 'koode': 929, 'aanenn': 28, 'chekuthante': 266, 'unsubscribe': 1853, 'channel': 253, 'ith': 684, 'idan': 609, 'eppo': 497, 'milk': 1086, 'hassan': 585, 'nallathu': 1156, 'edo': 426, 'koppe': 938, 'irikkunna': 675, 'pucham': 1549, 'chey': 281, 'paranja': 1370, 'myran': 1138, 'undenkil': 1847, 'peru': 1452, 'paranj': 1369, 'koppum': 940, 'enno': 475, 'hindhu': 595, 'cristian': 382, 'ellarum': 444, 'onnanu': 1273, 'deepa': 400, 'vargheeya': 1893, 'vadi': 1866, 'eee': 435, 'randu': 1581, 'madyama': 1027, 'haters': 586, 'get': 562, 'ororo': 1311, 'chanaka': 247, 'sangikal': 1620, 'satyam': 1628, 'kanilla': 835, 'pala': 1354, 'ethra': 509, 'daiyvame': 393, 'pattiya': 1414, 'ale': 83, 'ho': 599, 'man': 1043, 'keri': 866, 'mutti': 1131, 'mathi': 1066, 'ningalude': 1204, 'publicity': 1548, 'aano': 31, 'team': 1715, 'bro': 237, 'varunna': 1899, 'vanna': 1879, 'hindu': 597, 'kt': 954, 'sir': 1660, 'adich': 67, 'bava': 219, 'œðÿ': 1995, 'parayilla': 1388, 'clear': 343, 'parayunath': 1396, 'kandu': 825, 'arjun': 143, 'hair': 578, 'sathyam': 1626, 'nthoru': 1241, 'jaathi': 732, 'noki': 1230, 'ittu': 710, 'sreejith': 1672, 'kooduthal': 931, 'tharam': 1771, 'theruvil': 1792, 'ollu': 1265, 'troll': 1818, 'world': 1979, 'inte': 665, 'naari': 1142, 'oola': 1286, 'thallu': 1738, 'appol': 130, 'makkal': 1032, 'ivare': 726, 'valla': 1872, 'thallanam': 1731, 'call': 241, 'kettu': 873, 'hahaha': 576, 'level': 1002, 'žðÿ': 1997, 'corona': 370, 'ku': 955, 'nari': 1166, 'njanum': 1223, 'pavam': 1419, 'redlover': 1590, 'matham': 1062, 'mumbil': 1122, 'poori': 1502, 'parayunna': 1397, 'ninna': 1207, 'myru': 1140, 'kala': 781, 'nintta': 1215, 'vara': 1886, 'maatram': 1019, 'pottan': 1512, 'panni': 1364, 'ithano': 685, 'idhu': 616, 'le': 1001, 'santhathi': 1622, 'arengilum': 135, 'cmnt': 347, 'parayana': 1382, 'myre': 1139, 'keeri': 860, 'vittu': 1960, 'santhosham': 1624, 'ie': 623, 'full': 553, 'adipoli': 71, 'enthanu': 486, 'pinne': 1456, 'ore': 1301, 'company': 363, 'cheyyanam': 304, 'edi': 425, 'makale': 1031, 'nigal': 1187, 'kutam': 987, 'sontham': 1666, 'poi': 1469, 'vila': 1940, 'kollaam': 907, 'poli': 1481, '50': 3, 'vare': 1889, 'idhine': 614, 'parayanilla': 1385, 'vech': 1904, 'kanduurl': 826, 'atha': 154, 'edutha': 431, 'sabarimala': 1606, 'kayaran': 854, 'jasla': 745, 'ye': 1981, 'allallo': 87, 'aan': 24, 'best': 222, 'aaru': 38, 'mola': 1095, 'malayalikal': 1039, 'ninakokke': 1194, 'vargeeyatha': 1892, 'aanallo': 25, 'tayoli': 1713, 'nalloru': 1157, 'news': 1183, 'women': 1976, 'chaithu': 246, 'nokku': 1234, 'security': 1634, 'vitt': 1957, 'nadakkunna': 1145, 'pooran': 1501, 'kannil': 838, 'ang': 112, 'pokum': 1476, 'chette': 280, 'cpm': 379, 'party': 1403, 'penkuttikal': 1434, 'poyal': 1520, 'kondanu': 921, 'ariyam': 137, 'kerala': 861, 'politicians': 1484, 'ennam': 469, 'kunna': 970, 'aasanam': 40, 'amma': 98, 'kayyil': 857, 'ninnum': 1211, 'vp': 1967, 'orumich': 1316, 'bakshanam': 217, 'parayipurl': 1389, 'avanu': 181, 'muslims': 1130, 'thanneyanu': 1760, 'puli': 1550, 'aanennu': 29, 'purathulla': 1562, 'biriyani': 227, 'eppozhum': 499, 'sudapurl': 1696, 'oo': 1281, 'allam': 89, 'kuzhappam': 995, 'test': 1717, 'kidannu': 875, 'para': 1367, 'chumma': 333, 'vijayan': 1939, 'vechal': 1905, 'lockdown': 1009, 'enne': 472, 'paranje': 1375, 'charcha': 255, 'isis': 680, 'join': 760, 'avare': 185, 'police': 1482, 'mone': 1100, 'ooole': 1294, 'alukale': 97, 'kitty': 883, 'ningal': 1199, 'endhinu': 450, 'valuth': 1875, 'veena': 1910, 'montha': 1102, 'chanel': 252, 'subscribe': 1694, 'avande': 178, 'thalak': 1724, 'athrem': 165, 'yellavarum': 1983, 'shani': 1645, 'valare': 1869, 'singh': 1659, 'ne': 1173, 'vaayil': 1864, 'edukan': 427, 'rajesh': 1573, 'iniyum': 660, 'parayu': 1390, 'aalu': 21, 'annu': 121, 'not': 1236, 'famous': 533, 'islamophobia': 682, 'janthu': 744, 'bore': 234, 'sankadam': 1621, 'varumpol': 1898, 'sahodara': 1609, 'kmcc': 886, 'undo': 1848, 'and': 106, 'big': 225, 'culture': 383, 'thanneya': 1758, 'kurappam': 977, 'kalyanam': 797, 'aadyam': 10, 'ammede': 103, 'ƒðÿ': 1998, 'alleðÿ': 93, 'kanditt': 819, 'karyam': 845, 'manasilakum': 1047, 'sangi': 1619, 'moorikal': 1104, 'kodukkan': 898, 'mother': 1108, 'mulayum': 1120, 'sthree': 1683, 'aayirunnu': 52, 'jeevitham': 752, 'kai': 777, 'roy': 1604, 'athe': 156, 'karyathil': 848, 'prahasanam': 1525, 'myra': 1137, 'quran': 1569, 'ethoke': 507, 'areyum': 136, 'karyangal': 847, 'polayadi': 1479, 'avasanam': 192, 'voice': 1965, 'baaki': 213, 'rashtreeya': 1585, 'oolakal': 1287, 'ivanmar': 722, 'ninnal': 1208, 'janangale': 741, 'paavam': 1337, 'hussan': 604, 'john': 757, 'daa': 387, 'eduth': 430, 'nite': 1217, 'yude': 1990, 'filim': 539, 'andi': 107, 'ennanu': 471, 'comments': 358, 'pedichu': 1428, 'nariye': 1167, 'ninn': 1206, 'thazhe': 1779, 'main': 1029, 'tholvi': 1799, 'day': 396, 'with': 1975, 'kili': 877, 'kashttam': 850, 'aval': 169, 'avale': 171, 'enthinu': 489, 'we': 1972, 'ivide': 729, 'vann': 1878, 'alukal': 96, 'enthada': 483, 'kanichu': 830, 'chavada': 259, 'mashe': 1059, 'etra': 512, 'at': 152, 'šðÿ': 1996, 'cheytha': 288, 'aalle': 20, 'ithrayum': 698, 'like': 1004, 'suresh': 1704, 'gourl': 569, 'kaaryam': 774, 'kalikan': 789, 'rima': 1599, 'vannallo': 1880, 'kalla': 792, 'shibu': 1652, 'ivan': 720, 'dayavu': 397, 'chanakathe': 249, 'parayanum': 1386, 'thanikk': 1749, 'daivam': 389, 'ammayum': 101, 'achanum': 61, 'pundachi': 1557, 'kochi': 889, 'show': 1657, 'il': 627, 'acting': 62, 'pakka': 1351, 'oro': 1308, 'ayal': 202, 'avasaram': 193, 'ippolum': 672, 'vishnu': 1953, 'raji': 1574, 'thoori': 1806, 'shaji': 1642, 'parayum': 1392, 'potta': 1511, 'ooola': 1293, 'thannae': 1754, 'than': 1742, 'personal': 1451, 'media': 1081, 'matt': 1076, 'aane': 26, 'ldf': 1000, 'kandittilla': 820, 'rahana': 1571, 'fathima': 536, 'naye': 1171, 'patty': 1418, 'rss': 1605, 'bjp': 228, 'what': 1973, 'me': 1080, 'othukkan': 1326, 'paranjathu': 1374, '100': 1, 'enikum': 461, 'verthe': 1925, 'rani': 1584, 'paripadi': 1402, 'ivalude': 718, 'kurey': 982, 'kathikkanam': 852, 'ivale': 713, 'thonnum': 1802, 'adichu': 69, 'entho': 490, 'matha': 1061, 'onn': 1272, 'punnara': 1558, 'sparta': 1668, 'orupaad': 1317, 'kaanum': 773, 'kett': 867, 'nna': 1227, 'parayunnath': 1398, 'kallam': 793, 'pere': 1448, 'konna': 924, 'pacha': 1338, 'chaveda': 260, 'pulle': 1552, 'parvathy': 1405, 'heroism': 592, 'anennu': 111, 'thantha': 1764, 'neram': 1180, 'verum': 1926, 'maathram': 1018, 'movies': 1111, 'veruthey': 1928, 'angu': 115, 'kollu': 912, 'ninakkokke': 1192, 'oruthi': 1323, 'thuni': 1811, 'neeyokke': 1178, 'enthadi': 484, 'ooo': 1292, 'fan': 534, 'haram': 580, 'first': 542, 'jeevikan': 749, 'padik': 1343, 'epo': 495, 'nu': 1243, 'kitti': 880, 'evar': 521, 'communist': 362, 'ano': 122, 'nair': 1151, 'vallu': 1874, 'swayam': 1709, 'kutti': 991, 'samooham': 1613, 'cheyyunnu': 312, '15': 2, 'dna': 416, 'unde': 1845, 'kondu': 923, 'kochu': 890, 'cheyunna': 299, 'kondano': 920, 'ninakk': 1191, 'ishtam': 679, 'avalude': 175, 'shaddi': 1641, 'kodukk': 896, 'porn': 1508, 'mathramanu': 1069, 'mathatheyum': 1063, 'ithokke': 695, 'endh': 449, 'tiktok': 1812, '10': 0, 'limit': 1005, 'ann': 116, 'follow': 543, 'insta': 664, 'ennit': 473, 'ntha': 1239, 'cheyathe': 285, 'online': 1271, 'unni': 1851, 'poyo': 1524, 'cinima': 341, 'yil': 1985, 'friends': 550, 'place': 1457, 'money': 1101, 'nayinte': 1172, 'hari': 581, 'free': 547, 'aayi': 50, 'onum': 1280, 'allalo': 88, 'pearle': 1425, 'akan': 78, 'vaa': 1862, 'manikk': 1051, 'rover': 1603, 'anenkil': 109, 'ottakk': 1328, 'illathond': 640, 'eduthu': 433, 'pulli': 1553, 'vilichu': 1944, 'kadi': 776, 'paniyum': 1362, 'nattil': 1170, 'nadakkilla': 1144, 'maha': 1028, 'mohan': 1091, 'knanaya': 887, 'kannadi': 836, 'enit': 462, 'jada': 733, 'kundiyude': 966, 'chorichil': 331, 'sadanam': 1608, 'ullavar': 1828, 'va': 1861, 'ellavarum': 445, 'madyam': 1026, 'koduth': 901, 'aarkum': 37, 'venda': 1919, 'ullu': 1830, 'vicharam': 1934, 'avanum': 182, 'kali': 787, 'kalam': 783, 'allathe': 90, 'epol': 496, 'kettal': 869, 'nude': 1244, 'athre': 164, 'mandan': 1049, 'mutual': 1132, 'veliya': 1916, 'reethiyil': 1591, 'jeevan': 748, 'kashtam': 849, 'ilavu': 630, 'review': 1598, 'ªðÿ': 1992, 'no': 1229, 'mr': 1113, 'theatre': 1781, 'kanda': 810, 'in': 644, 'the': 1780, 'mathathil': 1064, 'thallayum': 1734, 'prostitute': 1543, 'orupadu': 1320, 'correct': 373, 'thanthaye': 1768, 'ninakku': 1193, 'malayalam': 1037, 'public': 1547, 'kk': 884, 'baki': 215, 'dress': 421, 'coveril': 375, 'veetil': 1912, 'pannikkundaya': 1366, 'poo': 1492, 'ammaye': 99, 'chetan': 273, 'upload': 1854, 'pazhankanji': 1423, 'roast': 1601, 'itrem': 707, 'chiriurl': 324, 'chora': 330, 'serious': 1637, 'comedy': 353, 'nink': 1205, 'oke': 1256, 'avlde': 198, 'vrithiketta': 1968, 'nallath': 1155, 'egane': 437, 'okk': 1258, 'ammayude': 100, 'padiurl': 1346, 'vannatha': 1882, 'kanak': 803, 'theerchayayum': 1783, 'nine': 1197, 'koraya': 942, 'loka': 1010, 'kodum': 900, 'thalla': 1729, 'chadi': 245, 'salute': 1611, 'ithum': 701, 'pakuyhi': 1353, 'chance': 251, 'eh': 438, 'matram': 1075, 'pedi': 1426, 'report': 1596, 'cheyanam': 284, 'samskaram': 1615, 'oombiya': 1291, 'kazhinju': 858, 'apo': 127, 'athinu': 160, 'peril': 1449, 'innu': 663, 'avana': 177, 'poyathu': 1521, 'nice': 1186, 'cheythal': 289, 'avo': 200, 'ketto': 871, 'georginde': 561, 'hindi': 596, 'series': 1635, 'thott': 1808, 'enk': 464, 'kalayan': 786, 'moly': 1098, 'maire': 1030, 'theri': 1791, 'vili': 1941, 'yum': 1991, 'thaniku': 1750, 'aayalum': 48, 'so': 1664, 'mathramalla': 1068, 'from': 551, 'school': 1631, 'life': 1003, 'theerum': 1786, 'ninaku': 1195, 'ennittu': 474, 'varam': 1887, 'ellaarum': 442, 'penkuttiye': 1436, 'anya': 126, 'look': 1014, 'kodutha': 902, 'script': 1632, 'bhai': 223, 'photo': 1455, 'chila': 313, 'mathrubhumi': 1072, 'one': 1269, 'year': 1982, 'china': 315, 'samshayam': 1614, 'kollanam': 910, 'pokki': 1473, 'details': 405, 'veettil': 1914, 'gun': 572, 'avasyam': 195, 'waiting': 1970, 'ikkande': 625, 'stree': 1689, 'scene': 1630, 'kannan': 837, 'vannavar': 1883, 'endhu': 451, 'ashik': 151, 'abu': 56, 'gunda': 573, 'ulup': 1831, 'malare': 1035, 'stageil': 1674, 'kayi': 856, 'molk': 1097, 'enike': 458, 'doubt': 419, 'ayale': 203, 'puri': 1563, 'vettan': 1933, 'anno': 120, 'njangal': 1220, 'cheyunilla': 298, 'cheyunnu': 300, 'muhammed': 1117, 'ivarude': 727, 'itra': 706, 'ila': 628, 'parayuna': 1395, 'thane': 1743, 'interviewil': 667, 'akam': 77, 'olde': 1262, 'idh': 613, 'hash': 583, 'lokath': 1012, 'cpim': 378, 'kuttye': 994, 'vamsha': 1877, 'thirich': 1797, 'veendum': 1911, 'aadhyam': 9, 'kaanam': 770, 'santhosh': 1623, 'ozhukkinu': 1333, 'mol': 1094, 'please': 1458, 'joli': 761, 'pedich': 1427, 'vishvasikkunna': 1954, 'parayumbol': 1394, 'parayuka': 1391, 'mattu': 1077, 'ennum': 478, 'mare': 1056, 'kotham': 946, 'kundan': 962, 'adi': 66, 'kammikalum': 802, 'kammikal': 800, 'kuru': 986, 'potti': 1513, 'apol': 128, 'kudumpam': 958, 'konnathu': 926, 'ottum': 1329, 'mam': 1041, 'you': 1986, 'evideya': 525, 'janangal': 740, 'konam': 914, 'pullu': 1555, 'varunnu': 1900, 'ithuvare': 704, 'orikalum': 1303, 'work': 1978, 'enda': 447, 'poora': 1500, 'yes': 1984, 'manasilayi': 1048, 'avalu': 174, 'ine': 651, 'aanel': 27, 'athil': 157, 'aloor': 94, 'aaa': 5, 'poyaal': 1519, 'kalipurl': 791, 'arum': 147, 'illallo': 636, 'johnphilip': 758, 'palliyil': 1358, 'ullathu': 1827, 'mosham': 1106, 'gathikedu': 557, 'undakki': 1838, 'keralathinte': 865, 'da': 386, 'vazhi': 1903, 'kupurl': 972, 'malayala': 1036, 'cinemayude': 340, 'steel': 1679, 'ivalku': 717, 'british': 236, 'oppam': 1296, 'jihadi': 755, 'kananam': 807, 'shaming': 1643, 'hai': 577, 'inghane': 657, 'koya': 950, 'muzhuvanum': 1134, 'kola': 904, 'vayil': 1901, 'pazham': 1422, 'arya': 149, 'cheyyum': 307, 'parayanath': 1384, 'daaa': 388, 'mass': 1060, 'manushyane': 1054, 'poye': 1522, 'nadakkunnath': 1146, 'thangal': 1744, 'sri': 1673, 'sasi': 1625, 'adyam': 75, 'house': 601, 'thanney': 1757, 'anti': 124, 'udf': 1823, 'own': 1332, 'kalath': 784, 'chirikan': 323, 'vaka': 1867, 'haha': 575, 'cheythey': 293, 'koch': 888, 'oolakale': 1288, 'edukkan': 428, 'kumar': 961, 'chanakam': 248, 'kalakki': 782, 'aayallo': 46, 'off': 1252, 'sreejil': 1671, 'camera': 242, 'angne': 114, 'tanne': 1712, 'varu': 1896, 'achan': 59, 'indo': 649, 'orale': 1300, 'veruurl': 1929, 'account': 58, 'oori': 1295, 'social': 1665, 'dialog': 410, 'divasam': 414, 'sugham': 1697, 'konde': 922, 'kandilla': 817, 'kolathil': 905, 'share': 1646, 'aaya': 43, 'kittum': 881, 'sadachara': 1607, 'bodham': 231, 'sfi': 1640, 'cheyyunne': 311, 'avarum': 191, 'moothram': 1105, 'di': 409, 'fukru': 552, 'chettana': 278, 'njangale': 1221, 'plzz': 1461, 'podaa': 1464, 'kodu': 892, 'myr': 1136, 'thendi': 1789, 'orikkalum': 1304, 'india': 646, 'pennu': 1441, 'sanghi': 1618, 'vakku': 1868, 'nere': 1181, 'ningale': 1201, 'olla': 1264, 'avalk': 172, 'panam': 1359, 'mathy': 1074, 'aduthanu': 74, 'paisa': 1349, 'vayya': 1902, 'kandille': 818, 'munnottu': 1126, 'boss': 235, 'aayit': 53, 'ennan': 470, 'cherth': 271, 'setta': 1638, 'adheham': 64, 'chetta': 274, 'itta': 709, 'visham': 1949, 'mani': 1050, 'aayal': 45, 'enik': 457, 'undakum': 1840, 'dee': 399, 'aal': 17, 'do': 417, 'feminist': 538, 'thaayoli': 1720, 'vannittu': 1884, 'thirichu': 1798, 'kettoda': 872, 'kanam': 805, 'shane': 1644, 'nigam': 1188, 'oronn': 1309, 'enthoke': 491, 'on': 1267, 'kidanne': 874, 'pakaram': 1350, 'vallatha': 1873, 'vilikkum': 1945, 'bikini': 226, 'pande': 1360, 'onne': 1274, 'strict': 1690, 'engil': 454, 'undavilla': 1843, 'god': 566, 'bless': 230, 'thaan': 1719, 'thanik': 1748, 'sthalam': 1680, 'kanich': 827, 'kozhikal': 952, 'serikkum': 1636, 'credit': 380, 'vilich': 1942, 'kal': 780, 'enikk': 459, 'ithupolulla': 703, 'kaanaan': 769, 'ah': 76, 'urlðÿ': 1858, 'umma': 1833, 'thanneyalle': 1759, 'glassil': 564, 'presentation': 1534, 'your': 1987, 'lakshmi': 997, 'are': 134, 'cheyyunna': 308, 'aalukal': 22, 'link': 1006, 'neee': 1175, 'dhanya': 408, 'kuttikal': 992, 'randum': 1582, 'nthu': 1242, 'face': 528, 'ithine': 691, 'rajyam': 1576, 'tharumo': 1774, 'iyal': 730, 'orupad': 1319, 'parvathi': 1404, 'dance': 394, 'pennungal': 1443, 'poorikal': 1503, 'thalakku': 1725, 'eeee': 436, 'podo': 1468, 'oole': 1290, 'ethir': 504, 'original': 1302, 'kuttam': 989, 'paranjal': 1371, 'avaru': 188, 'arun': 148, 'paranjappol': 1372, 'swontham': 1710, 'over': 1331, 'aduth': 72, 'orru': 1312, 'cut': 384, 'thallayodu': 1733, 'kallan': 794, 'award': 201, 'che': 261, 'coronakku': 371, 'lokam': 1011, 'muzhuvan': 1133, 'thani': 1747, 'swabavam': 1705, 'name': 1158, 'prblm': 1532, 'verde': 1923, 'madham': 1023, 'manasilaki': 1046, 'alathe': 82, 'iavare': 605, 'ok': 1255, 'ethum': 511, 'ala': 80, 'jeevithathilum': 753, 'miss': 1088, 'cheyyane': 305, 'ezhuthiyath': 527, 'padi': 1341, 'parayunnu': 1401, 'mugath': 1115, 'psmo': 1544, 'kalayalle': 785, 'enthayalum': 487, 'penninte': 1440, 'oolakalude': 1289, 'thanthak': 1765, 'comparison': 365, 'ezhuthi': 526, 'munnil': 1125, 'book': 233, 'facebook': 529, 'kolllaam': 911, 'sthreekal': 1684, 'konnu': 927, 'theerkkan': 1785, 'hindukkal': 598, 'eniyum': 463, 'movie': 1110, 'kundiyum': 967, 'sheriya': 1650, 'chiri': 320, 'nakki': 1152, 'or': 1297, 'fake': 531, 'paadilla': 1336, 'ingal': 653, 'nokk': 1231, 'aahn': 12, 'nudity': 1245, 'fb': 537, 'suhruthe': 1698, 'religion': 1593, 'point': 1470, 'aarenkilum': 35, 'ivalkku': 716, 'chechi': 263, 'mari': 1057, 'happy': 579, 'ponnu': 1491, 'neeyoke': 1177, 'kastam': 851, 'vera': 1922, 'koree': 944, 'eth': 502, 'an': 104, 'marannu': 1055, 'jolly': 764, 'oral': 1299, 'elle': 446, 'psychological': 1545, 'sneham': 1663, 'purathu': 1561, 'thallal': 1730, 'perum': 1453, 'kanan': 806, 'patto': 1415, 'aaaa': 6, 'star': 1675, 'last': 999, 'kundante': 963, 'program': 1541, 'akum': 79, 'njnum': 1225, 'kunnamkulam': 971, 'govt': 570, 'padicha': 1342, 'eatha': 423, 'shoot': 1655, 'delete': 403, 'cheithu': 264, 'compare': 364, 'perkkum': 1450, 'communism': 361, 'theere': 1784, 'ende': 448, 'ravile': 1588, 'kollum': 913, 'live': 1007, 'illade': 635, 'unnikrishnan': 1852, 'irunn': 676, 'manasil': 1045, 'vote': 1966, 'aalkar': 19, 'indu': 650, 'num': 1246, 'aavan': 42, 'fact': 530, 'nammade': 1159, 'avarkk': 187, 'aayitt': 54, 'virus': 1948, 'ˆðÿ': 1999, 'ayitt': 209, 'commentinum': 357, 'reply': 1595, 'arkum': 145, 'kazhiyilla': 859, 'her': 590, 'thonni': 1801, 'next': 1184, 'cm': 345, 'evda': 522, 'trend': 1817, 'lol': 1013, 'idanam': 610, 'as': 150, 'kurichu': 985, 'kopp': 936, 'oduda': 1250, 'cynide': 385, 'congress': 366, 'erunnu': 500, 'jathi': 746, 'chuma': 332, 'munbil': 1124, 'deivam': 402, 'undakkiya': 1839, 'endu': 452, 'ithinu': 693, 'prime': 1537, 'allenkil': 92, 'penkuttikale': 1435, 'evale': 517, 'eval': 516, 'kandtto': 824, 'kutty': 993, 'cheythathu': 292, 'kunjine': 968, 'kurich': 984, 'achane': 60, 'malayalathil': 1038, 'ennal': 467, 'anenna': 110, 'james': 739, 'pt': 1546, 'kammi': 799, 'ivane': 721, 'aaanu': 8, 'prayogam': 1531, 'aann': 30, 'ivalk': 715, 'idhokke': 615, 'tip': 1814, 'ula': 1824, 'prasnam': 1529, 'kopppa': 939, 'nth': 1238, 'chathude': 258, 'jailil': 737, 'naanam': 1141, 'madi': 1025, 'cheyy': 301, 'thomas': 1800, 'colour': 352, 'bakki': 216, 'pls': 1459, 'kootathil': 932, 'real': 1589, 'urapanu': 1856, 'oruuuuuu': 1324, 'penn': 1438, 'adiche': 68, 'onu': 1279, 'tharathil': 1772, 'ivammare': 719, 'ningalepole': 1202, 'oliurl': 1263, 'pulla': 1551, 'iyyal': 731, 'thalayil': 1728, 'munb': 1123, 'adhyam': 65, 'spread': 1669, 'thangi': 1746, 'chirichu': 322, 'nadinte': 1150, 'maty': 1078, 'chettaaa': 275, 'post': 1509, 'idumbo': 621, 'hijda': 594, 'vivarom': 1962, 'ill': 631, 'undalloo': 1842, 'thayolli': 1778, 'national': 1168, 'onju': 1270, 'aareyum': 36, 'thonnunnilla': 1803, 'sathyathil': 1627, 'nooru': 1235, 'kootti': 933, 'joliye': 762, 'criminal': 381, 'daivathe': 391, 'gas': 556, 'vittal': 1959, 'prashnam': 1528, 'inim': 659, 'unda': 1836, 'tharada': 1770, 'presence': 1533, 'kuravanu': 978, 'hero': 591, 'shine': 1653, 'unlike': 1850, 'students': 1692, 'tr': 1816, 'kooda': 928, 'im': 643, 'thrissur': 1809, 'ilallo': 629, 'anallo': 105, 'thante': 1763, 'mumbe': 1121, 'ethire': 505, 'cheyda': 286, 'cash': 244, 'kammikalkku': 801, 'vargam': 1890, 'ichiri': 606, 'kandavane': 815, 'vilikkunna': 1946, 'poodi': 1493, 'ganesh': 555, 'choodu': 329, 'allah': 86, 'poy': 1517, 'kopum': 941, 'thannu': 1761, 'daivame': 390, 'our': 1330, 'thanta': 1762, 'parayumbo': 1393, 'thallaye': 1732, 'amme': 102, 'ooki': 1285, 'ariyatha': 138, 'kope': 935, 'rate': 1587, 'jeevikunna': 751, 'athine': 159, 'cinemaye': 338, 'kallavum': 795, 'jaleel': 738, 'arada': 133, 'po': 1462, 'koll': 906, 'sister': 1662, 'colony': 350, 'orma': 1307, 'thanthayodu': 1769, 'maths': 1073, 'idathu': 611, 'ane': 108, 'glass': 563, 'sundari': 1700, 'edukkum': 429, 'kittunna': 882, 'avde': 196, 'percent': 1447, 'purity': 1564, 'varsham': 1895, 'paranjit': 1376, 'thendikal': 1790, 'manam': 1044, 'food': 544, 'inu': 668, 'kanikkaruth': 833, 'undaki': 1837, 'hoo': 600, 'thadi': 1721, 'problems': 1539, 'kanikan': 831, 'thudangi': 1810, 'influence': 652, 'kku': 885, 'kollan': 909, 'veliyil': 1917, 'nerittu': 1182, 'ponno': 1490, 'pok': 1471, 'pora': 1506, 'lal': 998, 'style': 1693, 'thanthakku': 1767, 'commentil': 356, 'laksham': 996, 'koduthu': 903, 'mama': 1042, 'sukham': 1699, 'ninthe': 1214, 'chund': 334, 'veetile': 1913, 'vijaram': 1938, 'huh': 602, 'illaatha': 634, 'evante': 520, 'dileep': 412, 'annenu': 119, 'irunno': 677, 'vitta': 1958, 'general': 559, 'thanthakk': 1766, 'bla': 229, 'kourl': 948, 'fans': 535, 'namuk': 1162, 'plz': 1460, 'swanthamayi': 1707, 'nyayeekarikkan': 1248, 'pokunnu': 1477, 'evade': 515, 'husband': 603, 'chinayude': 317, 'mukyan': 1118, 'ennokke': 476, 'adinu': 70, 'pennine': 1439, 'ithupole': 702, 'pattumo': 1417, 'ayye': 211, 'aaki': 15, 'kura': 973, 'ha': 574, 'abvp': 57, 'njangalk': 1222, 'produce': 1540, 'respect': 1597, 'nadanna': 1149, 'nattal': 1169, 'shesham': 1651, 'aalukale': 23, 'valarthan': 1870, 'mathrame': 1070, 'aalaanu': 18, 'chuttum': 336, 'cheyyu': 306, 'pretham': 1536, 'oraal': 1298, 'nokkiya': 1233, 'mathre': 1071, 'kakkoosil': 779, 'jagathy': 735, 'freedom': 548, 'avlude': 199, 'podey': 1466, 'chanalil': 250, 'powell': 1516, 'jolli': 763, 'fraud': 546, 'illaa': 633, 'potty': 1515, 'path': 1406, 'evalude': 518, 'thanks': 1752, 'corporate': 372, 'pattikkan': 1411, 'mla': 1089, 'kandittundo': 822, 'pen': 1432, 'already': 95, 'ennalum': 468, 'oh': 1253, 'ithinte': 692, 'randalum': 1580, 'vlog': 1963, 'cheyyunnath': 309, 'makkala': 1033, 'munpu': 1127, 'peediurl': 1431, 'araa': 132, 'koppan': 937, 'pooo': 1497, 'sthreeye': 1686, 'alanu': 81, 'ivanokke': 723, 'ayath': 205, 'lock': 1008, 'down': 420, 'prolsahiurl': 1542, 'krishna': 953, 'eurl': 514, 'friend': 549, 'konnalum': 925, 'pengalem': 1433, 'maare': 1017, 'veshya': 1932, 'sirne': 1661, 'pallil': 1357, 'abhiprayam': 55, 'old': 1261, 'hasi': 584, 'athokke': 162, 'story': 1688, 'varan': 1888, 'aunty': 168, 'de': 398, 'rajith': 1575, 'thallum': 1739, 'ara': 131, 'cousin': 374, 'ayyo': 212, 'palli': 1356, 'ketta': 868, 'muri': 1128, 'motta': 1109, 'pavan': 1420, 'kudumba': 957, 'avalkku': 173, 'vacha': 1865, 'negative': 1179, 'vishayam': 1952, 'indiayil': 648, 'oodikkanam': 1282, 'utharam': 1860, 'budhi': 238, 'ullath': 1826, 'etho': 506, 'fund': 554, 'janangalk': 742, 'oodum': 1283, 'mp': 1112, 'balan': 218, 'avaruda': 189, 'sorry': 1667, 'idi': 617, 'viliche': 1943, 'vendathu': 1920, 'cheytu': 295, 'othiri': 1325, 'kalikkan': 790, 'poor': 1499, 'onnm': 1275, 'pola': 1478, 'madam': 1021, 'paadi': 1335, 'sahodari': 1610, 'chundu': 335, 'vannath': 1881, 'nilayil': 1189, 'kalichu': 788, 'prasad': 1526, 'sherikum': 1649, 'kandavar': 816, 'to': 1815, 'dialogue': 411, 'cheythalum': 290, 'repeat': 1594, 'hello': 589, 'avark': 186, 'kanum': 840, 'dash': 395, 'kunju': 969, 'payyante': 1421, 'nadan': 1148, 'thalamura': 1726, 'kairali': 778, 'collegil': 349, 'business': 239, 'konda': 917, 'chinayil': 316, 'jisha': 756, 'poole': 1494, 'chekuthan': 265, 'chettakal': 276, 'ethonnum': 508, 'kandittum': 821, 'idiot': 618, 'shoe': 1654, 'ivaleyoke': 714, 'pongi': 1489, 'ragyathe': 1570, 'janicha': 743, 'color': 351, 'aayaalum': 44, 'uppa': 1855, 'aaano': 7, 'pokku': 1474, 'kundiyil': 965, 'kanakk': 804, 'kuttan': 990, 'puthiya': 1567, 'idu': 619, 'orthal': 1313, 'enta': 479, 'omar': 1266, 'kaanikkunnath': 772, 'undel': 1846, 'character': 254, 'chellanam': 267, 'kondalle': 918, 'sunny': 1701, 'cooling': 369, 'kayari': 855, 'pennungale': 1444, 'class': 342, 'chithram': 325, 'good': 568, 'chirich': 321, 'teams': 1716, 'kanikkatte': 834, 'kariyam': 844, 'parayanam': 1383, 'thopurl': 1807, 'ikkane': 626, 'kulicha': 959, 'pannikale': 1365, 'sree': 1670, 'pode': 1465, 'madani': 1022, 'ikka': 624, 'pattila': 1412, 'sangadam': 1617, 'cmdy': 346, 'beauty': 221, 'aakan': 14, 'thalparyam': 1740, 'vishaya': 1951, 'degree': 401, 'evan': 519, 'padipurl': 1345, 'kandappo': 814, 'vari': 1894, 'sthreeyude': 1687, 'ithrak': 697, 'cheta': 272, 'ethaa': 503, 'satyathil': 1629, 'clip': 344, 'pc': 1424, 'roopa': 1602, 'kambi': 798, 'idayil': 612, 'idaan': 608, 'jose': 765, 'thecho': 1782, 'gulfil': 571, 'njangade': 1219, 'covid19': 377, 'control': 368, 'it': 683, 'wait': 1969, 'inganathe': 654, 'ayirikkum': 207, 'ariyu': 141, 'jai': 736, 'kadha': 775, 'prasangam': 1527, 'cheyyunnavar': 310, 'sudappi': 1695, 'id': 607, 'inganokke': 656, 'kananulla': 808, 'chathu': 257, 'aashramam': 41, 'polulla': 1486, 'oruthanum': 1322, 'divorce': 415, 'kuthi': 988, 'commentukal': 359, 'polichu': 1483, 'ithvare': 705, 'kum': 960, 'viral': 1947, 'ivalde': 712, 'manjarame': 1052, 'kannur': 839, 'kodukkada': 897, 'question': 1568, 'paranjitt': 1377, 'chilapo': 314, 'cmt': 348, 'oroo': 1310, 'cheyuna': 297, 'sthithi': 1682, 'stark': 1676, '²ðÿ': 1993, 'has': 582, 'kottayam': 947, 'ithellam': 688, 'bharanam': 224, 'answer': 123, 'orkuka': 1306, 'kandaal': 811, 'sthanathu': 1681, 'hey': 593, 'kalum': 796, 'kothakku': 945, 'my': 1135, 'dont': 418, 'nnu': 1228, 'pathram': 1407, 'aayalm': 47, 'idunna': 622, 'daivathinu': 392, 'kozhi': 951, 'gents': 560, 'elam': 439, 'gold': 567, 'cheriya': 269, 'palathum': 1355, 'kanichalum': 829, 'madhyamangal': 1024, 'covid': 376, 'illenkil': 642, 'orkanam': 1305, 'thangalku': 1745, 'tharavad': 1773, 'aait': 13, 'kando': 823, 'koduk': 893, 'johny': 759, 'eduthath': 432, 'vekthamaya': 1915, 'state': 1677, 'pooori': 1498, 'mohandas': 1092, 'cheyaan': 282, 'thallo': 1737, 'ayallo': 204, 'geethu': 558, 'poomakkale': 1496, 'cherpulashery': 270, 'road': 1600, 'delivery': 404, 'okkey': 1260, 'pedikanda': 1429, 'konathile': 915, 'pathu': 1408, 'undaya': 1844, 'kudi': 956, 'cheyum': 296, 'kidu': 876, 'pusthakathil': 1566, 'coment': 354, 'jeevikkunne': 750, 'onnumilla': 1278, 'chettatharam': 279, 'visvasam': 1955, 'vechath': 1906, 'kurian': 983, 'jayilil': 747, 'youtubeil': 1989, 'pona': 1488, 'pachakku': 1339, 'words': 1977, 'okey': 1257, 'rajyathe': 1577, 'wcc': 1971, 'kandapo': 813, 'kondan': 919, 'kuravum': 979, 'thakarthu': 1722, 'pravarthakar': 1530, 'status': 1678, 'wife': 1974, 'second': 1633, 'poki': 1472, 'dey': 406, 'commi': 360, 'vaarthakal': 1863, 'rashtriyam': 1586, 'chennal': 268, 'pottich': 1514}\n"
          ],
          "name": "stdout"
        }
      ]
    },
    {
      "cell_type": "markdown",
      "metadata": {
        "id": "itH9qjJUrFE1"
      },
      "source": [
        "# **Naive Bayes**"
      ]
    },
    {
      "cell_type": "code",
      "metadata": {
        "colab": {
          "base_uri": "https://localhost:8080/"
        },
        "id": "L3_bbPQrn-Mo",
        "outputId": "61dff4fd-00fc-4413-beba-dbfb39cab66a"
      },
      "source": [
        "# fit the training dataset on the NB classifier\n",
        "Naive = naive_bayes.MultinomialNB()\n",
        "Naive.fit(X_train,y_train)"
      ],
      "execution_count": 10,
      "outputs": [
        {
          "output_type": "execute_result",
          "data": {
            "text/plain": [
              "MultinomialNB(alpha=1.0, class_prior=None, fit_prior=True)"
            ]
          },
          "metadata": {
            "tags": []
          },
          "execution_count": 10
        }
      ]
    },
    {
      "cell_type": "code",
      "metadata": {
        "id": "bz8iBVHyn-Jw",
        "colab": {
          "base_uri": "https://localhost:8080/"
        },
        "outputId": "3a91fc68-b185-4903-96ad-062662f930a5"
      },
      "source": [
        "# predict the dev dataset\n",
        "pred_NB = Naive.predict(X_dev)\n",
        "\n",
        "print(confusion_matrix(y_dev,pred_NB)) \n",
        "print(classification_report(y_dev,pred_NB))"
      ],
      "execution_count": 11,
      "outputs": [
        {
          "output_type": "stream",
          "text": [
            "[[469 140]\n",
            " [251 340]]\n",
            "              precision    recall  f1-score   support\n",
            "\n",
            "           0       0.65      0.77      0.71       609\n",
            "           1       0.71      0.58      0.63       591\n",
            "\n",
            "    accuracy                           0.67      1200\n",
            "   macro avg       0.68      0.67      0.67      1200\n",
            "weighted avg       0.68      0.67      0.67      1200\n",
            "\n"
          ],
          "name": "stdout"
        }
      ]
    },
    {
      "cell_type": "code",
      "metadata": {
        "id": "xH98J--In-Dn",
        "colab": {
          "base_uri": "https://localhost:8080/"
        },
        "outputId": "fc75feda-7957-43d6-fb22-08ed40ffa41a"
      },
      "source": [
        "# predict the test data\n",
        "pred_NB_test = Naive.predict(X_test)\n",
        "\n",
        "print(confusion_matrix(y_test,pred_NB_test)) \n",
        "print(classification_report(y_test,pred_NB_test))"
      ],
      "execution_count": 12,
      "outputs": [
        {
          "output_type": "stream",
          "text": [
            "[[365 108]\n",
            " [175 303]]\n",
            "              precision    recall  f1-score   support\n",
            "\n",
            "           0       0.68      0.77      0.72       473\n",
            "           1       0.74      0.63      0.68       478\n",
            "\n",
            "    accuracy                           0.70       951\n",
            "   macro avg       0.71      0.70      0.70       951\n",
            "weighted avg       0.71      0.70      0.70       951\n",
            "\n"
          ],
          "name": "stdout"
        }
      ]
    },
    {
      "cell_type": "markdown",
      "metadata": {
        "id": "1EPjo8qzrcN7"
      },
      "source": [
        "#**Support Vector Machine**"
      ]
    },
    {
      "cell_type": "code",
      "metadata": {
        "colab": {
          "base_uri": "https://localhost:8080/"
        },
        "id": "-haGr7IMn99x",
        "outputId": "0b36c3e8-02d7-476e-fe4b-67f0e4daee4c"
      },
      "source": [
        "# fit the training dataset on the SVM classifier\n",
        "SVM = svm.SVC(C=1.0, kernel='linear', degree=3, gamma='auto')\n",
        "SVM.fit(X_train,y_train)"
      ],
      "execution_count": 13,
      "outputs": [
        {
          "output_type": "execute_result",
          "data": {
            "text/plain": [
              "SVC(C=1.0, break_ties=False, cache_size=200, class_weight=None, coef0=0.0,\n",
              "    decision_function_shape='ovr', degree=3, gamma='auto', kernel='linear',\n",
              "    max_iter=-1, probability=False, random_state=None, shrinking=True,\n",
              "    tol=0.001, verbose=False)"
            ]
          },
          "metadata": {
            "tags": []
          },
          "execution_count": 13
        }
      ]
    },
    {
      "cell_type": "code",
      "metadata": {
        "id": "FtgtUM8urfPB",
        "colab": {
          "base_uri": "https://localhost:8080/"
        },
        "outputId": "a7c48a52-f354-40d4-95a0-426fd312f29e"
      },
      "source": [
        "# predict the dev dataset\n",
        "pred_SVM = SVM.predict(X_dev)\n",
        "\n",
        "print(confusion_matrix(y_dev,pred_SVM)) \n",
        "print(classification_report(y_dev,pred_SVM))"
      ],
      "execution_count": 14,
      "outputs": [
        {
          "output_type": "stream",
          "text": [
            "[[456 153]\n",
            " [256 335]]\n",
            "              precision    recall  f1-score   support\n",
            "\n",
            "           0       0.64      0.75      0.69       609\n",
            "           1       0.69      0.57      0.62       591\n",
            "\n",
            "    accuracy                           0.66      1200\n",
            "   macro avg       0.66      0.66      0.66      1200\n",
            "weighted avg       0.66      0.66      0.66      1200\n",
            "\n"
          ],
          "name": "stdout"
        }
      ]
    },
    {
      "cell_type": "code",
      "metadata": {
        "id": "ZLsJfHfarfJI",
        "colab": {
          "base_uri": "https://localhost:8080/"
        },
        "outputId": "2c79d563-4e0f-4ede-bd6e-ecf743a98574"
      },
      "source": [
        "# predict the test dataset\n",
        "pred_SVM_test = SVM.predict(X_test)\n",
        "\n",
        "print(confusion_matrix(y_test,pred_SVM_test)) \n",
        "print(classification_report(y_test,pred_SVM_test))"
      ],
      "execution_count": 15,
      "outputs": [
        {
          "output_type": "stream",
          "text": [
            "[[358 115]\n",
            " [197 281]]\n",
            "              precision    recall  f1-score   support\n",
            "\n",
            "           0       0.65      0.76      0.70       473\n",
            "           1       0.71      0.59      0.64       478\n",
            "\n",
            "    accuracy                           0.67       951\n",
            "   macro avg       0.68      0.67      0.67       951\n",
            "weighted avg       0.68      0.67      0.67       951\n",
            "\n"
          ],
          "name": "stdout"
        }
      ]
    },
    {
      "cell_type": "markdown",
      "metadata": {
        "id": "jUCFlBoVsKR3"
      },
      "source": [
        "# **Logistic Regression**"
      ]
    },
    {
      "cell_type": "code",
      "metadata": {
        "colab": {
          "base_uri": "https://localhost:8080/"
        },
        "id": "3EFtKbfIrfGv",
        "outputId": "f3feb3f5-ca58-4c1e-a72a-c6b5ac4983d0"
      },
      "source": [
        "# fit the training dataset on the LR classifier\n",
        "lr = LogisticRegression(C=2,class_weight = 'balanced')\n",
        "lr.fit(X_train,y_train)"
      ],
      "execution_count": 16,
      "outputs": [
        {
          "output_type": "execute_result",
          "data": {
            "text/plain": [
              "LogisticRegression(C=2, class_weight='balanced', dual=False, fit_intercept=True,\n",
              "                   intercept_scaling=1, l1_ratio=None, max_iter=100,\n",
              "                   multi_class='auto', n_jobs=None, penalty='l2',\n",
              "                   random_state=None, solver='lbfgs', tol=0.0001, verbose=0,\n",
              "                   warm_start=False)"
            ]
          },
          "metadata": {
            "tags": []
          },
          "execution_count": 16
        }
      ]
    },
    {
      "cell_type": "code",
      "metadata": {
        "id": "0VhXTycprfDh",
        "colab": {
          "base_uri": "https://localhost:8080/"
        },
        "outputId": "0272287a-5542-4b42-c443-3f43b0f30c79"
      },
      "source": [
        "# predict the dev dataset\n",
        "pred_LR = lr.predict(X_dev)\n",
        "\n",
        "print(confusion_matrix(y_dev,pred_LR)) \n",
        "print(classification_report(y_dev,pred_LR))"
      ],
      "execution_count": 17,
      "outputs": [
        {
          "output_type": "stream",
          "text": [
            "[[434 175]\n",
            " [226 365]]\n",
            "              precision    recall  f1-score   support\n",
            "\n",
            "           0       0.66      0.71      0.68       609\n",
            "           1       0.68      0.62      0.65       591\n",
            "\n",
            "    accuracy                           0.67      1200\n",
            "   macro avg       0.67      0.67      0.66      1200\n",
            "weighted avg       0.67      0.67      0.67      1200\n",
            "\n"
          ],
          "name": "stdout"
        }
      ]
    },
    {
      "cell_type": "code",
      "metadata": {
        "id": "e5mNQMzdre9x",
        "colab": {
          "base_uri": "https://localhost:8080/"
        },
        "outputId": "180e52e1-c49f-4791-c38e-486f7210eb61"
      },
      "source": [
        "# predict the test dataset\n",
        "pred_LR_test = lr.predict(X_test)\n",
        "\n",
        "print(confusion_matrix(y_test,pred_LR_test)) \n",
        "print(classification_report(y_test,pred_LR_test))"
      ],
      "execution_count": 18,
      "outputs": [
        {
          "output_type": "stream",
          "text": [
            "[[350 123]\n",
            " [175 303]]\n",
            "              precision    recall  f1-score   support\n",
            "\n",
            "           0       0.67      0.74      0.70       473\n",
            "           1       0.71      0.63      0.67       478\n",
            "\n",
            "    accuracy                           0.69       951\n",
            "   macro avg       0.69      0.69      0.69       951\n",
            "weighted avg       0.69      0.69      0.69       951\n",
            "\n"
          ],
          "name": "stdout"
        }
      ]
    },
    {
      "cell_type": "markdown",
      "metadata": {
        "id": "hvtJkdtKBqwg"
      },
      "source": [
        "# **Random** **Forest**"
      ]
    },
    {
      "cell_type": "code",
      "metadata": {
        "id": "XZLjYWt8tdFo",
        "colab": {
          "base_uri": "https://localhost:8080/"
        },
        "outputId": "94783696-6397-49d4-876a-8900b27aed75"
      },
      "source": [
        "sc_X = StandardScaler(with_mean=False)\n",
        "X_Train_RF = sc_X.fit_transform(X_train)\n",
        "X_dev_RF = sc_X.transform(X_dev)\n",
        "X_test_RF = sc_X.transform(X_test)\n",
        "\n",
        "#Classifier\n",
        "classifier = RandomForestClassifier(n_estimators = 100, criterion = 'entropy', random_state = 0)\n",
        "classifier.fit(X_Train_RF,y_train)"
      ],
      "execution_count": 19,
      "outputs": [
        {
          "output_type": "execute_result",
          "data": {
            "text/plain": [
              "RandomForestClassifier(bootstrap=True, ccp_alpha=0.0, class_weight=None,\n",
              "                       criterion='entropy', max_depth=None, max_features='auto',\n",
              "                       max_leaf_nodes=None, max_samples=None,\n",
              "                       min_impurity_decrease=0.0, min_impurity_split=None,\n",
              "                       min_samples_leaf=1, min_samples_split=2,\n",
              "                       min_weight_fraction_leaf=0.0, n_estimators=100,\n",
              "                       n_jobs=None, oob_score=False, random_state=0, verbose=0,\n",
              "                       warm_start=False)"
            ]
          },
          "metadata": {
            "tags": []
          },
          "execution_count": 19
        }
      ]
    },
    {
      "cell_type": "code",
      "metadata": {
        "id": "dmyGIN_d2I7z",
        "colab": {
          "base_uri": "https://localhost:8080/"
        },
        "outputId": "347aa618-b3c7-4bcc-b0c8-aca10667f5ca"
      },
      "source": [
        "# Predicting the dev dataset \n",
        "pred_RF = classifier.predict(X_dev_RF)\n",
        "\n",
        "print(confusion_matrix(y_dev,pred_RF)) \n",
        "print(classification_report(y_dev,pred_RF))"
      ],
      "execution_count": 20,
      "outputs": [
        {
          "output_type": "stream",
          "text": [
            "[[454 155]\n",
            " [282 309]]\n",
            "              precision    recall  f1-score   support\n",
            "\n",
            "           0       0.62      0.75      0.68       609\n",
            "           1       0.67      0.52      0.59       591\n",
            "\n",
            "    accuracy                           0.64      1200\n",
            "   macro avg       0.64      0.63      0.63      1200\n",
            "weighted avg       0.64      0.64      0.63      1200\n",
            "\n"
          ],
          "name": "stdout"
        }
      ]
    },
    {
      "cell_type": "code",
      "metadata": {
        "id": "QU9CKo2KuL5k",
        "colab": {
          "base_uri": "https://localhost:8080/"
        },
        "outputId": "8bc7c29a-c3c3-40ea-eadc-a4cb08d8319a"
      },
      "source": [
        "# Predicting the test dataset \n",
        "pred_RF_test = classifier.predict(X_test_RF)\n",
        "\n",
        "print(confusion_matrix(y_test,pred_RF_test)) \n",
        "print(classification_report(y_test,pred_RF_test))"
      ],
      "execution_count": 21,
      "outputs": [
        {
          "output_type": "stream",
          "text": [
            "[[353 120]\n",
            " [200 278]]\n",
            "              precision    recall  f1-score   support\n",
            "\n",
            "           0       0.64      0.75      0.69       473\n",
            "           1       0.70      0.58      0.63       478\n",
            "\n",
            "    accuracy                           0.66       951\n",
            "   macro avg       0.67      0.66      0.66       951\n",
            "weighted avg       0.67      0.66      0.66       951\n",
            "\n"
          ],
          "name": "stdout"
        }
      ]
    }
  ]
}