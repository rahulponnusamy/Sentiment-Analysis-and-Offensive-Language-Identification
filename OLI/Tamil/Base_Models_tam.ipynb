{
  "nbformat": 4,
  "nbformat_minor": 0,
  "metadata": {
    "colab": {
      "name": "Base Models.ipynb",
      "provenance": [],
      "collapsed_sections": []
    },
    "kernelspec": {
      "name": "python3",
      "display_name": "Python 3"
    },
    "language_info": {
      "name": "python"
    }
  },
  "cells": [
    {
      "cell_type": "markdown",
      "metadata": {
        "id": "8MJ_BC-WEWJ0"
      },
      "source": [
        "**Importing Packages**"
      ]
    },
    {
      "cell_type": "code",
      "metadata": {
        "colab": {
          "base_uri": "https://localhost:8080/"
        },
        "id": "kuLD0Cn5nT_J",
        "outputId": "0f0eb655-53b3-4cab-a6be-6e2d064a47ba"
      },
      "source": [
        "#importing required libaries\n",
        "\n",
        "import pandas as pd\n",
        "import numpy as np\n",
        "import matplotlib.pyplot as plt\n",
        "import re \n",
        "import string\n",
        "import nltk\n",
        "nltk.download('punkt')\n",
        "\n",
        "import os\n",
        "from nltk.tokenize import word_tokenize\n",
        "from sklearn.preprocessing import LabelEncoder\n",
        "from sklearn.model_selection import train_test_split\n",
        "from sklearn.feature_extraction.text import TfidfVectorizer\n",
        "from sklearn import model_selection, naive_bayes, svm\n",
        "from sklearn.linear_model import LogisticRegression \n",
        "from sklearn.preprocessing import StandardScaler\n",
        "from sklearn.ensemble import RandomForestClassifier\n",
        "from sklearn.metrics import accuracy_score,classification_report,confusion_matrix"
      ],
      "execution_count": 22,
      "outputs": [
        {
          "output_type": "stream",
          "text": [
            "[nltk_data] Downloading package punkt to /root/nltk_data...\n",
            "[nltk_data]   Package punkt is already up-to-date!\n"
          ],
          "name": "stdout"
        }
      ]
    },
    {
      "cell_type": "markdown",
      "metadata": {
        "id": "eZHWLeb9EPu1"
      },
      "source": [
        "**Tamil Dataset**"
      ]
    },
    {
      "cell_type": "code",
      "metadata": {
        "id": "EpCsSoY6n-an"
      },
      "source": [
        "#reading the tamil dataset\n",
        "train=pd.read_csv('/content/drive/MyDrive/offensive language/Tamil dataset/Tamil-Codemixed_offensive_Training-Tweet.tsv',sep='\\t', index_col=[0])\n",
        "test=pd.read_csv('/content/drive/MyDrive/offensive language/Tamil dataset/Tamil_hasoc_tanglish_test_withlabels(1).tsv',sep='\\t', index_col=[0])"
      ],
      "execution_count": 23,
      "outputs": []
    },
    {
      "cell_type": "code",
      "metadata": {
        "colab": {
          "base_uri": "https://localhost:8080/"
        },
        "id": "dLpf9ZqWSmeB",
        "outputId": "44479e67-94fe-4b93-e45a-b052837c7d28"
      },
      "source": [
        "from google.colab import drive\n",
        "drive.mount('/content/drive')"
      ],
      "execution_count": 24,
      "outputs": [
        {
          "output_type": "stream",
          "text": [
            "Drive already mounted at /content/drive; to attempt to forcibly remount, call drive.mount(\"/content/drive\", force_remount=True).\n"
          ],
          "name": "stdout"
        }
      ]
    },
    {
      "cell_type": "code",
      "metadata": {
        "colab": {
          "base_uri": "https://localhost:8080/",
          "height": 330
        },
        "id": "gFTV0quStg4W",
        "outputId": "b68be2a6-d7bd-4495-cb77-82364f3d21a3"
      },
      "source": [
        "# bar chart\n",
        "value=[2020,1980]\n",
        "category=['NOT','OFF']\n",
        "plt.bar(category,value,color=[\"cyan\",\"black\"],edgecolor='black')\n",
        "plt.xlabel('Number of category')\n",
        "plt.ylabel('Values of category')\n",
        "plt.show()\n",
        "\n",
        "#Label counts\n",
        "train['Category'].value_counts()"
      ],
      "execution_count": 25,
      "outputs": [
        {
          "output_type": "display_data",
          "data": {
            "image/png": "[encoded data removed]",
            "text/plain": [
              "<Figure size 432x288 with 1 Axes>"
            ]
          },
          "metadata": {
            "tags": [],
            "needs_background": "light"
          }
        },
        {
          "output_type": "execute_result",
          "data": {
            "text/plain": [
              "NOT    2020\n",
              "OFF    1980\n",
              "Name: Category, dtype: int64"
            ]
          },
          "metadata": {
            "tags": []
          },
          "execution_count": 25
        }
      ]
    },
    {
      "cell_type": "markdown",
      "metadata": {
        "id": "L_nNvPyyEwiV"
      },
      "source": [
        "# **Removing punctuation**"
      ]
    },
    {
      "cell_type": "code",
      "metadata": {
        "colab": {
          "base_uri": "https://localhost:8080/",
          "height": 0
        },
        "id": "yMNa9JWCn-Xa",
        "outputId": "58745b35-a9d2-4575-9a18-79481ed27ccf"
      },
      "source": [
        "#remove punctuation\n",
        "import string\n",
        "def remove_punctuations(txt):\n",
        "    text_nopunc=\"\".join([c for c in txt if c not in string.punctuation])\n",
        "    return text_nopunc\n",
        "\n",
        "train['Text']=train['Text'].apply(lambda x: remove_punctuations(x))\n",
        "train"
      ],
      "execution_count": 26,
      "outputs": [
        {
          "output_type": "execute_result",
          "data": {
            "text/html": [
              "<div>\n",
              "<style scoped>\n",
              "    .dataframe tbody tr th:only-of-type {\n",
              "        vertical-align: middle;\n",
              "    }\n",
              "\n",
              "    .dataframe tbody tr th {\n",
              "        vertical-align: top;\n",
              "    }\n",
              "\n",
              "    .dataframe thead th {\n",
              "        text-align: right;\n",
              "    }\n",
              "</style>\n",
              "<table border=\"1\" class=\"dataframe\">\n",
              "  <thead>\n",
              "    <tr style=\"text-align: right;\">\n",
              "      <th></th>\n",
              "      <th>Text</th>\n",
              "      <th>Category</th>\n",
              "    </tr>\n",
              "  </thead>\n",
              "  <tbody>\n",
              "    <tr>\n",
              "      <th>TA_HL100</th>\n",
              "      <td>Iyaooo Kovam pattutene sothula visatha vachuru...</td>\n",
              "      <td>NOT</td>\n",
              "    </tr>\n",
              "    <tr>\n",
              "      <th>TA_HL101</th>\n",
              "      <td>Asha Apo neenga atha government ku theriya pad...</td>\n",
              "      <td>NOT</td>\n",
              "    </tr>\n",
              "    <tr>\n",
              "      <th>TA_HL102</th>\n",
              "      <td>Bala sundar ayyo sorryantha line ah explain pa...</td>\n",
              "      <td>NOT</td>\n",
              "    </tr>\n",
              "    <tr>\n",
              "      <th>TA_HL105</th>\n",
              "      <td>kalimuthu ne ena lusayaaru edhu panaalum en da...</td>\n",
              "      <td>NOT</td>\n",
              "    </tr>\n",
              "    <tr>\n",
              "      <th>TA_HL109</th>\n",
              "      <td>1st baby ku neat ah feed panunga plzz ipdi iru...</td>\n",
              "      <td>NOT</td>\n",
              "    </tr>\n",
              "    <tr>\n",
              "      <th>...</th>\n",
              "      <td>...</td>\n",
              "      <td>...</td>\n",
              "    </tr>\n",
              "    <tr>\n",
              "      <th>TA_TW6620</th>\n",
              "      <td>Yaroda body structure semaya irukum Sema mood ...</td>\n",
              "      <td>OFF</td>\n",
              "    </tr>\n",
              "    <tr>\n",
              "      <th>TA_TW3336</th>\n",
              "      <td>Yenda naangala politics varom nu pala varusham...</td>\n",
              "      <td>OFF</td>\n",
              "    </tr>\n",
              "    <tr>\n",
              "      <th>TA_HL1105</th>\n",
              "      <td>Yepdithan seruppala adichalum arasiyalvathikku...</td>\n",
              "      <td>OFF</td>\n",
              "    </tr>\n",
              "    <tr>\n",
              "      <th>TA_TW1915</th>\n",
              "      <td>USER Paithiyam ena unga vanthu full ah forward...</td>\n",
              "      <td>OFF</td>\n",
              "    </tr>\n",
              "    <tr>\n",
              "      <th>TA_TW4528</th>\n",
              "      <td>RT USER  Itha vidaa kevalam veraa irukaa vijay...</td>\n",
              "      <td>OFF</td>\n",
              "    </tr>\n",
              "  </tbody>\n",
              "</table>\n",
              "<p>4000 rows × 2 columns</p>\n",
              "</div>"
            ],
            "text/plain": [
              "                                                        Text Category\n",
              "TA_HL100   Iyaooo Kovam pattutene sothula visatha vachuru...      NOT\n",
              "TA_HL101   Asha Apo neenga atha government ku theriya pad...      NOT\n",
              "TA_HL102   Bala sundar ayyo sorryantha line ah explain pa...      NOT\n",
              "TA_HL105   kalimuthu ne ena lusayaaru edhu panaalum en da...      NOT\n",
              "TA_HL109   1st baby ku neat ah feed panunga plzz ipdi iru...      NOT\n",
              "...                                                      ...      ...\n",
              "TA_TW6620  Yaroda body structure semaya irukum Sema mood ...      OFF\n",
              "TA_TW3336  Yenda naangala politics varom nu pala varusham...      OFF\n",
              "TA_HL1105  Yepdithan seruppala adichalum arasiyalvathikku...      OFF\n",
              "TA_TW1915  USER Paithiyam ena unga vanthu full ah forward...      OFF\n",
              "TA_TW4528  RT USER  Itha vidaa kevalam veraa irukaa vijay...      OFF\n",
              "\n",
              "[4000 rows x 2 columns]"
            ]
          },
          "metadata": {
            "tags": []
          },
          "execution_count": 26
        }
      ]
    },
    {
      "cell_type": "markdown",
      "metadata": {
        "id": "R40sUBIPE5db"
      },
      "source": [
        "# **Spliting to Dev Dataset**"
      ]
    },
    {
      "cell_type": "code",
      "metadata": {
        "id": "m_H7mcr2n-Uu"
      },
      "source": [
        "#splitting dataset\n",
        "X_train, X_dev, y_train, y_dev = train_test_split(train['Text'], train['Category'], test_size=0.30, random_state=42)\n",
        "\n",
        "X_test= test['Text']\n",
        "y_test= test['Category']"
      ],
      "execution_count": 27,
      "outputs": []
    },
    {
      "cell_type": "markdown",
      "metadata": {
        "id": "X1EB4aZcFAzZ"
      },
      "source": [
        "# **Encoding**"
      ]
    },
    {
      "cell_type": "code",
      "metadata": {
        "id": "DTc6c4zbn-SI"
      },
      "source": [
        "#Encoding Labels\n",
        "\n",
        "Encoder = LabelEncoder()\n",
        "y_train = Encoder.fit_transform(y_train)\n",
        "y_test = Encoder.transform(y_test)\n",
        "y_dev = Encoder.transform(y_dev)"
      ],
      "execution_count": 28,
      "outputs": []
    },
    {
      "cell_type": "code",
      "metadata": {
        "id": "Pu-h8E67n-PR"
      },
      "source": [
        "#tfidf\n",
        "Tfidf_vect = TfidfVectorizer(max_features=2000)\n",
        "X_train = Tfidf_vect.fit_transform(X_train).toarray()\n",
        "X_dev = Tfidf_vect.transform(X_dev).toarray()\n",
        "X_test = Tfidf_vect.transform(X_test).toarray()"
      ],
      "execution_count": 29,
      "outputs": []
    },
    {
      "cell_type": "code",
      "metadata": {
        "colab": {
          "base_uri": "https://localhost:8080/"
        },
        "id": "M3_gQhTmri_Y",
        "outputId": "449fa256-989b-4aba-d65a-d803e99f8808"
      },
      "source": [
        "print(Tfidf_vect.vocabulary_)"
      ],
      "execution_count": 30,
      "outputs": [
        {
          "output_type": "stream",
          "text": [
            "{'user': 1798, 'dei': 329, 'following': 489, 'varum': 1854, 'adhu': 58, 'unaku': 1765, 'na': 984, 'ni': 1052, 'kama': 717, 'punda': 1412, 'epdi': 429, 'nu': 1065, 'matum': 916, 'en': 390, 'thangachi': 1653, 'pani': 1192, 'solli': 1545, 'ya': 1964, 'suttu': 1618, 'kudutha': 812, 'solu': 1561, 'onum': 1096, 'theriyatha': 1693, 'paiyana': 1167, 'yean': 1977, 'ipdi': 611, 'pananum': 1183, 'ne': 1030, 'olunga': 1084, 'intha': 603, 'summa': 1604, 'enachu': 392, 'call': 251, 'panni': 1204, 'pesu': 1289, 'apo': 136, 'konjam': 791, 'ahh': 87, 'iruku': 640, 'bby': 217, 'ma': 855, 'va': 1802, 'ayyo': 206, 'paka': 1168, 'mudila': 960, 'avlo': 200, 'kevalam': 761, 'nalaiku': 1009, 'ungala': 1768, 'paaru': 1137, 'da': 312, 'kena': 755, 'engala': 404, 'romba': 1462, 'naala': 989, 'wait': 1925, 'oru': 1116, 'update': 1791, 'kudunga': 811, 'thalapathy': 1644, 'birthday': 233, 'ah': 86, 'kondu': 789, '10': 0, 'days': 322, 'keta': 756, 'at': 165, 'ethavathu': 447, 'help': 539, 'pannuvanga': 1214, 'athaan': 167, 'like': 836, 'video': 1904, 'pana': 1179, 'tha': 1632, 'kelvi': 754, 'patta': 1252, 'bro': 245, 'adicha': 63, 'dhan': 338, 'enga': 403, 'theriya': 1688, 'pogudhu': 1334, 'spelling': 1585, 'theriyum': 1696, 'rompa': 1463, 'overa': 1127, 'apparam': 142, 'nan': 1019, 'dai': 314, 'la': 822, 'setha': 1515, 'yarum': 1975, 'dmk': 348, 'than': 1647, 'idhuku': 561, 'indha': 590, 'murder': 977, 'evalo': 457, 'theriyuma': 1697, 'of': 1074, 'tamil': 1623, 'matra': 910, 'photo': 1296, 'eduthu': 377, 'wow': 1961, 'super': 1608, 'very': 1898, 'semaya': 1502, 'akka': 91, 'love': 851, 'you': 1991, 'naan': 993, 'sonnathu': 1572, 'ellam': 384, 'unmai': 1781, 'panna': 1195, 'innoru': 596, 'name': 1017, 'your': 1992, 'oor': 1106, 'irunthu': 652, 'add': 51, 'neenga': 1034, 'thevidiya': 1705, 'paiya': 1163, 'yen': 1983, 'kaasu': 700, 'naalu': 991, 'iruka': 623, 'venam': 1888, 'manasu': 888, 'irundha': 644, 'le': 832, 'podhum': 1321, 'tag': 1621, 'enna': 411, 'kuda': 802, 'athan': 168, 'naanum': 995, 'first': 484, 'pathutu': 1251, 'vaa': 1803, 'papom': 1230, 'rights': 1457, 'illa': 574, 'season': 1494, '23': 14, 'endha': 400, 'uh': 1754, 'idhu': 560, 'theditu': 1678, 'irukan': 626, 'avanga': 191, 'ajith': 90, 'racer': 1433, 'illanu': 580, 'sonna': 1569, 'kooda': 792, 'poda': 1316, 'potta': 1381, 'onnum': 1093, 'nee': 1031, 'solluvanga': 1556, 'varusam': 1856, 'corona': 302, 'vanthu': 1837, 'heart': 537, 'attack': 180, 'vera': 1895, 'yenna': 1988, 'again': 79, 'sir': 1527, 'rt': 1466, 'unga': 1767, 'olu': 1083, 'pundai': 1414, 'loosu': 847, 'kitta': 773, 'poi': 1337, 'sollu': 1551, 'anna': 118, 'two': 1750, 'ku': 801, 'backup': 211, 'account': 40, 'use': 1796, 'pannu': 1208, 'amaithiya': 104, 'song': 1567, 'old': 1081, 'nalla': 1010, 'irukum': 641, 'life': 835, 'avangaluku': 193, 'mattum': 914, 'namma': 1018, 'velaiya': 1881, 'now': 1064, 'is': 663, 'back': 209, 'paalvadi': 1134, 'deii': 330, 'lam': 825, 'kalyanam': 716, 'feel': 478, 'pannanum': 1200, 'amma': 107, 'oli': 1082, 'athu': 174, 'kandaraoli': 721, 'thayoli': 1673, 'veedu': 1870, 'antha': 121, 'solluda': 1552, 'dhanush': 340, 'heroine': 542, 'pair': 1160, 'nadicha': 1001, 'comment': 290, 'pannunga': 1210, 'koothi': 795, 'munda': 973, 'accept': 39, 'pannika': 1205, 'decent': 326, 'vita': 1912, 'vendiyathu': 1891, 'pola': 1342, 'kidaikum': 765, 'pothu': 1379, 'thappa': 1660, 'cheran': 271, 'drama': 357, 'podatha': 1319, 'vaaya': 1809, 'koodathu': 793, 'over': 1126, 'ellarum': 386, 'mathiri': 907, 'mudiyala': 965, 'thats': 1669, 'said': 1474, 'more': 948, 'from': 500, 'me': 923, 'other': 1121, 'end': 398, 'even': 463, 'support': 1610, 'panranga': 1220, 'kavin': 741, 'and': 113, 'losliya': 849, 'chi': 272, 'nenga': 1042, 'vantha': 1834, 'aprm': 148, 'tn': 1733, 'adichi': 64, 'india': 591, 'baadu': 207, 'oh': 1075, 'neeyum': 1036, 'thaana': 1635, 'lusu': 853, 'maari': 856, 'thaan': 1634, 'ada': 49, 'ithu': 672, 'ok': 1077, 'chance': 263, 'avan': 188, 'number': 1066, 'vangi': 1829, 'ennum': 421, 'thedi': 1677, 'omma': 1085, 'parru': 1234, 'apdiya': 133, 'while': 1942, 'ethachu': 445, 'ozhunga': 1131, 'varadhu': 1842, 'drawing': 358, 'podu': 1326, 'solliten': 1547, 'adha': 53, 'epadi': 426, 'follow': 487, 'epa': 425, 'poduren': 1330, 'paru': 1239, 'ama': 103, 'nanba': 1020, 'master': 901, 'vara': 1841, 'therila': 1682, 'correct': 303, 'idhula': 562, 'ivan': 680, 'sollitu': 1549, 'kadupu': 709, 'vada': 1813, 'mavane': 919, 'urinju': 1794, 'vai': 1816, 'vechu': 1868, 'edu': 374, 'ethana': 446, 'vatti': 1860, 'vaiya': 1821, 'salli': 1476, 'pundaa': 1413, 'evlo': 464, 'vaati': 1808, 'completed': 294, 'ilana': 569, 'ivana': 681, 'chennai': 270, 'news': 1049, 'kadavul': 704, 'avanuku': 194, 'apdi': 130, 'theriyathu': 1694, 'avana': 189, 'ore': 1113, 'food': 490, 'pidicha': 1302, 'atha': 166, 'kadichu': 708, 'dii': 344, 'mind': 936, 'othaa': 1120, 'thevidya': 1707, 'vandha': 1826, 'valiya': 1825, 'marakama': 896, 'stage': 1588, 'yum': 1997, 'andha': 114, 'dha': 335, 'panala': 1180, 'onnu': 1092, 'irukathu': 630, 'pakkathula': 1173, 'mela': 928, 'varanum': 1849, 'athuku': 175, 'our': 1124, 'here': 540, 'go': 513, 'never': 1047, 'seen': 1498, 'real': 1442, 'face': 469, 'watch': 1930, 'thuff': 1724, 'echa': 366, 'thevdiya': 1704, 'appa': 138, 'ammava': 108, 'vittutu': 1915, 'fans': 475, 'adikanum': 66, 'pinju': 1306, 'ipo': 614, 'list': 839, 'perusa': 1278, '21': 12, 'my': 983, 'also': 99, 'girl': 510, 'bore': 240, 'pannitu': 1207, 'vaai': 1804, 'mari': 897, 'iva': 677, 'irukka': 634, 'iruppa': 661, 'muttu': 982, 'thangam': 1654, 'aduthavan': 73, 'naal': 988, 'meme': 929, 'mooditu': 945, 'kaala': 699, 'nakku': 1007, 'hey': 543, 'santhosam': 1481, 'mudiyum': 967, 'unnala': 1786, 'thevudiya': 1708, 'aprom': 150, 'pundaikku': 1416, 'inga': 593, 'nala': 1008, 'padam': 1148, 'ae': 76, 'release': 1447, 'agama': 81, 'varuma': 1855, 'arivu': 156, 'yaru': 1972, 'daii': 315, 'ketta': 758, 'sollanum': 1544, 'eru': 436, 'evan': 458, 'umbitu': 1759, 'pona': 1350, 'aduthu': 74, 'waiting': 1926, 'thalaya': 1645, 'ulla': 1756, 'vittu': 1914, 'varaikum': 1845, 'therium': 1686, 'ella': 383, 'prachanai': 1392, 'adhula': 60, 'arasiyal': 152, 'cm': 283, 'pesa': 1281, 'senja': 1506, 'madiri': 870, 'aga': 78, 'kanavu': 719, 'ka': 697, 'chellam': 269, 'kutty': 821, 'won': 1953, '1k': 8, 'hearts': 538, 'kandipa': 723, 'poren': 1372, 'tweet': 1747, 'poten': 1378, 'iru': 622, 'dear': 324, 'one': 1088, 'the': 1675, 'most': 951, 'important': 585, 'person': 1269, 'happy': 530, 'best': 225, 'music': 978, 'director': 345, 'for': 491, 'movie': 955, 'pundaya': 1422, 'vechi': 1867, 'pool': 1360, 'dhaan': 336, 'oombi': 1099, 'nama': 1013, 'dan': 317, 'post': 1375, 'oda': 1068, 'only': 1090, 'podanum': 1318, 'enda': 399, 'screen': 1493, 'mada': 864, 'thanama': 1649, 'itha': 669, 'vanthuruka': 1839, 'pathaley': 1244, 'aguthu': 85, 'karumam': 731, 'aana': 33, 'aachu': 22, 'kulla': 815, 'umba': 1758, 'irruku': 621, 'velai': 1878, 'kavithai': 743, 'eppa': 431, 'darling': 319, 'but': 248, 'pallu': 1177, 'padama': 1149, 'aama': 30, 'target': 1626, 'avaruku': 198, 'phone': 1295, 'neraya': 1045, 'language': 826, 'so': 1535, 'mudium': 963, 'thana': 1648, 'elam': 381, 'mrg': 957, 'sari': 1486, 'husband': 554, 'pathi': 1246, 'ila': 567, 'ana': 112, 'easy': 365, 'vena': 1886, 'panalam': 1181, 'pudicha': 1405, 'thu': 1723, 'asinga': 160, 'kita': 772, 'pechu': 1261, 'kedaiyathu': 745, 'odi': 1070, 'po': 1313, 'this': 1716, 'year': 1978, 'sonen': 1566, 'last': 827, 'busy': 247, 'time': 1730, 'inaiki': 587, 'group': 522, 'vangu': 1830, 'thupu': 1726, 'illana': 579, 'vijay': 1910, 'innum': 597, 'vanga': 1828, 'mata': 902, 'actors': 46, 'getup': 509, 'change': 264, 'nadika': 1002, 'vandhu': 1827, 'chiii': 274, 'orama': 1112, 'naanga': 994, 'paathu': 1142, 'thambi': 1646, 'pombala': 1348, 'porukki': 1374, 'katha': 738, 'kudathu': 804, 'june': 694, '22': 13, 'tweets': 1748, 'pottu': 1383, 'ss': 1587, 'top': 1737, 'sollunga': 1553, 'ivlo': 687, 'sollittu': 1548, 'athe': 171, 'ajit': 89, 'pathiya': 1248, 'stunt': 1599, 'solran': 1558, 'side': 1522, 'otha': 1119, 'badu': 214, 'bjp': 235, 'thavira': 1672, 'miss': 937, 'machi': 863, 'kamal': 718, 'mudiyuma': 968, 'thevaya': 1703, 'ye': 1976, 'madhiri': 867, 'panringa': 1223, 'un': 1761, 'velaya': 1883, 'badhil': 213, 'ayya': 205, 'idha': 557, 'ennada': 412, 'thanks': 1657, 'mention': 932, 'naa': 985, 'retweet': 1454, 'twitter': 1749, 'irukkura': 638, 'kku': 776, 'pannadhu': 1196, 'proud': 1400, 'aa': 19, 'irukku': 636, 'loved': 852, 'it': 667, 'thank': 1656, 'much': 959, 'sis': 1529, 'payan': 1260, 'yaara': 1966, 'ethuku': 451, 'sonnan': 1570, 'poduvan': 1331, 'thundu': 1725, 'enaku': 395, 'therinji': 1685, 'varala': 1846, 'police': 1345, 'velaikku': 1879, 'koduthu': 785, 'irukkan': 635, 'ennda': 419, 'panra': 1217, 'sry': 1586, 'yethuku': 1990, 'yellam': 1981, 'ohh': 1076, 'actress': 47, 'troll': 1742, 'talent': 1622, 'review': 1455, 'brother': 246, 'combo': 286, 'with': 1950, 'ommala': 1086, 'vida': 1902, 'daa': 313, 'meera': 926, 'pombalaiya': 1349, 'sambavam': 1477, 'saga': 1473, 'ean': 364, 'ennoda': 420, 'yar': 1969, 'dp': 356, 'iruntha': 649, 'namba': 1016, 'reason': 1444, 'money': 942, 'ithuku': 674, 'cross': 309, 'panrathu': 1221, 'kastam': 734, 'poga': 1333, 'mudiyathu': 966, 'edit': 373, 'venum': 1892, 'engaluku': 405, 'theva': 1701, 'asingam': 161, 'aasa': 34, 'mosam': 950, 'ketu': 760, 'eva': 455, 'marriage': 899, 'nga': 1051, 'word': 1954, 'dummy': 361, 'vela': 1877, 'pundaye': 1423, 'illaya': 582, 'nanga': 1023, 'per': 1266, 'pasanga': 1240, 'irukom': 639, 'in': 586, 'personal': 1270, 'experience': 465, 'irundhen': 646, 'they': 1709, 'will': 1946, 'that': 1667, 'because': 221, 'kudi': 806, 'peru': 1271, 'ela': 380, 'mutta': 980, 'ena': 391, 'full': 502, 'kunji': 817, 'pasangala': 1241, 'vidanum': 1903, 'thonudhu': 1719, 'irukkum': 637, 'theatre': 1676, 'to': 1734, 'be': 219, 'yenaku': 1985, 'elumban': 388, 'panitu': 1194, 'illama': 578, 'religion': 1448, 'pora': 1364, 'thapa': 1659, 'poruki': 1373, 'yov': 1994, 'etha': 444, 'link': 838, 'ithula': 675, 'christian': 277, 'hindu': 546, 'please': 1310, 'dont': 353, 'pa': 1132, 'thalaivar': 1643, 'rajini': 1435, 'fan': 473, 'main': 876, 'thala': 1640, 'family': 471, 'abuse': 38, 'apa': 126, 'proof': 1399, 'dupe': 362, 'irupanunga': 658, 'avangala': 192, 'vp': 1922, 'sonnaru': 1571, 'varatum': 1852, 'athukum': 176, 'apram': 147, 'famous': 472, 'paathutu': 1144, 'adhunala': 61, 'pota': 1376, 'room': 1464, 'story': 1598, 'paravala': 1233, 'dm': 347, 'msg': 958, 'send': 1504, 'venumna': 1894, 'uninstall': 1777, 'install': 599, 'vjs': 1919, 'not': 1062, 'commercial': 292, 'acting': 43, 'orey': 1114, 'maathiri': 860, 'recent': 1445, 'set': 1514, 'aagum': 25, 'karthi': 730, 'vanitha': 1832, 'sanda': 1479, 'pannura': 1211, 'congrats': 296, 'enn': 410, 'win': 1947, 'panita': 1193, 'keep': 746, 'rocking': 1460, 'sound': 1582, 'treat': 1739, 'distributor': 346, 'ww': 1963, 'collection': 285, 'beat': 220, 'watha': 1931, 'english': 407, 'theriyadhu': 1690, '1st': 10, 'mani': 893, 'thanda': 1650, 'trend': 1740, 'keten': 757, 'just': 696, 'idam': 556, 'nenachen': 1039, 'laam': 824, 'adhigam': 57, 'adhanala': 56, 'veliya': 1885, 'bodhu': 239, 'veetuku': 1872, 'potu': 1385, 'hand': 529, 'yena': 1984, 'veetla': 1871, 'adhuku': 59, 'kuthi': 819, 'react': 1440, 'irukinga': 633, 'fanbase': 474, 'better': 226, 'sootha': 1575, 'muditu': 962, 'kadhal': 706, 'alla': 97, 'mangatha': 892, 'hit': 549, 'album': 95, 'interest': 601, 'pannuga': 1209, 'konja': 790, 'late': 828, 'partha': 1236, 'ithana': 670, 'photos': 1297, 'what': 1937, 'semma': 1503, 'morning': 949, 'manushan': 895, 'irukaru': 629, 'vedio': 1869, 'varama': 1848, 'asingama': 162, 'ungaluku': 1770, 'irukanga': 627, 'avasiyam': 199, 'hero': 541, 'theriyuthu': 1698, 'solra': 1557, 'oombu': 1103, 'thaa': 1633, 'eh': 379, 'mudinja': 961, 'mathavanga': 904, 'namaku': 1015, 'pannatha': 1201, 'vainga': 1819, 'films': 483, 'on': 1087, 'mersal': 933, 'friends': 497, 'neram': 1044, 'head': 536, 'podi': 1322, 'aiyoo': 88, 'paithiyam': 1162, 'ambala': 105, 'sac': 1470, 'cinema': 279, 'layum': 831, 'enada': 393, 'likes': 837, 'picha': 1299, 'venuma': 1893, 'vanguna': 1831, 'good': 518, 'oruthan': 1118, 'pacha': 1146, 'pannama': 1199, 'bike': 231, 'bayama': 216, 'movan': 953, 'world': 1957, 'sisters': 1531, 'adutha': 72, 'sunny': 1607, 'inaiku': 588, 'night': 1054, 'anupi': 122, 'vidu': 1906, 'bittu': 234, 'prachana': 1391, 'open': 1110, 'pandra': 1186, 'solla': 1542, 'trending': 1741, 'his': 547, 'day': 321, 'its': 676, 'about': 37, 'power': 1389, 'pottai': 1382, 'ga': 505, 'panatha': 1184, 'record': 1446, 'ponduga': 1354, 'saree': 1485, 'no': 1059, 'really': 1443, 'or': 1111, 'when': 1940, 'mental': 931, 'appo': 145, 'pulla': 1411, 'fake': 470, 'id': 555, 'pondatti': 1353, 'petha': 1294, 'paatha': 1140, 'onu': 1095, 'varudhu': 1853, 'tv': 1746, 'aala': 28, 'unnoda': 1787, 'artham': 158, 'alaga': 93, 'make': 878, 'up': 1790, 'potutu': 1387, 'ta': 1620, 'ponnu': 1357, 'nasama': 1027, 'suriya': 1613, 'podura': 1329, 'velakku': 1882, 'pudichu': 1407, 'paathiya': 1141, 'naya': 1029, 'unna': 1784, 'thoo': 1720, 'pesuna': 1290, 'kirukku': 768, 'surya': 1614, 'panren': 1222, 'gold': 515, 'mafia': 873, 'ennaku': 413, 'pochi': 1314, 'kudhi': 805, 'poitu': 1340, 'aalu': 29, 'elumbu': 389, 'ivala': 678, 'baby': 208, 'ile': 573, 'cancel': 254, 'pee': 1262, 'madri': 871, 'ippo': 618, 'age': 82, 'kastama': 735, 'theriyala': 1691, 'evanum': 462, 'extra': 468, 'yenda': 1986, 'velaiku': 1880, 'pundaigala': 1415, 'all': 96, 'involved': 607, 'tier': 1729, 'actor': 45, 'bigil': 230, '30': 16, 'too': 1736, 'viswasam': 1911, 'same': 1478, 'telugu': 1630, 'big': 228, 'pinna': 1307, 'loose': 846, 'avar': 195, 'panam': 1182, 'istam': 666, 'valikudhu': 1824, 'sothu': 1580, 'kodi': 778, 'dress': 359, 'veetula': 1873, 'mattanga': 912, 'angutu': 116, 'odra': 1071, 'poola': 1361, 'thooki': 1721, 'vaaila': 1805, 'mayiru': 922, 'pesunga': 1291, 'pol': 1341, 'kandu': 725, 'meeri': 927, 'kitte': 774, 'thevai': 1702, 'anga': 115, 'pera': 1267, 'adichu': 65, 'mavanae': 918, 'road': 1459, 'station': 1593, 'case': 256, 'yaa': 1965, 'kovathula': 800, 'kevalama': 762, 'know': 777, 'sorry': 1578, 'nyabagam': 1067, 'still': 1596, 'nenachu': 1040, 'kovam': 799, 'lockdown': 842, 'apdiye': 134, 'makkal': 880, 'nadu': 1003, 'eruku': 439, 'anils': 117, 'paiyan': 1166, 'thimiru': 1710, 'di': 341, 'vitutu': 1917, 'unoda': 1788, 'munnadi': 976, 'level': 834, 'feeling': 479, 'pathu': 1249, 'ishta': 664, 'used': 1797, 'poolu': 1362, 'right': 1456, 'asuran': 164, 'rply': 1465, 'waste': 1929, 'kekura': 748, 'frst': 501, 'eduka': 375, 'paaruda': 1138, 'thalaiva': 1641, 'illada': 575, 'evana': 459, 'reply': 1451, 'ennamo': 417, 'periya': 1268, 'madhri': 868, 'adhan': 55, 'loss': 850, 'sollranga': 1550, '300cr': 17, 'aache': 21, 'appdi': 144, 'ivaru': 686, 'tl': 1732, 'pakam': 1170, 'mams': 884, 'kai': 711, 'save': 1489, 'pesitu': 1287, 'irupanga': 656, 'matu': 915, 'evano': 461, 'kasta': 733, 'ethu': 449, 'theriuma': 1687, 'um': 1757, 'kiss': 771, 'adimai': 69, 'wife': 1944, 'pandren': 1188, 'cdp': 258, 'celebration': 259, 'ellarukum': 385, 'kudukura': 810, 'mairu': 877, 'pannala': 1197, 'una': 1762, 'panuvanga': 1226, 'ethuvum': 454, 'soli': 1541, 'pandringa': 1189, 'ulagam': 1755, 'design': 333, 'by': 249, 'koothiya': 796, '100cr': 3, 'soldra': 1540, 'ungotha': 1775, 'ungoppan': 1774, 'paiyale': 1165, 'ithellam': 671, 'payale': 1259, 'pundaiya': 1421, 'othu': 1122, 'gommala': 517, 'pothum': 1380, 'sunni': 1605, 'he': 535, 'unakku': 1764, 'therla': 1699, 'saavu': 1469, 'jaadhi': 688, 'appan': 141, 'kandippa': 724, 'avaru': 197, 'then': 1681, 'work': 1956, 'celebrities': 260, 'nanum': 1025, 'enakku': 394, 'perumaiya': 1276, 'erukku': 438, 'irundhu': 647, 'unnaku': 1785, 'own': 1129, 'podra': 1323, 'feelings': 480, 'panradhu': 1218, 'thappu': 1661, 'vj': 1918, 'yaaru': 1967, 'epd': 428, 'vacha': 1810, 'ava': 183, 'eppadi': 432, 'magan': 874, 'gomma': 516, 'paiyaa': 1164, 'oomala': 1097, 'sutha': 1615, 'press': 1395, 'nakki': 1006, 'yara': 1970, 'sola': 1538, 'ippadi': 616, 'rashmika': 1436, 'ungalukku': 1769, 'vendam': 1889, 'pesama': 1282, 'podunga': 1328, 'avala': 185, 'after': 77, 'long': 844, 'para': 1231, 'sa': 1468, 'new': 1048, 'rendu': 1449, 'partner': 1238, 'seri': 1508, 'paavam': 1145, 'ponalum': 1351, 'fun': 504, 'series': 1509, 'mukkiyam': 971, 'next': 1050, 'week': 1934, 'china': 275, 'jenmam': 689, 'kandaroli': 722, 'mavan': 917, 'bday': 218, 'look': 845, 'single': 1526, 'hi': 544, 'welcome': 1936, 'eppo': 433, 'kaga': 710, 'sotta': 1581, 'vgay': 1901, 'devidya': 334, 'epo': 430, 'polapuku': 1344, 'sethu': 1516, 'son': 1564, 'are': 154, 'as': 159, 'do': 349, 'people': 1265, 'bad': 212, 'scene': 1490, 'can': 253, 'behave': 224, 'ippa': 615, 'athuvum': 179, 'pass': 1242, 'pala': 1175, 'peruku': 1272, 'thaniya': 1655, 'muslim': 979, 'irukura': 642, 'friendship': 498, 'respect': 1453, 'sila': 1523, 'pathil': 1247, 'modi': 939, 'naayi': 998, 'im': 583, 'both': 242, 'ivanga': 682, 'thuuuu': 1728, 'podum': 1327, 'nane': 1022, 'velila': 1884, 'pls': 1311, 'poitan': 1338, 'enbathai': 397, 'vetri': 1899, 'pannuvan': 1213, 'illatha': 581, 'lyrics': 854, 'award': 203, 'pen': 1264, 'society': 1537, 'ponnunga': 1358, 'safe': 1472, 'aal': 27, 'paarthu': 1136, 'silar': 1524, 'macha': 861, 'media': 925, 'poranthavane': 1370, 'ipdila': 612, 'sapadu': 1482, 'padum': 1158, 'ipa': 608, 'modhalla': 938, 'plz': 1312, 'sollita': 1546, 'kudatha': 803, 'question': 1431, 'class': 281, 'star': 1590, '2nd': 15, 'dance': 318, 'hours': 552, 'cp': 307, 'avoid': 201, 'reach': 1438, 'poyi': 1390, 'favourite': 477, 'vadai': 1814, 'sunniya': 1606, 'idhellam': 559, 'oombuna': 1104, 'payalae': 1258, 'neelam': 1033, 'vayasula': 1863, 'avaluku': 187, 'see': 1496, 'apadi': 127, 'start': 1591, 'irukaga': 625, 'vachi': 1811, 'vayasu': 1862, 'varalaya': 1847, 'namakku': 1014, 'online': 1089, 'laye': 829, 'any': 125, 'porama': 1365, 'mattu': 913, 'manasuku': 889, 'illai': 577, 'agum': 84, 'advice': 75, 'nah': 1005, 'kids': 766, 'il': 566, 'kadai': 702, 'amp': 110, 'naadu': 986, 'endru': 402, 'pic': 1298, 'thirumbi': 1714, 'seekram': 1497, 'elarum': 382, 'onna': 1091, 'superb': 1609, 'was': 1928, 'nice': 1053, 'show': 1521, 'voice': 1920, 'sema': 1500, 'pesrathu': 1288, 'nejama': 1038, 'panu': 1224, 'yenga': 1987, 'report': 1452, 'pathen': 1245, 'ungomma': 1772, 'prove': 1401, 'tharkuri': 1665, 'koodhi': 794, 'oomba': 1098, 'enta': 423, 'varatha': 1850, 'kelu': 753, 'school': 1492, 'pudichutu': 1408, 'govt': 521, 'nanu': 1024, 'thirupi': 1715, 'idu': 564, 'nega': 1037, 'oombitu': 1102, 'kasu': 736, 'kuthu': 820, 'naai': 987, 'peruma': 1274, 'politics': 1346, 'pesatha': 1285, 'payala': 1257, 'iruparu': 659, 'try': 1744, 'panunga': 1225, 'munadi': 972, 'inta': 600, 'kuduka': 807, 'oombittu': 1101, 'aathala': 35, 'sex': 1517, 'dhana': 339, 'poite': 1339, 'irukanum': 628, 'umbu': 1760, 'paya': 1256, 'tharsan': 1666, 'sure': 1612, 'yow': 1995, 'theriyama': 1692, 'already': 98, 'poduvanga': 1332, 'pochu': 1315, 'poguthu': 1336, 'cha': 262, 'ivara': 685, 'pidikum': 1304, 'adei': 52, 'involve': 606, 'ur': 1793, 'etc': 443, 'areas': 155, 'kekutha': 749, 've': 1866, 'ilatha': 571, 'movane': 954, 'avane': 190, 'kannu': 727, 'padi': 1153, 'ipadi': 609, 'solrathu': 1559, 'dog': 351, 'unakaga': 1763, 'today': 1735, 'okka': 1078, 'audience': 181, 'ootha': 1108, 'profile': 1398, 'tym': 1751, 'edhuku': 371, 'iruken': 632, 'adi': 62, 'odu': 1072, 'athuthan': 178, 'kodutha': 784, '100': 1, 'kodumai': 782, 'kollanum': 787, 'page': 1159, 'pannen': 1203, 'vaila': 1818, 'athana': 169, 'thane': 1652, 'solura': 1562, 'unmaiya': 1782, 'parthu': 1237, 'delete': 332, 'sister': 1530, 'frd': 495, 'ninachu': 1055, 'background': 210, 'entha': 424, 'othutu': 1123, 'tharen': 1664, 'yedhuku': 1980, 'idhe': 558, 'publicity': 1404, 'matta': 911, 'therilana': 1683, 'yrs': 1996, 'solluvan': 1555, 'nandri': 1021, 'we': 1933, 'edutha': 376, 'upload': 1792, '1000': 2, 'views': 1909, 'aparam': 129, 'worst': 1959, 'ra': 1432, 'porathu': 1371, 'ethukku': 450, 'unta': 1789, 'junni': 695, 'pundaila': 1418, 'eruma': 440, 'public': 1403, 'inum': 605, 'item': 668, 'athigam': 172, 'compare': 293, 'equal': 435, 'vitu': 1916, 'patha': 1243, 'puriyum': 1427, 'mandi': 891, 'irutha': 662, 'porantha': 1369, 'has': 532, 'put': 1429, 'movies': 956, 'pakka': 1171, 'mass': 900, 'part': 1235, 'eduthutu': 378, 'varuthu': 1859, 'perumaya': 1277, 'vaya': 1861, 'muttal': 981, 'apuram': 151, 'irunthen': 651, 'pavam': 1255, 'naalaiku': 990, 'jolly': 692, 'aagi': 24, 'appadi': 139, 'concept': 295, 'board': 238, 'irupa': 654, 'apidi': 135, 'especially': 442, 'doctor': 350, 'pesanum': 1283, 'hope': 550, 'population': 1363, 'country': 305, 'harish': 531, 'pudikkum': 1409, 'pudikum': 1410, 'vekkam': 1875, 'kaaka': 698, 'varathu': 1851, 'verum': 1897, 'sariya': 1487, 'machan': 862, 'worry': 1958, 'papa': 1228, 'pakala': 1169, 'original': 1115, 'ala': 92, 'kk': 775, 'history': 548, 'orutha': 1117, 'active': 44, 'ids': 563, 'panran': 1219, 'kanna': 726, 'bigg': 229, 'boss': 241, 'interval': 602, 'block': 237, 'thanni': 1658, 'camera': 252, 'perutha': 1280, 'yuvan': 1998, 'serupadi': 1511, 'vaangi': 1807, 'social': 1536, 'pundainga': 1419, 'pinchu': 1305, 'agi': 83, 'team': 1629, 'youtube': 1993, 'vidunga': 1907, 'alu': 100, 'sk': 1534, 'thoda': 1718, 'ha': 528, 'katti': 740, 'endra': 401, 'poranga': 1368, 'mankatha': 894, 'bgm': 227, 'songs': 1568, 'vitta': 1913, 'date': 320, 'which': 1941, 'thavarana': 1671, 'years': 1979, 'psycho': 1402, 'aamai': 31, 'eruka': 437, 'pesura': 1292, 'ennala': 415, 'ponna': 1356, 'corana': 301, 'irai': 619, 'vazi': 1865, 'padu': 1157, 'madham': 866, 'ennam': 416, 'brain': 244, 'vendiya': 1890, 'ilama': 568, 'adhaan': 54, 'hrs': 553, 'padamae': 1150, 'perusaa': 1279, 'kuduthuchu': 814, 'amithab': 106, 'semaiyaa': 1501, 'ayushmann': 204, 'cool': 299, 'begum': 223, 'uyiroda': 1800, 'irupangala': 657, 'yarukku': 1973, 'pangu': 1191, 'kekkura': 747, 'kalichu': 714, 'ellathukum': 387, 'tq': 1738, 'nara': 1026, 'theru': 1700, 'koduka': 780, 'issue': 665, 'achu': 42, 'copy': 300, 'oombura': 1105, 'thaguthi': 1639, 'alavuku': 94, 'padatha': 1151, 'cold': 284, 'war': 1927, 'among': 109, 'mame': 883, 'irukaa': 624, 'mathire': 906, 'thadava': 1637, 'pannittu': 1206, 'solluranga': 1554, 'singam': 1525, 'paper': 1229, '10th': 4, 'kalla': 715, 'kisha': 770, 'veri': 1896, 'nadakum': 999, 'job': 690, 'if': 565, 'have': 534, 'without': 1952, 'gud': 523, 'thara': 1663, 'varaikkum': 1844, 'edha': 367, 'app': 137, 'view': 1908, 'evanda': 460, 'gotha': 519, 'pichakara': 1300, 'live': 840, 'let': 833, 'true': 1743, 'words': 1955, 'king': 767, 'enakum': 396, 'wish': 1948, 'expression': 467, 'queen': 1430, 'comedy': 288, 'image': 584, 'neeye': 1035, 'vaika': 1817, 'maatan': 858, 'oothu': 1109, 'padathula': 1152, 'flop': 486, 'vanithava': 1833, 'vote': 1921, 'etho': 448, 'mudivu': 964, 'motha': 952, 'mana': 886, 'sad': 1471, 'status': 1594, 'thavara': 1670, 'perumai': 1275, 'cheap': 267, 'poran': 1366, 'senthu': 1507, 'ponga': 1355, 'moonu': 947, 'solala': 1539, 'ungoma': 1771, 'inoru': 598, 'yaro': 1971, 'thing': 1711, 'coming': 289, 'raid': 1434, 'okkanum': 1079, 'against': 80, 'prblm': 1393, 'successfully': 1602, 'reached': 1439, 'followers': 488, 'within': 1951, 'giving': 512, 'ennakum': 414, 'tiruppi': 1731, 'vanthutukku': 1840, 'ilaya': 572, 'sollala': 1543, 'deep': 327, 'chinna': 276, 'puriyathu': 1426, 'sura': 1611, 'annan': 119, 'karuthu': 732, 'vekkama': 1876, 'magane': 875, 'paradesi': 1232, 'naaye': 997, 'pannatheenga': 1202, 'ovvoru': 1128, 'test': 1631, 'mavaney': 920, 'komali': 788, 'paapom': 1135, 'ini': 594, 'chii': 273, 'wheeling': 1939, 'logic': 843, 'thuu': 1727, 'naduvula': 1004, 'crt': 310, 'aunty': 182, 'kevalamana': 763, 'weight': 1935, 'before': 222, 'lays': 830, 'am': 102, 'irunthuchu': 653, 'mundai': 974, 'hate': 533, 'avara': 196, 'aval': 184, 'fleet': 485, 'niraya': 1057, 'vum': 1923, '14': 6, 'continue': 297, '15': 7, 'irunthalum': 650, 'pesi': 1286, 'sona': 1565, 'soothadi': 1576, 'vaanga': 1806, 'kazhuvi': 744, 'stalin': 1589, 'olaritu': 1080, 'care': 255, 'pathuko': 1250, 'kunju': 818, 'ready': 1441, 'nethu': 1046, 'athula': 177, 'vah': 1815, 'girls': 511, 'moodinu': 944, 'unmaya': 1783, 'irundhalum': 645, 'edho': 369, 'shot': 1520, 'she': 1519, 'daily': 316, 'channel': 265, 'laa': 823, 'ki': 764, 'worth': 1960, 'ungommala': 1773, 'kooti': 798, 'no1': 1060, 'whatsapp': 1938, 'seruppala': 1512, 'adikkanum': 67, 'appavum': 143, 'epudi': 434, 'vanthuchu': 1838, 'kadharu': 707, 'mathiriye': 908, 'bye': 250, 'nenachutu': 1041, 'ivanunga': 684, 'thaanda': 1636, 'ponu': 1359, 'podranga': 1325, 'kiruku': 769, 'apdilam': 131, '50': 18, 'padikka': 1156, 'senior': 1505, 'aamainga': 32, 'manasula': 890, 'palvadi': 1178, 'puriya': 1424, 'self': 1499, 'sakshi': 1475, 'shakshi': 1518, 'owner': 1130, 'mama': 882, 'neega': 1032, 'paaka': 1133, 'pesurathu': 1293, 'producer': 1397, 'oombinu': 1100, 'kanom': 728, 'thirumba': 1713, 'special': 1583, 'poll': 1347, 'soru': 1579, 'memes': 930, 'cut': 311, 'enkita': 409, 'sappi': 1483, 'pattu': 1253, 'perum': 1273, 'tu': 1745, 'onnume': 1094, 'guys': 527, 'kelatu': 752, 'vazhkai': 1864, 'gap': 507, 'pada': 1147, 'vekka': 1874, 'maariye': 857, 'ivanuku': 683, 'podran': 1324, 'vairu': 1820, 'character': 266, 'theriyudhu': 1695, 'yaarum': 1968, 'nnu': 1058, 'double': 354, 'evala': 456, 'madam': 865, 'kadan': 703, 'field': 481, 'out': 1125, 'market': 898, 'pottutu': 1384, 'pesara': 1284, 'odane': 1069, 'joseph': 693, 'caste': 257, 'paarunga': 1139, 'pannuven': 1216, 'panathu': 1185, 'hospital': 551, 'vali': 1823, 'rasiga': 1437, 'micham': 934, 'doubt': 355, 'edhachum': 368, 'did': 343, 'plan': 1309, 'therinja': 1684, 'thevidiyaluku': 1706, 'porandha': 1367, 'mundaiyae': 975, 'ithukku': 673, 'thookitu': 1722, 'naara': 996, 'sappu': 1484, '1m': 9, 'get': 508, 'mood': 943, 'favorite': 476, 'ethume': 453, 'stop': 1597, 'pudichi': 1406, 'chumma': 278, 'fulla': 503, 'iruke': 631, 'free': 496, 'enoda': 422, 'de': 323, 'nallava': 1011, 'dude': 360, 'yellarum': 1982, 'court': 306, 'sombu': 1563, 'panen': 1190, 'madhu': 869, 'middle': 935, 'type': 1752, 'thn': 1717, 'kuduthu': 813, 'deiii': 331, 'varai': 1843, 'role': 1461, 'kala': 712, 'bajari': 215, 'ennanu': 418, 'asith': 163, 'soon': 1574, 'wig': 1945, 'vachu': 1812, 'v2': 1801, 'situation': 1532, 'mathri': 909, 'ivalo': 679, 'unka': 1779, 'game': 506, 'guy': 526, 'him': 545, 'yarukum': 1974, 'meaning': 924, 'box': 243, 'varusham': 1857, 'varushama': 1858, 'naam': 992, 'katchi': 737, 'manam': 887, 'kandara': 720, 'tax': 1627, 'appadiye': 140, 'ipdiye': 613, 'venalum': 1887, 'thapu': 1662, 'polam': 1343, 'mola': 941, 'check': 268, 'degrade': 328, 'rls': 1458, 'death': 325, 'karanam': 729, 'god': 514, 'pinnadi': 1308, 'us': 1795, 'udane': 1753, 'pakkam': 1172, 'moodu': 946, 'comments': 291, 'µà': 1999, 'stupid': 1600, 'an': 111, 'achi': 41, 'koothiyane': 797, 'innaiku': 595, 'ninga': 1056, 'aaa': 20, 'man': 885, 'normal': 1061, 'vanthen': 1836, 'kodu': 779, 'los': 848, 'unfollow': 1766, 'padika': 1155, 'pundaingala': 1420, 'ippdi': 617, 'mathi': 905, 'billa': 232, 'pannalum': 1198, 'aaguthu': 26, 'odum': 1073, 'kavina': 742, 'vft': 1900, 'potum': 1386, 'avunga': 202, 'problem': 1396, 'katta': 739, 'ethum': 452, 'way': 1932, 'potalum': 1377, 'style': 1601, 'edhu': 370, 'adai': 50, '12': 5, 'film': 482, 'appuram': 146, 'scenes': 1491, 'nadantha': 1000, 'pei': 1263, 'aaga': 23, 'adikura': 68, '20': 11, 'join': 691, 'kudukka': 809, 'ipd': 610, 'explain': 466, 'irukurathu': 643, 'aravani': 153, 'epavum': 427, 'always': 101, 'irunga': 648, 'natpu': 1028, 'unity': 1778, 'suthadi': 1616, 'rendume': 1450, 'thalaivaa': 1642, 'step': 1595, 'enjoy': 408, 'kadavule': 705, 'arr': 157, 'wishes': 1949, 'neraiya': 1043, 'adu': 71, 'second': 1495, 'doing': 352, 'come': 287, 'rural': 1467, 'city': 280, 'soothu': 1577, 'sonnen': 1573, 'irupen': 660, 'siripu': 1528, 'podhu': 1320, 'sugam': 1603, 'vakku': 1822, 'mam': 881, 'form': 493, 'tamilnadu': 1624, 'eagerly': 363, 'kalaam': 713, 'athisayam': 173, 'why': 1943, 'create': 308, 'government': 520, 'kettu': 759, 'bless': 236, 'forever': 492, 'sivaji': 1533, 'anta': 120, 'adraa': 70, 'teacher': 1628, 'vanthathu': 1835, 'seruppu': 1513, 'may': 921, 'kelambu': 750, 'theriyadha': 1689, 'sanghi': 1480, 'pundaiku': 1417, 'tamizh': 1625, 'irrukeenga': 620, 'suthi': 1617, 'pandrathu': 1187, 'industry': 592, 'inthe': 604, 'kodumaiya': 783, 'gundu': 525, 'dialogue': 342, 'ilanu': 570, 'thandanai': 1651, 'pannuvaanga': 1212, 'apaditha': 128, 'pause': 1254, 'ad': 48, 'matha': 903, 'koduku': 781, 'think': 1712, 'uyir': 1799, 'mukiyam': 969, 'kudukanum': 808, 'prechana': 1394, 'paithiyakara': 1161, 'speed': 1584, 'pogum': 1335, 'madurai': 872, 'solren': 1560, 'thagudhi': 1638, 'wrong': 1962, 'ooru': 1107, 'padichu': 1154, 'apro': 149, 'making': 879, 'nallave': 1012, 'inda': 589, 'thayolinga': 1674, 'povadhu': 1388, 'kola': 786, 'control': 298, 'engayo': 406, 'kelattu': 751, 'fraud': 494, 'illadha': 576, 'count': 304, 'abishek': 36, 'pondati': 1352, 'pakki': 1174, 'starting': 1592, 'sarkar': 1488, 'erunga': 441, 'wagers': 1924, 'pidikalana': 1303, 'anupuren': 124, 'edhum': 372, 'puriyala': 1425, 'system': 1619, 'liya': 841, 'guess': 524, 'push': 1428, 'frnd': 499, 'panuvaru': 1227, 'serious': 1510, 'uniform': 1776, 'paathuttu': 1143, 'maaten': 859, 'unkitta': 1780, 'apdinu': 132, 'irupan': 655, 'avalavu': 186, 'thatha': 1668, 'anupu': 123, 'athanala': 170, 'censor': 261, 'yes': 1989, 'clear': 282, 'palaya': 1176, 'mokka': 940, 'note': 1063, 'them': 1680, 'kaasula': 701, 'dhaanda': 337, 'podama': 1317, 'mukki': 970, 'vidiya': 1905, 'kum': 816, 'pannuvaru': 1215, 'pics': 1301, 'their': 1679}\n"
          ],
          "name": "stdout"
        }
      ]
    },
    {
      "cell_type": "markdown",
      "metadata": {
        "id": "itH9qjJUrFE1"
      },
      "source": [
        "# **Naive Bayes**"
      ]
    },
    {
      "cell_type": "code",
      "metadata": {
        "colab": {
          "base_uri": "https://localhost:8080/"
        },
        "id": "L3_bbPQrn-Mo",
        "outputId": "b932b608-0226-455a-b461-9b30bb08ac76"
      },
      "source": [
        "# fit the training dataset on the NB classifier\n",
        "Naive = naive_bayes.MultinomialNB()\n",
        "Naive.fit(X_train,y_train)"
      ],
      "execution_count": 31,
      "outputs": [
        {
          "output_type": "execute_result",
          "data": {
            "text/plain": [
              "MultinomialNB(alpha=1.0, class_prior=None, fit_prior=True)"
            ]
          },
          "metadata": {
            "tags": []
          },
          "execution_count": 31
        }
      ]
    },
    {
      "cell_type": "code",
      "metadata": {
        "id": "bz8iBVHyn-Jw",
        "colab": {
          "base_uri": "https://localhost:8080/"
        },
        "outputId": "87e6eca5-0e12-4806-aa9b-0980d4d760c4"
      },
      "source": [
        "# predict the dev dataset\n",
        "pred_NB = Naive.predict(X_dev)\n",
        "\n",
        "print(confusion_matrix(y_dev,pred_NB)) \n",
        "print(classification_report(y_dev,pred_NB))"
      ],
      "execution_count": 32,
      "outputs": [
        {
          "output_type": "stream",
          "text": [
            "[[525 105]\n",
            " [ 96 474]]\n",
            "              precision    recall  f1-score   support\n",
            "\n",
            "           0       0.85      0.83      0.84       630\n",
            "           1       0.82      0.83      0.83       570\n",
            "\n",
            "    accuracy                           0.83      1200\n",
            "   macro avg       0.83      0.83      0.83      1200\n",
            "weighted avg       0.83      0.83      0.83      1200\n",
            "\n"
          ],
          "name": "stdout"
        }
      ]
    },
    {
      "cell_type": "code",
      "metadata": {
        "id": "xH98J--In-Dn",
        "colab": {
          "base_uri": "https://localhost:8080/"
        },
        "outputId": "c5bd952a-f0db-41b3-e712-acd2da0aec67"
      },
      "source": [
        "# predict the test data\n",
        "pred_NB_test = Naive.predict(X_test)\n",
        "\n",
        "print(confusion_matrix(y_test,pred_NB_test)) \n",
        "print(classification_report(y_test,pred_NB_test))"
      ],
      "execution_count": 33,
      "outputs": [
        {
          "output_type": "stream",
          "text": [
            "[[398  67]\n",
            " [ 79 396]]\n",
            "              precision    recall  f1-score   support\n",
            "\n",
            "           0       0.83      0.86      0.85       465\n",
            "           1       0.86      0.83      0.84       475\n",
            "\n",
            "    accuracy                           0.84       940\n",
            "   macro avg       0.84      0.84      0.84       940\n",
            "weighted avg       0.84      0.84      0.84       940\n",
            "\n"
          ],
          "name": "stdout"
        }
      ]
    },
    {
      "cell_type": "markdown",
      "metadata": {
        "id": "1EPjo8qzrcN7"
      },
      "source": [
        "#**Support Vector Machine**"
      ]
    },
    {
      "cell_type": "code",
      "metadata": {
        "colab": {
          "base_uri": "https://localhost:8080/"
        },
        "id": "-haGr7IMn99x",
        "outputId": "36e22f3a-e37a-445b-ab3c-acef8f0d84f1"
      },
      "source": [
        "# fit the training dataset on the SVM classifier\n",
        "SVM = svm.SVC(C=1.0, kernel='linear', degree=3, gamma='auto')\n",
        "SVM.fit(X_train,y_train)"
      ],
      "execution_count": 34,
      "outputs": [
        {
          "output_type": "execute_result",
          "data": {
            "text/plain": [
              "SVC(C=1.0, break_ties=False, cache_size=200, class_weight=None, coef0=0.0,\n",
              "    decision_function_shape='ovr', degree=3, gamma='auto', kernel='linear',\n",
              "    max_iter=-1, probability=False, random_state=None, shrinking=True,\n",
              "    tol=0.001, verbose=False)"
            ]
          },
          "metadata": {
            "tags": []
          },
          "execution_count": 34
        }
      ]
    },
    {
      "cell_type": "code",
      "metadata": {
        "id": "FtgtUM8urfPB",
        "colab": {
          "base_uri": "https://localhost:8080/"
        },
        "outputId": "06012ff3-a9c7-437e-c41d-c74ca753ebe3"
      },
      "source": [
        "# predict the dev dataset\n",
        "pred_SVM = SVM.predict(X_dev)\n",
        "\n",
        "print(confusion_matrix(y_dev,pred_SVM)) \n",
        "print(classification_report(y_dev,pred_SVM))"
      ],
      "execution_count": 35,
      "outputs": [
        {
          "output_type": "stream",
          "text": [
            "[[528 102]\n",
            " [105 465]]\n",
            "              precision    recall  f1-score   support\n",
            "\n",
            "           0       0.83      0.84      0.84       630\n",
            "           1       0.82      0.82      0.82       570\n",
            "\n",
            "    accuracy                           0.83      1200\n",
            "   macro avg       0.83      0.83      0.83      1200\n",
            "weighted avg       0.83      0.83      0.83      1200\n",
            "\n"
          ],
          "name": "stdout"
        }
      ]
    },
    {
      "cell_type": "code",
      "metadata": {
        "id": "ZLsJfHfarfJI",
        "colab": {
          "base_uri": "https://localhost:8080/"
        },
        "outputId": "3eb5ff4f-8a99-4c34-f2aa-5b8fe0c08eec"
      },
      "source": [
        "# predict the test dataset\n",
        "pred_SVM_test = SVM.predict(X_test)\n",
        "\n",
        "print(confusion_matrix(y_test,pred_SVM_test)) \n",
        "print(classification_report(y_test,pred_SVM_test))"
      ],
      "execution_count": 36,
      "outputs": [
        {
          "output_type": "stream",
          "text": [
            "[[366  99]\n",
            " [ 70 405]]\n",
            "              precision    recall  f1-score   support\n",
            "\n",
            "           0       0.84      0.79      0.81       465\n",
            "           1       0.80      0.85      0.83       475\n",
            "\n",
            "    accuracy                           0.82       940\n",
            "   macro avg       0.82      0.82      0.82       940\n",
            "weighted avg       0.82      0.82      0.82       940\n",
            "\n"
          ],
          "name": "stdout"
        }
      ]
    },
    {
      "cell_type": "markdown",
      "metadata": {
        "id": "jUCFlBoVsKR3"
      },
      "source": [
        "# **Logistic Regression**"
      ]
    },
    {
      "cell_type": "code",
      "metadata": {
        "colab": {
          "base_uri": "https://localhost:8080/"
        },
        "id": "3EFtKbfIrfGv",
        "outputId": "aa6a4d34-7890-408a-a27e-cadb00b0fd39"
      },
      "source": [
        "# fit the training dataset on the LR classifier\n",
        "lr = LogisticRegression(C=2,class_weight = 'balanced')\n",
        "lr.fit(X_train,y_train)"
      ],
      "execution_count": 37,
      "outputs": [
        {
          "output_type": "execute_result",
          "data": {
            "text/plain": [
              "LogisticRegression(C=2, class_weight='balanced', dual=False, fit_intercept=True,\n",
              "                   intercept_scaling=1, l1_ratio=None, max_iter=100,\n",
              "                   multi_class='auto', n_jobs=None, penalty='l2',\n",
              "                   random_state=None, solver='lbfgs', tol=0.0001, verbose=0,\n",
              "                   warm_start=False)"
            ]
          },
          "metadata": {
            "tags": []
          },
          "execution_count": 37
        }
      ]
    },
    {
      "cell_type": "code",
      "metadata": {
        "id": "0VhXTycprfDh",
        "colab": {
          "base_uri": "https://localhost:8080/"
        },
        "outputId": "16f79890-de48-463e-9b2d-cacf324c5696"
      },
      "source": [
        "# predict the dev dataset\n",
        "pred_LR = lr.predict(X_dev)\n",
        "\n",
        "print(confusion_matrix(y_dev,pred_LR)) \n",
        "print(classification_report(y_dev,pred_LR))"
      ],
      "execution_count": 38,
      "outputs": [
        {
          "output_type": "stream",
          "text": [
            "[[526 104]\n",
            " [105 465]]\n",
            "              precision    recall  f1-score   support\n",
            "\n",
            "           0       0.83      0.83      0.83       630\n",
            "           1       0.82      0.82      0.82       570\n",
            "\n",
            "    accuracy                           0.83      1200\n",
            "   macro avg       0.83      0.83      0.83      1200\n",
            "weighted avg       0.83      0.83      0.83      1200\n",
            "\n"
          ],
          "name": "stdout"
        }
      ]
    },
    {
      "cell_type": "code",
      "metadata": {
        "id": "e5mNQMzdre9x",
        "colab": {
          "base_uri": "https://localhost:8080/"
        },
        "outputId": "9e496f3f-c3b8-43db-f82a-46e8df556d47"
      },
      "source": [
        "# predict the test dataset\n",
        "pred_LR_test = lr.predict(X_test)\n",
        "\n",
        "print(confusion_matrix(y_test,pred_LR_test)) \n",
        "print(classification_report(y_test,pred_LR_test))"
      ],
      "execution_count": 39,
      "outputs": [
        {
          "output_type": "stream",
          "text": [
            "[[381  84]\n",
            " [ 58 417]]\n",
            "              precision    recall  f1-score   support\n",
            "\n",
            "           0       0.87      0.82      0.84       465\n",
            "           1       0.83      0.88      0.85       475\n",
            "\n",
            "    accuracy                           0.85       940\n",
            "   macro avg       0.85      0.85      0.85       940\n",
            "weighted avg       0.85      0.85      0.85       940\n",
            "\n"
          ],
          "name": "stdout"
        }
      ]
    },
    {
      "cell_type": "markdown",
      "metadata": {
        "id": "hvtJkdtKBqwg"
      },
      "source": [
        "# **Random** **Forest**"
      ]
    },
    {
      "cell_type": "code",
      "metadata": {
        "id": "XZLjYWt8tdFo",
        "colab": {
          "base_uri": "https://localhost:8080/"
        },
        "outputId": "8157e0d5-0715-49b6-e6cc-9c72e36f6019"
      },
      "source": [
        "sc_X = StandardScaler(with_mean=False)\n",
        "X_Train_RF = sc_X.fit_transform(X_train)\n",
        "X_dev_RF = sc_X.transform(X_dev)\n",
        "X_test_RF = sc_X.transform(X_test)\n",
        "\n",
        "#Classifier\n",
        "classifier = RandomForestClassifier(n_estimators = 100, criterion = 'entropy', random_state = 0)\n",
        "classifier.fit(X_Train_RF,y_train)"
      ],
      "execution_count": 40,
      "outputs": [
        {
          "output_type": "execute_result",
          "data": {
            "text/plain": [
              "RandomForestClassifier(bootstrap=True, ccp_alpha=0.0, class_weight=None,\n",
              "                       criterion='entropy', max_depth=None, max_features='auto',\n",
              "                       max_leaf_nodes=None, max_samples=None,\n",
              "                       min_impurity_decrease=0.0, min_impurity_split=None,\n",
              "                       min_samples_leaf=1, min_samples_split=2,\n",
              "                       min_weight_fraction_leaf=0.0, n_estimators=100,\n",
              "                       n_jobs=None, oob_score=False, random_state=0, verbose=0,\n",
              "                       warm_start=False)"
            ]
          },
          "metadata": {
            "tags": []
          },
          "execution_count": 40
        }
      ]
    },
    {
      "cell_type": "code",
      "metadata": {
        "id": "dmyGIN_d2I7z",
        "colab": {
          "base_uri": "https://localhost:8080/"
        },
        "outputId": "3b7323b5-f995-42ba-b0e2-55519d60426b"
      },
      "source": [
        "# Predicting the dev dataset \n",
        "pred_RF = classifier.predict(X_dev_RF)\n",
        "\n",
        "print(confusion_matrix(y_dev,pred_RF)) \n",
        "print(classification_report(y_dev,pred_RF))"
      ],
      "execution_count": 41,
      "outputs": [
        {
          "output_type": "stream",
          "text": [
            "[[524 106]\n",
            " [113 457]]\n",
            "              precision    recall  f1-score   support\n",
            "\n",
            "           0       0.82      0.83      0.83       630\n",
            "           1       0.81      0.80      0.81       570\n",
            "\n",
            "    accuracy                           0.82      1200\n",
            "   macro avg       0.82      0.82      0.82      1200\n",
            "weighted avg       0.82      0.82      0.82      1200\n",
            "\n"
          ],
          "name": "stdout"
        }
      ]
    },
    {
      "cell_type": "code",
      "metadata": {
        "id": "QU9CKo2KuL5k",
        "colab": {
          "base_uri": "https://localhost:8080/"
        },
        "outputId": "e06ae2c1-c3d7-443e-e5ef-a10ff6a9a29d"
      },
      "source": [
        "# Predicting the test dataset \n",
        "pred_RF_test = classifier.predict(X_test_RF)\n",
        "\n",
        "print(confusion_matrix(y_test,pred_RF_test)) \n",
        "print(classification_report(y_test,pred_RF_test))"
      ],
      "execution_count": 42,
      "outputs": [
        {
          "output_type": "stream",
          "text": [
            "[[336 129]\n",
            " [ 45 430]]\n",
            "              precision    recall  f1-score   support\n",
            "\n",
            "           0       0.88      0.72      0.79       465\n",
            "           1       0.77      0.91      0.83       475\n",
            "\n",
            "    accuracy                           0.81       940\n",
            "   macro avg       0.83      0.81      0.81       940\n",
            "weighted avg       0.82      0.81      0.81       940\n",
            "\n"
          ],
          "name": "stdout"
        }
      ]
    }
  ]
}